{
 "cells": [
  {
   "cell_type": "code",
   "execution_count": 2,
   "metadata": {},
   "outputs": [],
   "source": [
    "import torch\n",
    "\n",
    "import torch.nn as nn\n",
    "import torch.nn.functional as F\n",
    "import torch.optim as optim\n",
    "\n",
    "from torchvision import datasets, transforms"
   ]
  },
  {
   "cell_type": "code",
   "execution_count": 3,
   "metadata": {},
   "outputs": [],
   "source": [
    "seed = 1\n",
    "\n",
    "lr = 0.001\n",
    "momentum = 0.5\n",
    "\n",
    "batch_size = 64\n",
    "test_batch_size = 64\n",
    "\n",
    "epochs = 5\n",
    "\n",
    "no_cuda = False\n",
    "log_interval = 100"
   ]
  },
  {
   "cell_type": "code",
   "execution_count": null,
   "metadata": {},
   "outputs": [],
   "source": [
    "# tensorflow : (28, 28, 1)\n",
    "# pytorch : (1, 28, 28)"
   ]
  },
  {
   "cell_type": "code",
   "execution_count": 5,
   "metadata": {},
   "outputs": [],
   "source": [
    "# Model\n",
    "\n",
    "class Net(nn.Module):\n",
    "    def __init__(self):\n",
    "        super(Net, self).__init__()\n",
    "        self.conv1 = nn.Conv2d(3, 20, 5, 1)\n",
    "        self.conv2 = nn.Conv2d(20, 50, 5, 1)\n",
    "        self.fc1 = nn.Linear(4*4*50, 500)\n",
    "        self.fc2 = nn.Linear(500, 10)\n",
    "        \n",
    "    def forward(self, x):\n",
    "        x = F.relu(self.conv1(x))\n",
    "        x = F.max_pool2d(x, 2, 2)\n",
    "        x = F.relu(self.conv2(x))\n",
    "        x = F.max_pool2d(x, 2, 2)\n",
    "        x = x.view(-1, 4*4*50)\n",
    "        x = F.relu(self.fc1(x))\n",
    "        x = self.fc2(x)\n",
    "        return F.log_softmax(x, dim=1)"
   ]
  },
  {
   "cell_type": "code",
   "execution_count": 6,
   "metadata": {},
   "outputs": [],
   "source": [
    "# Prepocess\n",
    "\n",
    "import os"
   ]
  },
  {
   "cell_type": "code",
   "execution_count": 8,
   "metadata": {},
   "outputs": [
    {
     "data": {
      "text/plain": [
       "['.DS_Store', '0', '1', '2', '3', '4', '5', '6', '7', '8', '9']"
      ]
     },
     "execution_count": 8,
     "metadata": {},
     "output_type": "execute_result"
    }
   ],
   "source": [
    "sorted(os.listdir('../../data/dataset/mnist_png/training/'))"
   ]
  },
  {
   "cell_type": "code",
   "execution_count": 9,
   "metadata": {},
   "outputs": [],
   "source": [
    "train_dir = '../../data/dataset/mnist_png/training'\n",
    "test_dir = '../../data/dataset/mnist_png/testing'"
   ]
  },
  {
   "cell_type": "code",
   "execution_count": 11,
   "metadata": {},
   "outputs": [],
   "source": [
    "torch.manual_seed(seed)\n",
    "\n",
    "use_cuda = not no_cuda and torch.cuda.is_available()\n",
    "device = torch.device(\"cuda\" if use_cuda else \"cpu\")"
   ]
  },
  {
   "cell_type": "code",
   "execution_count": 12,
   "metadata": {},
   "outputs": [],
   "source": [
    "train_dataset = datasets.ImageFolder(root=train_dir,\n",
    "                                    transform=transforms.Compose([\n",
    "                                        transforms.ToTensor(),\n",
    "                                        transforms.Normalize((0.1307,), (0.3081,))\n",
    "                                    ]))\n",
    "\n",
    "test_dataset = datasets.ImageFolder(root=test_dir,\n",
    "                                   transform=transforms.Compose([\n",
    "                                        transforms.ToTensor(),\n",
    "                                        transforms.Normalize((0.1307,), (0.3081,))\n",
    "                                   ]))\n"
   ]
  },
  {
   "cell_type": "code",
   "execution_count": 13,
   "metadata": {},
   "outputs": [],
   "source": [
    "train_loader = torch.utils.data.DataLoader(train_dataset,\n",
    "                                          batch_size=batch_size,\n",
    "                                          shuffle=True)\n",
    "\n",
    "test_loader = torch.utils.data.DataLoader(test_dataset,\n",
    "                                          batch_size=batch_size,\n",
    "                                          shuffle=False)"
   ]
  },
  {
   "cell_type": "code",
   "execution_count": 14,
   "metadata": {},
   "outputs": [],
   "source": [
    "# Optimization\n",
    "\n",
    "model = Net().to(device)\n",
    "optimizer = optim.SGD(model.parameters(), lr=lr, momentum=momentum)"
   ]
  },
  {
   "cell_type": "code",
   "execution_count": 16,
   "metadata": {},
   "outputs": [
    {
     "name": "stdout",
     "output_type": "stream",
     "text": [
      "Train Epoch: 1 [0/60000 (0%)]\tLoss: 2.076938\n",
      "Train Epoch: 1 [6400/60000 (11%)]\tLoss: 1.722558\n",
      "Train Epoch: 1 [12800/60000 (21%)]\tLoss: 1.331144\n",
      "Train Epoch: 1 [19200/60000 (32%)]\tLoss: 0.587047\n",
      "Train Epoch: 1 [25600/60000 (43%)]\tLoss: 0.409746\n",
      "Train Epoch: 1 [32000/60000 (53%)]\tLoss: 0.555121\n",
      "Train Epoch: 1 [38400/60000 (64%)]\tLoss: 0.524024\n",
      "Train Epoch: 1 [44800/60000 (75%)]\tLoss: 0.675466\n",
      "Train Epoch: 1 [51200/60000 (85%)]\tLoss: 0.428546\n",
      "Train Epoch: 1 [57600/60000 (96%)]\tLoss: 0.215653\n",
      "\n",
      "Test set: Average loss: 0.3227, Accuracy: 9075/10000 (91%)\n",
      "\n",
      "Train Epoch: 2 [0/60000 (0%)]\tLoss: 0.392473\n",
      "Train Epoch: 2 [6400/60000 (11%)]\tLoss: 0.310485\n",
      "Train Epoch: 2 [12800/60000 (21%)]\tLoss: 0.467251\n",
      "Train Epoch: 2 [19200/60000 (32%)]\tLoss: 0.380238\n",
      "Train Epoch: 2 [25600/60000 (43%)]\tLoss: 0.417933\n",
      "Train Epoch: 2 [32000/60000 (53%)]\tLoss: 0.167031\n",
      "Train Epoch: 2 [38400/60000 (64%)]\tLoss: 0.447830\n",
      "Train Epoch: 2 [44800/60000 (75%)]\tLoss: 0.289363\n",
      "Train Epoch: 2 [51200/60000 (85%)]\tLoss: 0.255886\n",
      "Train Epoch: 2 [57600/60000 (96%)]\tLoss: 0.324403\n",
      "\n",
      "Test set: Average loss: 0.2207, Accuracy: 9354/10000 (94%)\n",
      "\n",
      "Train Epoch: 3 [0/60000 (0%)]\tLoss: 0.216364\n",
      "Train Epoch: 3 [6400/60000 (11%)]\tLoss: 0.306480\n",
      "Train Epoch: 3 [12800/60000 (21%)]\tLoss: 0.304586\n",
      "Train Epoch: 3 [19200/60000 (32%)]\tLoss: 0.335240\n",
      "Train Epoch: 3 [25600/60000 (43%)]\tLoss: 0.178651\n",
      "Train Epoch: 3 [32000/60000 (53%)]\tLoss: 0.176817\n",
      "Train Epoch: 3 [38400/60000 (64%)]\tLoss: 0.251053\n",
      "Train Epoch: 3 [44800/60000 (75%)]\tLoss: 0.115705\n",
      "Train Epoch: 3 [51200/60000 (85%)]\tLoss: 0.151628\n",
      "Train Epoch: 3 [57600/60000 (96%)]\tLoss: 0.300124\n",
      "\n",
      "Test set: Average loss: 0.1633, Accuracy: 9541/10000 (95%)\n",
      "\n",
      "Train Epoch: 4 [0/60000 (0%)]\tLoss: 0.213415\n",
      "Train Epoch: 4 [6400/60000 (11%)]\tLoss: 0.379496\n",
      "Train Epoch: 4 [12800/60000 (21%)]\tLoss: 0.275267\n",
      "Train Epoch: 4 [19200/60000 (32%)]\tLoss: 0.185676\n",
      "Train Epoch: 4 [25600/60000 (43%)]\tLoss: 0.080755\n",
      "Train Epoch: 4 [32000/60000 (53%)]\tLoss: 0.167262\n",
      "Train Epoch: 4 [38400/60000 (64%)]\tLoss: 0.146688\n",
      "Train Epoch: 4 [44800/60000 (75%)]\tLoss: 0.075861\n",
      "Train Epoch: 4 [51200/60000 (85%)]\tLoss: 0.117831\n",
      "Train Epoch: 4 [57600/60000 (96%)]\tLoss: 0.069467\n",
      "\n",
      "Test set: Average loss: 0.1362, Accuracy: 9608/10000 (96%)\n",
      "\n",
      "Train Epoch: 5 [0/60000 (0%)]\tLoss: 0.056431\n",
      "Train Epoch: 5 [6400/60000 (11%)]\tLoss: 0.091439\n",
      "Train Epoch: 5 [12800/60000 (21%)]\tLoss: 0.166084\n",
      "Train Epoch: 5 [19200/60000 (32%)]\tLoss: 0.042758\n",
      "Train Epoch: 5 [25600/60000 (43%)]\tLoss: 0.171395\n",
      "Train Epoch: 5 [32000/60000 (53%)]\tLoss: 0.069087\n",
      "Train Epoch: 5 [38400/60000 (64%)]\tLoss: 0.065633\n",
      "Train Epoch: 5 [44800/60000 (75%)]\tLoss: 0.031365\n",
      "Train Epoch: 5 [51200/60000 (85%)]\tLoss: 0.067585\n",
      "Train Epoch: 5 [57600/60000 (96%)]\tLoss: 0.235384\n",
      "\n",
      "Test set: Average loss: 0.1156, Accuracy: 9682/10000 (97%)\n",
      "\n"
     ]
    }
   ],
   "source": [
    "for epoch in range(1, epochs + 1):\n",
    "    # Train Mode\n",
    "    model.train()\n",
    "    \n",
    "    for batch_idx, (data, target) in enumerate(train_loader):\n",
    "        data, target = data.to(device), target.to(device)\n",
    "        optimizer.zero_grad()    # backpropagation 계산하기 전에 0으로 기울기 계산\n",
    "        output = model(data)\n",
    "        loss = F.nll_loss(output, target)\n",
    "        loss.backward()\n",
    "        optimizer.step()\n",
    "        \n",
    "        if batch_idx % log_interval == 0:\n",
    "            print('Train Epoch: {} [{}/{} ({:.0f}%)]\\tLoss: {:.6f}'.format(\n",
    "            epoch, batch_idx * len(data), len(train_loader.dataset),\n",
    "                100. * batch_idx / len(train_loader), loss.item()))\n",
    "                  \n",
    "    # Test Mode\n",
    "    model.eval()    # batch norm이나 dropout 등을 train mode 변환\n",
    "    test_loss = 0\n",
    "    correct = 0\n",
    "    with torch.no_grad():\n",
    "        for data, target in test_loader:    # autograd engine, 즉 backpropagation 이나 gradient 계산 등을 꺼서 memory usage를 줄이고 속도를 높임\n",
    "            data, target = data.to(device), target.to(device)\n",
    "            output = model(data)\n",
    "            test_loss += F.nll_loss(output, target, reduction='sum').item()    # sum up batch loss\n",
    "            pred = output.argmax(dim=1, keepdim=True)    # get the index of the max log-probabillity\n",
    "            correct += pred.eq(target.view_as(pred)).sum().item()    # pred와 target과 같은지 확인\n",
    "            \n",
    "    test_loss /= len(test_loader.dataset)\n",
    "    \n",
    "    print('\\nTest set: Average loss: {:.4f}, Accuracy: {}/{} ({:.0f}%)\\n'.format(\n",
    "        test_loss, correct, len(test_loader.dataset),\n",
    "        100. * correct / len(test_loader.dataset)))"
   ]
  },
  {
   "cell_type": "code",
   "execution_count": null,
   "metadata": {},
   "outputs": [],
   "source": []
  }
 ],
 "metadata": {
  "kernelspec": {
   "display_name": "Python 3",
   "language": "python",
   "name": "python3"
  },
  "language_info": {
   "codemirror_mode": {
    "name": "ipython",
    "version": 3
   },
   "file_extension": ".py",
   "mimetype": "text/x-python",
   "name": "python",
   "nbconvert_exporter": "python",
   "pygments_lexer": "ipython3",
   "version": "3.8.5"
  }
 },
 "nbformat": 4,
 "nbformat_minor": 4
}
