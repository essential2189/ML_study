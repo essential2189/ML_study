{
 "cells": [
  {
   "cell_type": "code",
   "execution_count": 1,
   "metadata": {},
   "outputs": [],
   "source": [
    "import tensorflow as tf\n",
    "import numpy as np"
   ]
  },
  {
   "cell_type": "code",
   "execution_count": 2,
   "metadata": {},
   "outputs": [],
   "source": [
    "epochs = 10"
   ]
  },
  {
   "cell_type": "code",
   "execution_count": 3,
   "metadata": {},
   "outputs": [],
   "source": [
    "class ConvNet(tf.keras.Model):\n",
    "    def __init__(self):\n",
    "        super(MyModel, self).__init__()\n",
    "        self.sequence = list()\n",
    "        conv2d = tf.keras.layers.Conv2D\n",
    "        maxpool = tf.keras.layers.MaxPool2D\n",
    "        self.sequence.append(conv2d(16, (3, 3), padding='same', activation='relu'))    # 28x28x1 -> 3x3x1x16 -> 28x28x16 (layer-output, (kernal size))\n",
    "        self.sequence.append(conv2d(16, (3, 3), padding='same', activation='relu'))    # 28x28x16\n",
    "        self.sequence.append(maxpool((2, 2)))    # 14x14x16\n",
    "        self.sequence.append(conv2d(32, (3, 3), padding='same', activation='relu'))    # 14x14x32\n",
    "        self.sequence.append(conv2d(32, (3, 3), padding='same', activation='relu'))    # 14x14x32\n",
    "        self.sequence.append(maxpool((2, 2)))    # 7x7x32\n",
    "        self.sequence.append(conv2d(64, (3, 3), padding='same', activation='relu'))    # 7x7x64\n",
    "        self.sequence.append(conv2d(64, (3, 3), padding='same', activation='relu'))    # 7x7x64\n",
    "        self.sequence.append(tf.keras.layers.Flatten())   # 1568\n",
    "        self.sequence.append(tf.keras.layers.Dense(2048, activation='relu'))\n",
    "        self.sequence.append(tf.keras.layers.Dense(10, activation='softmax'))\n",
    "        \n",
    "    def call(self, x, training=False, mask=None):\n",
    "        for layer in self.sequence:\n",
    "            x = layer(x)\n",
    "        return x"
   ]
  },
  {
   "cell_type": "code",
   "execution_count": null,
   "metadata": {},
   "outputs": [],
   "source": [
    "@tf.function\n"
   ]
  }
 ],
 "metadata": {
  "kernelspec": {
   "display_name": "Python 3",
   "language": "python",
   "name": "python3"
  },
  "language_info": {
   "codemirror_mode": {
    "name": "ipython",
    "version": 3
   },
   "file_extension": ".py",
   "mimetype": "text/x-python",
   "name": "python",
   "nbconvert_exporter": "python",
   "pygments_lexer": "ipython3",
   "version": "3.8.5"
  }
 },
 "nbformat": 4,
 "nbformat_minor": 4
}
