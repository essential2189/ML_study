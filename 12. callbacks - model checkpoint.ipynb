{
 "cells": [
  {
   "cell_type": "code",
   "execution_count": 1,
   "metadata": {},
   "outputs": [],
   "source": [
    "import os\n",
    "from glob import glob\n",
    "from datetime import datetime\n",
    "\n",
    "import numpy as np\n",
    "import tensorflow as tf\n",
    "from tensorflow.keras import layers\n",
    "\n",
    "from tensorflow.keras import datasets\n",
    "\n",
    "import matplotlib.pyplot as plt\n",
    "%matplotlib inline\n",
    "%load_ext tensorboard"
   ]
  },
  {
   "cell_type": "code",
   "execution_count": 2,
   "metadata": {},
   "outputs": [],
   "source": [
    "num_epochs = 20\n",
    "batch_size = 32\n",
    "\n",
    "learning_rate = 0.001\n",
    "dropout_rate = 0.5\n",
    "\n",
    "input_shape = (32, 32, 3)\n",
    "num_classes = 10"
   ]
  },
  {
   "cell_type": "code",
   "execution_count": 3,
   "metadata": {},
   "outputs": [],
   "source": [
    "#model\n",
    "inputs = layers.Input(input_shape)\n",
    "net = layers.Conv2D(32, (3, 3), padding='SAME')(inputs)\n",
    "net = layers.Activation('relu')(net)\n",
    "net = layers.Conv2D(32, (3, 3), padding='SAME')(net)\n",
    "net = layers.Activation('relu')(net)\n",
    "net = layers.MaxPooling2D(pool_size=(2, 2))(net)\n",
    "net = layers.Dropout(dropout_rate)(net)\n",
    "\n",
    "net = layers.Conv2D(64, (3, 3), padding='SAME')(net)\n",
    "net = layers.Activation('relu')(net)\n",
    "net = layers.Conv2D(64, (3, 3), padding='SAME')(net)\n",
    "net = layers.Activation('relu')(net)\n",
    "net = layers.MaxPooling2D(pool_size=(2, 2))(net)\n",
    "net = layers.Dropout(dropout_rate)(net)\n",
    "\n",
    "net = layers.Flatten()(net)\n",
    "net = layers.Dense(512)(net)\n",
    "net = layers.Activation('relu')(net)\n",
    "net = layers.Dropout(dropout_rate)(net)\n",
    "net = layers.Dense(num_classes)(net)\n",
    "net = layers.Activation('softmax')(net)\n",
    "\n",
    "model = tf.keras.Model(inputs=inputs, outputs=net, name='Basic_CNN')"
   ]
  },
  {
   "cell_type": "code",
   "execution_count": 4,
   "metadata": {},
   "outputs": [],
   "source": [
    "model.compile(optimizer=tf.keras.optimizers.Adam(learning_rate), # optimization\n",
    "             loss='sparse_categorical_crossentropy', # loss function\n",
    "             metrics=['accuracy']) # metrics / accuracy"
   ]
  },
  {
   "cell_type": "code",
   "execution_count": 5,
   "metadata": {},
   "outputs": [
    {
     "data": {
      "text/plain": [
       "(1000, 1000)"
      ]
     },
     "execution_count": 5,
     "metadata": {},
     "output_type": "execute_result"
    }
   ],
   "source": [
    "# Data Preprocess\n",
    "\n",
    "train_paths = sorted(glob('/Users/sengjeawang/Desktop/data/dataset/cifar/train/*.png'))[:1000]\n",
    "test_paths = sorted(glob('/Users/sengjeawang/Desktop/data/dataset/cifar/test/*.png'))[:1000]\n",
    "\n",
    "len(train_paths), len(test_paths)"
   ]
  },
  {
   "cell_type": "code",
   "execution_count": 6,
   "metadata": {},
   "outputs": [],
   "source": [
    "def get_class_name(path):\n",
    "    return path.split('_')[-1].replace('.png', '')\n",
    "\n",
    "train_labels = [get_class_name(path) for path in train_paths]\n",
    "class_names = np.unique(train_labels)"
   ]
  },
  {
   "cell_type": "code",
   "execution_count": 7,
   "metadata": {},
   "outputs": [],
   "source": [
    "def get_label(path):\n",
    "    fname = tf.strings.split(path, '_')[-1]\n",
    "    lbl_name = tf.strings.regex_replace(fname, '.png', '')\n",
    "    onehot = tf.cast(lbl_name == class_names, tf.uint8)\n",
    "    return tf.argmax(onehot)"
   ]
  },
  {
   "cell_type": "code",
   "execution_count": 8,
   "metadata": {},
   "outputs": [],
   "source": [
    "def load_image_label(path):\n",
    "    gfile = tf.io.read_file(path)\n",
    "    image = tf.io.decode_image(gfile)\n",
    "    \n",
    "    image = tf.cast(image, tf.float32) / 255.\n",
    "    \n",
    "    label = get_label(path)\n",
    "    return image, label"
   ]
  },
  {
   "cell_type": "code",
   "execution_count": 9,
   "metadata": {},
   "outputs": [],
   "source": [
    "def image_preprocess(image, label):\n",
    "    image = tf.image.random_flip_left_right(image)\n",
    "    image = tf.image.random_flip_up_down(image)\n",
    "    return image, label"
   ]
  },
  {
   "cell_type": "code",
   "execution_count": 10,
   "metadata": {},
   "outputs": [],
   "source": [
    "AUTOTUNE = tf.data.experimental.AUTOTUNE"
   ]
  },
  {
   "cell_type": "code",
   "execution_count": 11,
   "metadata": {},
   "outputs": [],
   "source": [
    "train_dataset = tf.data.Dataset.from_tensor_slices(train_paths)\n",
    "train_dataset = train_dataset.map(load_image_label, num_parallel_calls=AUTOTUNE)\n",
    "train_dataset = train_dataset.map(image_preprocess, num_parallel_calls=AUTOTUNE)\n",
    "train_dataset = train_dataset.batch(batch_size)\n",
    "train_dataset = train_dataset.shuffle(buffer_size=len(train_paths))\n",
    "train_dataset = train_dataset.repeat()"
   ]
  },
  {
   "cell_type": "code",
   "execution_count": 12,
   "metadata": {},
   "outputs": [],
   "source": [
    "test_dataset = tf.data.Dataset.from_tensor_slices(test_paths)\n",
    "test_dataset = test_dataset.map(load_image_label, num_parallel_calls=AUTOTUNE)\n",
    "test_dataset = test_dataset.batch(batch_size)\n",
    "test_dataset = test_dataset.repeat()"
   ]
  },
  {
   "cell_type": "code",
   "execution_count": null,
   "metadata": {},
   "outputs": [],
   "source": []
  },
  {
   "cell_type": "code",
   "execution_count": 13,
   "metadata": {},
   "outputs": [],
   "source": [
    "# Checkpoint\n",
    "\n",
    "save_path = 'checkpoints'"
   ]
  },
  {
   "cell_type": "code",
   "execution_count": 14,
   "metadata": {},
   "outputs": [],
   "source": [
    "checkpoint = tf.keras.callbacks.ModelCheckpoint(save_path, monitor='val_accuracy', verbose=1, save_best_only=True, mode='max') "
   ]
  },
  {
   "cell_type": "code",
   "execution_count": null,
   "metadata": {},
   "outputs": [],
   "source": []
  },
  {
   "cell_type": "code",
   "execution_count": null,
   "metadata": {},
   "outputs": [],
   "source": []
  },
  {
   "cell_type": "code",
   "execution_count": null,
   "metadata": {},
   "outputs": [],
   "source": []
  },
  {
   "cell_type": "code",
   "execution_count": null,
   "metadata": {},
   "outputs": [],
   "source": []
  },
  {
   "cell_type": "code",
   "execution_count": null,
   "metadata": {},
   "outputs": [],
   "source": []
  },
  {
   "cell_type": "code",
   "execution_count": 15,
   "metadata": {},
   "outputs": [
    {
     "name": "stderr",
     "output_type": "stream",
     "text": [
      "/Users/sengjeawang/opt/anaconda3/lib/python3.8/site-packages/keras/engine/training.py:1972: UserWarning: `Model.fit_generator` is deprecated and will be removed in a future version. Please use `Model.fit`, which supports generators.\n",
      "  warnings.warn('`Model.fit_generator` is deprecated and '\n"
     ]
    },
    {
     "name": "stdout",
     "output_type": "stream",
     "text": [
      "Epoch 1/20\n",
      "31/31 [==============================] - 3s 85ms/step - loss: 2.3084 - accuracy: 0.0981 - val_loss: 2.2747 - val_accuracy: 0.1159\n",
      "\n",
      "Epoch 00001: val_accuracy improved from -inf to 0.11593, saving model to checkpoints\n",
      "INFO:tensorflow:Assets written to: checkpoints/assets\n",
      "Epoch 2/20\n",
      "31/31 [==============================] - 2s 75ms/step - loss: 2.2201 - accuracy: 0.1632 - val_loss: 2.2165 - val_accuracy: 0.1623\n",
      "\n",
      "Epoch 00002: val_accuracy improved from 0.11593 to 0.16230, saving model to checkpoints\n",
      "INFO:tensorflow:Assets written to: checkpoints/assets\n",
      "Epoch 3/20\n",
      "31/31 [==============================] - 2s 77ms/step - loss: 2.1613 - accuracy: 0.1601 - val_loss: 2.0535 - val_accuracy: 0.2228\n",
      "\n",
      "Epoch 00003: val_accuracy improved from 0.16230 to 0.22278, saving model to checkpoints\n",
      "INFO:tensorflow:Assets written to: checkpoints/assets\n",
      "Epoch 4/20\n",
      "31/31 [==============================] - 2s 75ms/step - loss: 2.0770 - accuracy: 0.2258 - val_loss: 1.9846 - val_accuracy: 0.2611\n",
      "\n",
      "Epoch 00004: val_accuracy improved from 0.22278 to 0.26109, saving model to checkpoints\n",
      "INFO:tensorflow:Assets written to: checkpoints/assets\n",
      "Epoch 5/20\n",
      "31/31 [==============================] - 2s 73ms/step - loss: 2.0360 - accuracy: 0.2373 - val_loss: 1.9842 - val_accuracy: 0.2480\n",
      "\n",
      "Epoch 00005: val_accuracy did not improve from 0.26109\n",
      "Epoch 6/20\n",
      "31/31 [==============================] - 2s 73ms/step - loss: 1.9684 - accuracy: 0.2530 - val_loss: 1.9337 - val_accuracy: 0.2994\n",
      "\n",
      "Epoch 00006: val_accuracy improved from 0.26109 to 0.29940, saving model to checkpoints\n",
      "INFO:tensorflow:Assets written to: checkpoints/assets\n",
      "Epoch 7/20\n",
      "31/31 [==============================] - 2s 74ms/step - loss: 1.9698 - accuracy: 0.2447 - val_loss: 1.9877 - val_accuracy: 0.2389\n",
      "\n",
      "Epoch 00007: val_accuracy did not improve from 0.29940\n",
      "Epoch 8/20\n",
      "31/31 [==============================] - 2s 74ms/step - loss: 1.9382 - accuracy: 0.2748 - val_loss: 1.8863 - val_accuracy: 0.3266\n",
      "\n",
      "Epoch 00008: val_accuracy improved from 0.29940 to 0.32661, saving model to checkpoints\n",
      "INFO:tensorflow:Assets written to: checkpoints/assets\n",
      "Epoch 9/20\n",
      "31/31 [==============================] - 2s 74ms/step - loss: 1.8375 - accuracy: 0.3120 - val_loss: 1.8742 - val_accuracy: 0.2903\n",
      "\n",
      "Epoch 00009: val_accuracy did not improve from 0.32661\n",
      "Epoch 10/20\n",
      "31/31 [==============================] - 2s 75ms/step - loss: 1.8059 - accuracy: 0.2974 - val_loss: 1.8824 - val_accuracy: 0.2994\n",
      "\n",
      "Epoch 00010: val_accuracy did not improve from 0.32661\n",
      "Epoch 11/20\n",
      "31/31 [==============================] - 2s 75ms/step - loss: 1.8212 - accuracy: 0.3030 - val_loss: 1.8248 - val_accuracy: 0.3579\n",
      "\n",
      "Epoch 00011: val_accuracy improved from 0.32661 to 0.35786, saving model to checkpoints\n",
      "INFO:tensorflow:Assets written to: checkpoints/assets\n",
      "Epoch 12/20\n",
      "31/31 [==============================] - 2s 76ms/step - loss: 1.7744 - accuracy: 0.3574 - val_loss: 1.7514 - val_accuracy: 0.3407\n",
      "\n",
      "Epoch 00012: val_accuracy did not improve from 0.35786\n",
      "Epoch 13/20\n",
      "31/31 [==============================] - 2s 76ms/step - loss: 1.7177 - accuracy: 0.3719 - val_loss: 1.7829 - val_accuracy: 0.3327\n",
      "\n",
      "Epoch 00013: val_accuracy did not improve from 0.35786\n",
      "Epoch 14/20\n",
      "31/31 [==============================] - 2s 75ms/step - loss: 1.7695 - accuracy: 0.3523 - val_loss: 1.7564 - val_accuracy: 0.3488\n",
      "\n",
      "Epoch 00014: val_accuracy did not improve from 0.35786\n",
      "Epoch 15/20\n",
      "31/31 [==============================] - 2s 76ms/step - loss: 1.6788 - accuracy: 0.3853 - val_loss: 1.7182 - val_accuracy: 0.3629\n",
      "\n",
      "Epoch 00015: val_accuracy improved from 0.35786 to 0.36290, saving model to checkpoints\n",
      "INFO:tensorflow:Assets written to: checkpoints/assets\n",
      "Epoch 16/20\n",
      "31/31 [==============================] - 2s 76ms/step - loss: 1.6499 - accuracy: 0.4083 - val_loss: 1.7255 - val_accuracy: 0.3831\n",
      "\n",
      "Epoch 00016: val_accuracy improved from 0.36290 to 0.38306, saving model to checkpoints\n",
      "INFO:tensorflow:Assets written to: checkpoints/assets\n",
      "Epoch 17/20\n",
      "31/31 [==============================] - 2s 74ms/step - loss: 1.6112 - accuracy: 0.4025 - val_loss: 1.6987 - val_accuracy: 0.3871\n",
      "\n",
      "Epoch 00017: val_accuracy improved from 0.38306 to 0.38710, saving model to checkpoints\n",
      "INFO:tensorflow:Assets written to: checkpoints/assets\n",
      "Epoch 18/20\n",
      "31/31 [==============================] - 2s 75ms/step - loss: 1.6575 - accuracy: 0.3905 - val_loss: 1.7422 - val_accuracy: 0.3911\n",
      "\n",
      "Epoch 00018: val_accuracy improved from 0.38710 to 0.39113, saving model to checkpoints\n",
      "INFO:tensorflow:Assets written to: checkpoints/assets\n",
      "Epoch 19/20\n",
      "31/31 [==============================] - 2s 76ms/step - loss: 1.6680 - accuracy: 0.3760 - val_loss: 1.7101 - val_accuracy: 0.3821\n",
      "\n",
      "Epoch 00019: val_accuracy did not improve from 0.39113\n",
      "Epoch 20/20\n",
      "31/31 [==============================] - 2s 76ms/step - loss: 1.5436 - accuracy: 0.4380 - val_loss: 1.6804 - val_accuracy: 0.4032\n",
      "\n",
      "Epoch 00020: val_accuracy improved from 0.39113 to 0.40323, saving model to checkpoints\n",
      "INFO:tensorflow:Assets written to: checkpoints/assets\n"
     ]
    },
    {
     "data": {
      "text/plain": [
       "<keras.callbacks.History at 0x7fc93efc3160>"
      ]
     },
     "execution_count": 15,
     "metadata": {},
     "output_type": "execute_result"
    }
   ],
   "source": [
    "# Training\n",
    "\n",
    "steps_per_epoch = len(train_paths) // batch_size\n",
    "validation_steps = len(test_paths) // batch_size\n",
    "\n",
    "model.fit_generator(\n",
    "    train_dataset,\n",
    "    steps_per_epoch=steps_per_epoch,\n",
    "    validation_data=test_dataset,\n",
    "    validation_steps=validation_steps,\n",
    "    epochs=num_epochs,\n",
    "    callbacks=[checkpoint]\n",
    ")"
   ]
  }
 ],
 "metadata": {
  "kernelspec": {
   "display_name": "Python 3",
   "language": "python",
   "name": "python3"
  },
  "language_info": {
   "codemirror_mode": {
    "name": "ipython",
    "version": 3
   },
   "file_extension": ".py",
   "mimetype": "text/x-python",
   "name": "python",
   "nbconvert_exporter": "python",
   "pygments_lexer": "ipython3",
   "version": "3.8.5"
  }
 },
 "nbformat": 4,
 "nbformat_minor": 4
}
