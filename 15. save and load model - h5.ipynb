{
 "cells": [
  {
   "cell_type": "code",
   "execution_count": 1,
   "metadata": {},
   "outputs": [],
   "source": [
    "import os\n",
    "from glob import glob\n",
    "from datetime import datetime\n",
    "\n",
    "import numpy as np\n",
    "import tensorflow as tf\n",
    "from tensorflow.keras import layers\n",
    "\n",
    "from tensorflow.keras import datasets\n",
    "\n",
    "import matplotlib.pyplot as plt\n",
    "%matplotlib inline\n",
    "%load_ext tensorboard"
   ]
  },
  {
   "cell_type": "code",
   "execution_count": 2,
   "metadata": {},
   "outputs": [],
   "source": [
    "num_epochs = 5\n",
    "batch_size = 32\n",
    "\n",
    "learning_rate = 0.001\n",
    "dropout_rate = 0.5\n",
    "\n",
    "input_shape = (32, 32, 3)\n",
    "num_classes = 10"
   ]
  },
  {
   "cell_type": "code",
   "execution_count": 3,
   "metadata": {},
   "outputs": [],
   "source": [
    "#model\n",
    "inputs = layers.Input(input_shape)\n",
    "net = layers.Conv2D(32, (3, 3), padding='SAME')(inputs)\n",
    "net = layers.Activation('relu')(net)\n",
    "net = layers.Conv2D(32, (3, 3), padding='SAME')(net)\n",
    "net = layers.Activation('relu')(net)\n",
    "net = layers.MaxPooling2D(pool_size=(2, 2))(net)\n",
    "net = layers.Dropout(dropout_rate)(net)\n",
    "\n",
    "net = layers.Conv2D(64, (3, 3), padding='SAME')(net)\n",
    "net = layers.Activation('relu')(net)\n",
    "net = layers.Conv2D(64, (3, 3), padding='SAME')(net)\n",
    "net = layers.Activation('relu')(net)\n",
    "net = layers.MaxPooling2D(pool_size=(2, 2))(net)\n",
    "net = layers.Dropout(dropout_rate)(net)\n",
    "\n",
    "net = layers.Flatten()(net)\n",
    "net = layers.Dense(512)(net)\n",
    "net = layers.Activation('relu')(net)\n",
    "net = layers.Dropout(dropout_rate)(net)\n",
    "net = layers.Dense(num_classes)(net)\n",
    "net = layers.Activation('softmax')(net)\n",
    "\n",
    "model = tf.keras.Model(inputs=inputs, outputs=net, name='Basic_CNN')"
   ]
  },
  {
   "cell_type": "code",
   "execution_count": 4,
   "metadata": {},
   "outputs": [],
   "source": [
    "model.compile(optimizer=tf.keras.optimizers.Adam(learning_rate), # optimization\n",
    "             loss='sparse_categorical_crossentropy', # loss function\n",
    "             metrics=['accuracy']) # metrics / accuracy"
   ]
  },
  {
   "cell_type": "code",
   "execution_count": 5,
   "metadata": {},
   "outputs": [
    {
     "data": {
      "text/plain": [
       "(100, 100)"
      ]
     },
     "execution_count": 5,
     "metadata": {},
     "output_type": "execute_result"
    }
   ],
   "source": [
    "# Data Preprocess\n",
    "\n",
    "train_paths = sorted(glob('/Users/sengjeawang/Desktop/data/dataset/cifar/train/*.png'))[:100]\n",
    "test_paths = sorted(glob('/Users/sengjeawang/Desktop/data/dataset/cifar/test/*.png'))[:100]\n",
    "\n",
    "len(train_paths), len(test_paths)"
   ]
  },
  {
   "cell_type": "code",
   "execution_count": 6,
   "metadata": {},
   "outputs": [],
   "source": [
    "def get_class_name(path):\n",
    "    return path.split('_')[-1].replace('.png', '')\n",
    "\n",
    "train_labels = [get_class_name(path) for path in train_paths]\n",
    "class_names = np.unique(train_labels)"
   ]
  },
  {
   "cell_type": "code",
   "execution_count": 7,
   "metadata": {},
   "outputs": [],
   "source": [
    "def get_label(path):\n",
    "    fname = tf.strings.split(path, '_')[-1]\n",
    "    lbl_name = tf.strings.regex_replace(fname, '.png', '')\n",
    "    onehot = tf.cast(lbl_name == class_names, tf.uint8)\n",
    "    return tf.argmax(onehot)"
   ]
  },
  {
   "cell_type": "code",
   "execution_count": 8,
   "metadata": {},
   "outputs": [],
   "source": [
    "def load_image_label(path):\n",
    "    gfile = tf.io.read_file(path)\n",
    "    image = tf.io.decode_image(gfile)\n",
    "    \n",
    "    image = tf.cast(image, tf.float32) / 255.\n",
    "    \n",
    "    label = get_label(path)\n",
    "    return image, label"
   ]
  },
  {
   "cell_type": "code",
   "execution_count": 9,
   "metadata": {},
   "outputs": [],
   "source": [
    "def image_preprocess(image, label):\n",
    "    image = tf.image.random_flip_left_right(image)\n",
    "    image = tf.image.random_flip_up_down(image)\n",
    "    return image, label"
   ]
  },
  {
   "cell_type": "code",
   "execution_count": 10,
   "metadata": {},
   "outputs": [],
   "source": [
    "AUTOTUNE = tf.data.experimental.AUTOTUNE"
   ]
  },
  {
   "cell_type": "code",
   "execution_count": 11,
   "metadata": {},
   "outputs": [],
   "source": [
    "train_dataset = tf.data.Dataset.from_tensor_slices(train_paths)\n",
    "train_dataset = train_dataset.map(load_image_label, num_parallel_calls=AUTOTUNE)\n",
    "train_dataset = train_dataset.map(image_preprocess, num_parallel_calls=AUTOTUNE)\n",
    "train_dataset = train_dataset.batch(batch_size)\n",
    "train_dataset = train_dataset.shuffle(buffer_size=len(train_paths))\n",
    "train_dataset = train_dataset.repeat()"
   ]
  },
  {
   "cell_type": "code",
   "execution_count": 12,
   "metadata": {},
   "outputs": [],
   "source": [
    "test_dataset = tf.data.Dataset.from_tensor_slices(test_paths)\n",
    "test_dataset = test_dataset.map(load_image_label, num_parallel_calls=AUTOTUNE)\n",
    "test_dataset = test_dataset.batch(batch_size)\n",
    "test_dataset = test_dataset.repeat()"
   ]
  },
  {
   "cell_type": "code",
   "execution_count": 13,
   "metadata": {},
   "outputs": [
    {
     "name": "stderr",
     "output_type": "stream",
     "text": [
      "/Users/sengjeawang/opt/anaconda3/lib/python3.8/site-packages/keras/engine/training.py:1972: UserWarning: `Model.fit_generator` is deprecated and will be removed in a future version. Please use `Model.fit`, which supports generators.\n",
      "  warnings.warn('`Model.fit_generator` is deprecated and '\n"
     ]
    },
    {
     "name": "stdout",
     "output_type": "stream",
     "text": [
      "Epoch 1/5\n",
      "3/3 [==============================] - 1s 133ms/step - loss: 2.3252 - accuracy: 0.1471 - val_loss: 2.3454 - val_accuracy: 0.0729\n",
      "Epoch 2/5\n",
      "3/3 [==============================] - 0s 95ms/step - loss: 2.3113 - accuracy: 0.0833 - val_loss: 2.3088 - val_accuracy: 0.1771\n",
      "Epoch 3/5\n",
      "3/3 [==============================] - 0s 72ms/step - loss: 2.2761 - accuracy: 0.1324 - val_loss: 2.3065 - val_accuracy: 0.1771\n",
      "Epoch 4/5\n",
      "3/3 [==============================] - 0s 72ms/step - loss: 2.2926 - accuracy: 0.1029 - val_loss: 2.3243 - val_accuracy: 0.0938\n",
      "Epoch 5/5\n",
      "3/3 [==============================] - 0s 89ms/step - loss: 2.2978 - accuracy: 0.1458 - val_loss: 2.3302 - val_accuracy: 0.0729\n"
     ]
    }
   ],
   "source": [
    "# Training\n",
    "\n",
    "steps_per_epoch = len(train_paths) // batch_size\n",
    "validation_steps = len(test_paths) // batch_size\n",
    "\n",
    "history = model.fit_generator(\n",
    "    train_dataset,\n",
    "    steps_per_epoch=steps_per_epoch,\n",
    "    validation_data=test_dataset,\n",
    "    validation_steps=validation_steps,\n",
    "    epochs=num_epochs,\n",
    "\n",
    ")"
   ]
  },
  {
   "cell_type": "code",
   "execution_count": null,
   "metadata": {},
   "outputs": [],
   "source": []
  },
  {
   "cell_type": "code",
   "execution_count": null,
   "metadata": {},
   "outputs": [],
   "source": []
  },
  {
   "cell_type": "code",
   "execution_count": 14,
   "metadata": {},
   "outputs": [],
   "source": [
    "# save model\n",
    "\n",
    "save_path = 'my_model.h5'"
   ]
  },
  {
   "cell_type": "code",
   "execution_count": 16,
   "metadata": {},
   "outputs": [],
   "source": [
    "model.save(save_path, include_optimizer=True)"
   ]
  },
  {
   "cell_type": "code",
   "execution_count": null,
   "metadata": {},
   "outputs": [],
   "source": []
  },
  {
   "cell_type": "code",
   "execution_count": 17,
   "metadata": {},
   "outputs": [],
   "source": [
    "model = tf.keras.models.load_model('my_model.h5')"
   ]
  },
  {
   "cell_type": "code",
   "execution_count": null,
   "metadata": {},
   "outputs": [],
   "source": []
  },
  {
   "cell_type": "code",
   "execution_count": null,
   "metadata": {},
   "outputs": [],
   "source": []
  },
  {
   "cell_type": "code",
   "execution_count": 18,
   "metadata": {},
   "outputs": [],
   "source": [
    "# save model 2\n",
    "\n",
    "model.save_weights('model_weights.h5')"
   ]
  },
  {
   "cell_type": "code",
   "execution_count": 19,
   "metadata": {},
   "outputs": [],
   "source": [
    "with open('model_architecture.json', 'w') as f:\n",
    "    f.write(model.to_json())"
   ]
  },
  {
   "cell_type": "code",
   "execution_count": null,
   "metadata": {},
   "outputs": [],
   "source": []
  },
  {
   "cell_type": "code",
   "execution_count": 20,
   "metadata": {},
   "outputs": [],
   "source": [
    "from tensorflow.keras.models import model_from_json"
   ]
  },
  {
   "cell_type": "code",
   "execution_count": 21,
   "metadata": {},
   "outputs": [],
   "source": [
    "with open('model_architecture.json', 'r') as f:\n",
    "    model = model_from_json(f.read())"
   ]
  },
  {
   "cell_type": "code",
   "execution_count": 22,
   "metadata": {},
   "outputs": [],
   "source": [
    "model.load_weights('model_weights.h5')"
   ]
  },
  {
   "cell_type": "code",
   "execution_count": null,
   "metadata": {},
   "outputs": [],
   "source": []
  },
  {
   "cell_type": "code",
   "execution_count": null,
   "metadata": {},
   "outputs": [],
   "source": []
  },
  {
   "cell_type": "code",
   "execution_count": 24,
   "metadata": {},
   "outputs": [],
   "source": [
    "# H5 모델 들여다보기\n",
    "\n",
    "import h5py"
   ]
  },
  {
   "cell_type": "code",
   "execution_count": 25,
   "metadata": {},
   "outputs": [],
   "source": [
    "model_file = h5py.File('my_model.h5', 'r+')"
   ]
  },
  {
   "cell_type": "code",
   "execution_count": 26,
   "metadata": {},
   "outputs": [
    {
     "data": {
      "text/plain": [
       "<KeysViewHDF5 ['model_weights', 'optimizer_weights']>"
      ]
     },
     "execution_count": 26,
     "metadata": {},
     "output_type": "execute_result"
    }
   ],
   "source": [
    "model_file.keys()"
   ]
  },
  {
   "cell_type": "code",
   "execution_count": 27,
   "metadata": {},
   "outputs": [
    {
     "data": {
      "text/plain": [
       "<KeysViewHDF5 ['activation', 'activation_1', 'activation_2', 'activation_3', 'activation_4', 'activation_5', 'conv2d', 'conv2d_1', 'conv2d_2', 'conv2d_3', 'dense', 'dense_1', 'dropout', 'dropout_1', 'dropout_2', 'flatten', 'input_1', 'max_pooling2d', 'max_pooling2d_1']>"
      ]
     },
     "execution_count": 27,
     "metadata": {},
     "output_type": "execute_result"
    }
   ],
   "source": [
    "model_file['model_weights'].keys()"
   ]
  },
  {
   "cell_type": "code",
   "execution_count": 29,
   "metadata": {},
   "outputs": [
    {
     "data": {
      "text/plain": [
       "<KeysViewHDF5 ['bias:0', 'kernel:0']>"
      ]
     },
     "execution_count": 29,
     "metadata": {},
     "output_type": "execute_result"
    }
   ],
   "source": [
    "model_file['model_weights']['conv2d']['conv2d'].keys()"
   ]
  },
  {
   "cell_type": "code",
   "execution_count": 30,
   "metadata": {},
   "outputs": [
    {
     "data": {
      "text/plain": [
       "<HDF5 dataset \"kernel:0\": shape (3, 3, 3, 32), type \"<f4\">"
      ]
     },
     "execution_count": 30,
     "metadata": {},
     "output_type": "execute_result"
    }
   ],
   "source": [
    "model_file['model_weights']['conv2d']['conv2d']['kernel:0']"
   ]
  },
  {
   "cell_type": "code",
   "execution_count": 31,
   "metadata": {},
   "outputs": [],
   "source": [
    "weight = np.array(model_file['model_weights']['conv2d']['conv2d']['kernel:0'])"
   ]
  },
  {
   "cell_type": "code",
   "execution_count": 32,
   "metadata": {},
   "outputs": [
    {
     "data": {
      "text/plain": [
       "array([[[[-0.11079662,  0.00813853, -0.04570782,  0.07552739,\n",
       "          -0.03052168, -0.03698947,  0.05349627, -0.02104274,\n",
       "           0.03011969, -0.08372271,  0.02254022,  0.01359312,\n",
       "           0.12904926, -0.11839581,  0.12605518,  0.07042155,\n",
       "           0.05442911,  0.11997063,  0.12940444, -0.0188041 ,\n",
       "           0.01497971, -0.00628968,  0.03759154, -0.12148351,\n",
       "           0.05911671, -0.02444524, -0.13905574, -0.13136238,\n",
       "           0.11289454, -0.11620582, -0.06194901,  0.09187108],\n",
       "         [-0.03492117, -0.08033352,  0.12472111,  0.04145953,\n",
       "           0.01607325,  0.06620631,  0.11208155,  0.07955366,\n",
       "           0.13526061,  0.05533277, -0.13136496, -0.09607638,\n",
       "          -0.02899481,  0.03096592, -0.01541793,  0.13578966,\n",
       "          -0.07352948, -0.01290081,  0.02936493,  0.09580836,\n",
       "           0.09679811, -0.00110882,  0.03102024,  0.12108002,\n",
       "          -0.13775083, -0.11305003,  0.11239541, -0.1348408 ,\n",
       "           0.03239061,  0.09375099, -0.06833833, -0.02250634],\n",
       "         [-0.10019815, -0.00575879,  0.02301133, -0.07516467,\n",
       "          -0.08011184,  0.01572512,  0.02439585,  0.07466802,\n",
       "           0.05768694,  0.13570009,  0.06192002,  0.03594916,\n",
       "           0.01907738, -0.13607594, -0.11570364,  0.00320296,\n",
       "          -0.12619665,  0.00332936, -0.06741465,  0.00173563,\n",
       "          -0.08401712,  0.02364048, -0.09270405, -0.0426856 ,\n",
       "           0.09302086, -0.04143533,  0.04014037, -0.00951183,\n",
       "           0.02650112,  0.02372267, -0.11330542, -0.06418903]],\n",
       "\n",
       "        [[-0.0816111 ,  0.05228703,  0.07636245, -0.05151838,\n",
       "          -0.01307237, -0.13674131, -0.11210176, -0.01675593,\n",
       "           0.10084393, -0.09807283,  0.10721422,  0.10603459,\n",
       "          -0.11989578, -0.03781698, -0.13487896, -0.09555953,\n",
       "          -0.03140486,  0.01212708, -0.08768634,  0.0534206 ,\n",
       "          -0.05578776,  0.07974429, -0.08526498,  0.04976813,\n",
       "           0.05035158, -0.14178666,  0.01265988,  0.06171663,\n",
       "          -0.1089799 ,  0.12211072,  0.04293853,  0.08507619],\n",
       "         [ 0.10318746, -0.01480809,  0.01571334, -0.07256509,\n",
       "          -0.05658786, -0.08026934, -0.01674522, -0.07530481,\n",
       "          -0.02388559, -0.10406605,  0.13866562, -0.12495872,\n",
       "          -0.06198276,  0.10659435, -0.13083759,  0.10899965,\n",
       "          -0.05725257,  0.0770784 ,  0.08012906,  0.03763863,\n",
       "           0.01718856,  0.10309168, -0.11360217,  0.11736342,\n",
       "          -0.08571124,  0.07383411,  0.02480655,  0.10964545,\n",
       "          -0.04297061, -0.05703866,  0.06824022,  0.08539341],\n",
       "         [-0.09678503,  0.02839107,  0.11623663, -0.00716179,\n",
       "          -0.12748381, -0.06398144,  0.11658312,  0.02686648,\n",
       "           0.00101009,  0.12823503, -0.01802303,  0.06300529,\n",
       "           0.0003665 , -0.13330649, -0.0827198 , -0.12102522,\n",
       "          -0.01081026, -0.03301408,  0.08015448,  0.08865564,\n",
       "           0.10564699, -0.04468305, -0.13555919, -0.0363701 ,\n",
       "          -0.07596415,  0.01168698, -0.13862562,  0.01519679,\n",
       "           0.08924048,  0.12067074,  0.12625523,  0.02099697]],\n",
       "\n",
       "        [[-0.05216637,  0.07672545,  0.09775468, -0.00957354,\n",
       "           0.12031557, -0.06171294, -0.06435369,  0.05773303,\n",
       "           0.08221399,  0.03313097, -0.06011602,  0.06385948,\n",
       "           0.08787894,  0.12235374, -0.06384224,  0.1340347 ,\n",
       "          -0.13103844, -0.00029543, -0.05723379,  0.12319234,\n",
       "           0.01780288, -0.02113131, -0.12834647, -0.00597534,\n",
       "           0.11199929,  0.02704779,  0.10594944, -0.05445321,\n",
       "           0.07939994, -0.10152242, -0.04362885, -0.08490285],\n",
       "         [ 0.04077236, -0.09197383, -0.09467875, -0.05250163,\n",
       "           0.11229626, -0.01801826, -0.04467653, -0.11511111,\n",
       "          -0.11574522, -0.06036176, -0.02673106, -0.09448001,\n",
       "          -0.10126126,  0.07324442, -0.03629262,  0.10877503,\n",
       "           0.03106044,  0.129273  , -0.06742147, -0.0893191 ,\n",
       "           0.07975595, -0.09700781, -0.10427482, -0.04253868,\n",
       "           0.10277655, -0.0690852 , -0.10814685, -0.018385  ,\n",
       "           0.09815692,  0.01500134,  0.09409896,  0.1312562 ],\n",
       "         [-0.10569823,  0.04408536, -0.03613155, -0.04818128,\n",
       "           0.046861  ,  0.01594695, -0.01553114, -0.00740342,\n",
       "          -0.01985512, -0.00444697, -0.11100767, -0.03777564,\n",
       "          -0.00851877,  0.07599219, -0.06755954, -0.12168843,\n",
       "           0.04840107,  0.07719939, -0.07056918, -0.00269148,\n",
       "          -0.07128201, -0.1010721 , -0.0652879 , -0.00110374,\n",
       "           0.04405535,  0.11870062, -0.07262488,  0.02015369,\n",
       "           0.09366796, -0.05565564,  0.11805231, -0.07784212]]],\n",
       "\n",
       "\n",
       "       [[[-0.04073424, -0.06120306, -0.00438533, -0.01914475,\n",
       "           0.04662843, -0.01860329,  0.00924749, -0.04845659,\n",
       "           0.0180379 ,  0.12485348,  0.12944388,  0.05002821,\n",
       "          -0.05630478, -0.01140067,  0.08833705, -0.08583269,\n",
       "           0.07144204, -0.00714926, -0.0759081 ,  0.06665102,\n",
       "          -0.00223975, -0.07047696,  0.06222287,  0.06650384,\n",
       "           0.06059543, -0.02884049, -0.10184047,  0.05724643,\n",
       "          -0.11627099, -0.00278352, -0.03619648,  0.10626916],\n",
       "         [ 0.07192027, -0.10541303, -0.13791807,  0.03711523,\n",
       "          -0.11084993, -0.08864409, -0.01515704,  0.09348729,\n",
       "          -0.10439664,  0.11974998,  0.12665404, -0.13921146,\n",
       "           0.03057529, -0.13470747, -0.11928887,  0.05953203,\n",
       "           0.10282792, -0.12937023,  0.07856692, -0.00380606,\n",
       "          -0.04253781, -0.06513298,  0.12643598, -0.03067886,\n",
       "          -0.00968964, -0.11497954, -0.0409978 ,  0.04579584,\n",
       "          -0.12084228,  0.09386519,  0.05197172, -0.0570992 ],\n",
       "         [-0.09970646, -0.07038829,  0.0534931 ,  0.09938348,\n",
       "          -0.01012964, -0.05367253, -0.03903991, -0.03392023,\n",
       "           0.00025645, -0.02501599,  0.04583155,  0.06609   ,\n",
       "           0.00033615, -0.02941368,  0.00303238, -0.04435739,\n",
       "          -0.03336291,  0.03676922,  0.13233046, -0.06871279,\n",
       "           0.11614739,  0.05711187, -0.03415486, -0.03275141,\n",
       "          -0.03329691, -0.05776854,  0.11507796, -0.00672014,\n",
       "          -0.04352805, -0.00265678,  0.09073398, -0.04057024]],\n",
       "\n",
       "        [[-0.11118052, -0.11738542,  0.05443593, -0.01630539,\n",
       "          -0.11666089, -0.1243769 , -0.05770143,  0.10819995,\n",
       "          -0.02489978, -0.13423993, -0.04826272, -0.01994935,\n",
       "          -0.13191754, -0.00718041, -0.12417155,  0.13464905,\n",
       "          -0.07507672, -0.0727218 ,  0.020732  ,  0.10150579,\n",
       "          -0.00673721,  0.04696599, -0.01636673,  0.08151341,\n",
       "           0.04889326, -0.01536002,  0.10758918, -0.03309256,\n",
       "          -0.08960512,  0.05555011, -0.07126763, -0.10040863],\n",
       "         [ 0.06236817,  0.10317262, -0.05934608, -0.02512219,\n",
       "          -0.08408662, -0.06901857, -0.04893276,  0.00919733,\n",
       "          -0.13634247,  0.1034336 , -0.0829949 , -0.13196261,\n",
       "           0.10561809,  0.02663771,  0.10699001, -0.11814274,\n",
       "           0.09516523,  0.03487213, -0.05235385, -0.13783114,\n",
       "          -0.06039993,  0.02655834,  0.01355485, -0.08572694,\n",
       "           0.11991313,  0.07840645,  0.07339169, -0.07249866,\n",
       "           0.11552586,  0.049756  , -0.11136871,  0.11236949],\n",
       "         [ 0.06278052,  0.0148063 ,  0.11449505,  0.09390064,\n",
       "          -0.06642744,  0.04312408, -0.049433  , -0.11433136,\n",
       "          -0.10149569,  0.01360688, -0.02906326,  0.10254668,\n",
       "          -0.12965167, -0.0980479 , -0.11494567,  0.01820271,\n",
       "           0.05891894, -0.11062799,  0.08846372,  0.12957944,\n",
       "          -0.00481518, -0.10480481, -0.0108741 , -0.00424861,\n",
       "           0.03052568, -0.0225996 ,  0.05261318, -0.03400565,\n",
       "           0.12742338,  0.09595521, -0.09520024, -0.12437494]],\n",
       "\n",
       "        [[ 0.11459731,  0.04601553, -0.12851581, -0.09451107,\n",
       "          -0.0180658 , -0.07514963, -0.11863615,  0.00060662,\n",
       "          -0.01267665,  0.00500616,  0.05711275, -0.12004095,\n",
       "          -0.04672989,  0.06274718,  0.12982647, -0.06764876,\n",
       "           0.08111823, -0.10056172, -0.07006301, -0.11705734,\n",
       "           0.05874094, -0.12361817,  0.11225572, -0.10525741,\n",
       "          -0.04920124,  0.01667213, -0.053434  ,  0.02367764,\n",
       "           0.02550733, -0.106405  , -0.0337428 , -0.07282495],\n",
       "         [ 0.10587129,  0.08479402, -0.0109368 , -0.02041974,\n",
       "           0.09469867,  0.1140384 ,  0.01173808, -0.03897114,\n",
       "          -0.05680964,  0.00815081, -0.13716365,  0.01691023,\n",
       "          -0.06332447, -0.11546242, -0.05729955,  0.10370462,\n",
       "           0.05882046,  0.06671264,  0.03889863, -0.00600726,\n",
       "          -0.03477976, -0.01615626, -0.03452457,  0.01763686,\n",
       "           0.08830772,  0.04930792,  0.01602606, -0.02505882,\n",
       "           0.03612657, -0.03715493, -0.02088264, -0.0461581 ],\n",
       "         [ 0.07915896, -0.07692769, -0.02422357, -0.11942055,\n",
       "          -0.09347562,  0.02655434,  0.05266635, -0.05426496,\n",
       "          -0.1148427 , -0.06130065, -0.04448516,  0.10540378,\n",
       "          -0.02895046, -0.11452673, -0.00387971,  0.06087892,\n",
       "          -0.11625937, -0.09490564,  0.02539   , -0.12729897,\n",
       "          -0.08772335,  0.13835384, -0.07521434,  0.01318676,\n",
       "           0.03938529, -0.07630246, -0.0589931 , -0.0874721 ,\n",
       "          -0.04454959,  0.1368302 , -0.07806255,  0.07363313]]],\n",
       "\n",
       "\n",
       "       [[[ 0.06357514,  0.00043576,  0.04459728,  0.08621094,\n",
       "          -0.10593493, -0.00675682,  0.09867071,  0.01609225,\n",
       "           0.12562117,  0.01585022, -0.06739896,  0.03579667,\n",
       "           0.01831099, -0.09037615,  0.0496059 ,  0.05430408,\n",
       "           0.03889165,  0.1268708 ,  0.06079434,  0.085039  ,\n",
       "           0.04351459,  0.13108087, -0.04922491,  0.08287181,\n",
       "           0.04698032, -0.14201878,  0.05097371,  0.11804726,\n",
       "           0.10273273,  0.0137483 ,  0.002673  ,  0.05532775],\n",
       "         [-0.12737934, -0.11471573,  0.00296725,  0.05522957,\n",
       "           0.09315788,  0.01395041, -0.09749041,  0.01930984,\n",
       "          -0.07329552, -0.09542527, -0.11835127, -0.08158346,\n",
       "           0.02707474,  0.03506809, -0.06922492,  0.05563013,\n",
       "          -0.00192625,  0.13694109,  0.1185293 ,  0.10551552,\n",
       "           0.10280648,  0.0268716 , -0.09921736,  0.05940445,\n",
       "          -0.08208314, -0.06011429,  0.04714931,  0.02435908,\n",
       "          -0.00400511,  0.12632827, -0.11787749,  0.07991713],\n",
       "         [-0.11614136,  0.07733602,  0.01683315,  0.06928699,\n",
       "          -0.11690162,  0.06590253,  0.0911321 , -0.01278375,\n",
       "          -0.08525272,  0.08370807, -0.06136253,  0.10578849,\n",
       "           0.09796768,  0.05718355,  0.09422629,  0.02268407,\n",
       "          -0.12258982, -0.06231701, -0.00701509,  0.03518994,\n",
       "          -0.13177861,  0.08427798,  0.03363569, -0.06891605,\n",
       "          -0.05419974, -0.06175672, -0.08551493,  0.10707319,\n",
       "          -0.0467766 , -0.00984491,  0.05646518,  0.06454369]],\n",
       "\n",
       "        [[-0.00246549,  0.09617966, -0.00033694, -0.12192257,\n",
       "          -0.0641238 , -0.04249466,  0.12142438,  0.04486452,\n",
       "          -0.07533853, -0.07517806, -0.02018163,  0.07421608,\n",
       "          -0.0998631 ,  0.0356692 , -0.01440222,  0.07010926,\n",
       "          -0.09808893, -0.12735835, -0.02932798, -0.0355559 ,\n",
       "          -0.02399684, -0.00418518,  0.02090604,  0.07477796,\n",
       "          -0.07903223,  0.03893739, -0.0762575 ,  0.07994064,\n",
       "          -0.110079  ,  0.11303215,  0.1171729 ,  0.04837118],\n",
       "         [ 0.11963284, -0.00058208,  0.00681461,  0.08045095,\n",
       "           0.05530811,  0.13687296, -0.06080235, -0.03296617,\n",
       "           0.05036575,  0.06639118,  0.13012016,  0.05368479,\n",
       "          -0.07780022, -0.03935335,  0.09035898,  0.02226244,\n",
       "           0.0598023 ,  0.09833544, -0.04407768, -0.10521756,\n",
       "          -0.13318378,  0.06799243, -0.10660342, -0.1323248 ,\n",
       "          -0.05412738,  0.0233878 , -0.01995988, -0.04727521,\n",
       "           0.1297361 , -0.08222261,  0.08115593,  0.05250081],\n",
       "         [-0.02840579, -0.01900673, -0.01886883,  0.00266428,\n",
       "          -0.02705038, -0.07127498,  0.10707406, -0.10002367,\n",
       "           0.03565679,  0.02808507, -0.0318097 ,  0.1336664 ,\n",
       "           0.06701738, -0.02958692, -0.09844168,  0.10705541,\n",
       "          -0.01177276,  0.10722777,  0.09091131,  0.04242102,\n",
       "          -0.1290024 , -0.08056324,  0.10624065, -0.0413692 ,\n",
       "          -0.08899845, -0.02957145,  0.05735062,  0.01841536,\n",
       "           0.07340036, -0.12043149,  0.07750136, -0.05170993]],\n",
       "\n",
       "        [[ 0.11008845, -0.04769349,  0.11330178, -0.0119256 ,\n",
       "          -0.12319315, -0.06956667, -0.01125141, -0.11360238,\n",
       "          -0.10541055, -0.08687577, -0.06526859, -0.0426992 ,\n",
       "          -0.05852283, -0.06427155, -0.12730545,  0.04097955,\n",
       "          -0.03097686,  0.10820715, -0.07761353, -0.13087334,\n",
       "          -0.00375584,  0.12680732,  0.00650198,  0.02343343,\n",
       "           0.07743612,  0.01880507,  0.1144099 ,  0.05377968,\n",
       "           0.02572422,  0.07281988, -0.07331718,  0.01752572],\n",
       "         [-0.09389544, -0.05374202,  0.12496367, -0.04331074,\n",
       "          -0.01000878, -0.03571387, -0.00530973, -0.11703437,\n",
       "          -0.1393961 ,  0.0683635 , -0.05083907,  0.01653098,\n",
       "           0.10034452,  0.05528354,  0.10349093,  0.11245765,\n",
       "          -0.02141254, -0.02769786,  0.1272229 , -0.06215422,\n",
       "          -0.03073783, -0.02643667, -0.04914107, -0.06989974,\n",
       "           0.01476133, -0.03487691,  0.06976119, -0.11157081,\n",
       "          -0.06371018,  0.01981492,  0.05274221, -0.06254333],\n",
       "         [ 0.00757744,  0.03260418, -0.00987614, -0.01669296,\n",
       "          -0.05683839,  0.13806444, -0.13425967,  0.10009503,\n",
       "          -0.00877473,  0.10788161, -0.03971486,  0.08257713,\n",
       "          -0.0441867 , -0.02465937,  0.11395818,  0.01052293,\n",
       "           0.0874881 ,  0.01635747, -0.0706213 ,  0.11934881,\n",
       "           0.12807187, -0.12560834, -0.05542047,  0.0357261 ,\n",
       "          -0.07333755, -0.03382538,  0.12341104,  0.13540201,\n",
       "           0.09345321, -0.08950814,  0.02416308, -0.00033854]]]],\n",
       "      dtype=float32)"
      ]
     },
     "execution_count": 32,
     "metadata": {},
     "output_type": "execute_result"
    }
   ],
   "source": [
    "weight"
   ]
  },
  {
   "cell_type": "code",
   "execution_count": null,
   "metadata": {},
   "outputs": [],
   "source": []
  }
 ],
 "metadata": {
  "kernelspec": {
   "display_name": "Python 3",
   "language": "python",
   "name": "python3"
  },
  "language_info": {
   "codemirror_mode": {
    "name": "ipython",
    "version": 3
   },
   "file_extension": ".py",
   "mimetype": "text/x-python",
   "name": "python",
   "nbconvert_exporter": "python",
   "pygments_lexer": "ipython3",
   "version": "3.8.5"
  }
 },
 "nbformat": 4,
 "nbformat_minor": 4
}
