{
 "cells": [
  {
   "cell_type": "code",
   "execution_count": 1,
   "metadata": {},
   "outputs": [],
   "source": [
    "import os\n",
    "from glob import glob\n",
    "from datetime import datetime\n",
    "\n",
    "import numpy as np\n",
    "import tensorflow as tf\n",
    "from tensorflow.keras import layers\n",
    "\n",
    "from tensorflow.keras import datasets\n",
    "\n",
    "import matplotlib.pyplot as plt\n",
    "%matplotlib inline\n",
    "%load_ext tensorboard"
   ]
  },
  {
   "cell_type": "code",
   "execution_count": 2,
   "metadata": {},
   "outputs": [],
   "source": [
    "num_epochs = 50\n",
    "batch_size = 32\n",
    "\n",
    "learning_rate = 0.001\n",
    "dropout_rate = 0.5\n",
    "\n",
    "input_shape = (32, 32, 3)\n",
    "num_classes = 10"
   ]
  },
  {
   "cell_type": "code",
   "execution_count": 3,
   "metadata": {},
   "outputs": [],
   "source": [
    "#model\n",
    "inputs = layers.Input(input_shape)\n",
    "net = layers.Conv2D(32, (3, 3), padding='SAME')(inputs)\n",
    "net = layers.Activation('relu')(net)\n",
    "net = layers.Conv2D(32, (3, 3), padding='SAME')(net)\n",
    "net = layers.Activation('relu')(net)\n",
    "net = layers.MaxPooling2D(pool_size=(2, 2))(net)\n",
    "net = layers.Dropout(dropout_rate)(net)\n",
    "\n",
    "net = layers.Conv2D(64, (3, 3), padding='SAME')(net)\n",
    "net = layers.Activation('relu')(net)\n",
    "net = layers.Conv2D(64, (3, 3), padding='SAME')(net)\n",
    "net = layers.Activation('relu')(net)\n",
    "net = layers.MaxPooling2D(pool_size=(2, 2))(net)\n",
    "net = layers.Dropout(dropout_rate)(net)\n",
    "\n",
    "net = layers.Flatten()(net)\n",
    "net = layers.Dense(512)(net)\n",
    "net = layers.Activation('relu')(net)\n",
    "net = layers.Dropout(dropout_rate)(net)\n",
    "net = layers.Dense(num_classes)(net)\n",
    "net = layers.Activation('softmax')(net)\n",
    "\n",
    "model = tf.keras.Model(inputs=inputs, outputs=net, name='Basic_CNN')"
   ]
  },
  {
   "cell_type": "code",
   "execution_count": 4,
   "metadata": {},
   "outputs": [],
   "source": [
    "model.compile(optimizer=tf.keras.optimizers.Adam(learning_rate), # optimization\n",
    "             loss='sparse_categorical_crossentropy', # loss function\n",
    "             metrics=['accuracy']) # metrics / accuracy"
   ]
  },
  {
   "cell_type": "code",
   "execution_count": 5,
   "metadata": {},
   "outputs": [
    {
     "data": {
      "text/plain": [
       "(1000, 1000)"
      ]
     },
     "execution_count": 5,
     "metadata": {},
     "output_type": "execute_result"
    }
   ],
   "source": [
    "# Data Preprocess\n",
    "\n",
    "train_paths = sorted(glob('/Users/sengjeawang/Desktop/data/dataset/cifar/train/*.png'))[:1000]\n",
    "test_paths = sorted(glob('/Users/sengjeawang/Desktop/data/dataset/cifar/test/*.png'))[:1000]\n",
    "\n",
    "len(train_paths), len(test_paths)"
   ]
  },
  {
   "cell_type": "code",
   "execution_count": 6,
   "metadata": {},
   "outputs": [],
   "source": [
    "def get_class_name(path):\n",
    "    return path.split('_')[-1].replace('.png', '')\n",
    "\n",
    "train_labels = [get_class_name(path) for path in train_paths]\n",
    "class_names = np.unique(train_labels)"
   ]
  },
  {
   "cell_type": "code",
   "execution_count": 7,
   "metadata": {},
   "outputs": [],
   "source": [
    "def get_label(path):\n",
    "    fname = tf.strings.split(path, '_')[-1]\n",
    "    lbl_name = tf.strings.regex_replace(fname, '.png', '')\n",
    "    onehot = tf.cast(lbl_name == class_names, tf.uint8)\n",
    "    return tf.argmax(onehot)"
   ]
  },
  {
   "cell_type": "code",
   "execution_count": 8,
   "metadata": {},
   "outputs": [],
   "source": [
    "def load_image_label(path):\n",
    "    gfile = tf.io.read_file(path)\n",
    "    image = tf.io.decode_image(gfile)\n",
    "    \n",
    "    image = tf.cast(image, tf.float32) / 255.\n",
    "    \n",
    "    label = get_label(path)\n",
    "    return image, label"
   ]
  },
  {
   "cell_type": "code",
   "execution_count": 9,
   "metadata": {},
   "outputs": [],
   "source": [
    "def image_preprocess(image, label):\n",
    "    image = tf.image.random_flip_left_right(image)\n",
    "    image = tf.image.random_flip_up_down(image)\n",
    "    return image, label"
   ]
  },
  {
   "cell_type": "code",
   "execution_count": 10,
   "metadata": {},
   "outputs": [],
   "source": [
    "AUTOTUNE = tf.data.experimental.AUTOTUNE"
   ]
  },
  {
   "cell_type": "code",
   "execution_count": 11,
   "metadata": {},
   "outputs": [],
   "source": [
    "train_dataset = tf.data.Dataset.from_tensor_slices(train_paths)\n",
    "train_dataset = train_dataset.map(load_image_label, num_parallel_calls=AUTOTUNE)\n",
    "train_dataset = train_dataset.map(image_preprocess, num_parallel_calls=AUTOTUNE)\n",
    "train_dataset = train_dataset.batch(batch_size)\n",
    "train_dataset = train_dataset.shuffle(buffer_size=len(train_paths))\n",
    "train_dataset = train_dataset.repeat()"
   ]
  },
  {
   "cell_type": "code",
   "execution_count": 12,
   "metadata": {},
   "outputs": [],
   "source": [
    "test_dataset = tf.data.Dataset.from_tensor_slices(test_paths)\n",
    "test_dataset = test_dataset.map(load_image_label, num_parallel_calls=AUTOTUNE)\n",
    "test_dataset = test_dataset.batch(batch_size)\n",
    "test_dataset = test_dataset.repeat()"
   ]
  },
  {
   "cell_type": "code",
   "execution_count": 13,
   "metadata": {},
   "outputs": [
    {
     "name": "stderr",
     "output_type": "stream",
     "text": [
      "/Users/sengjeawang/opt/anaconda3/lib/python3.8/site-packages/keras/engine/training.py:1972: UserWarning: `Model.fit_generator` is deprecated and will be removed in a future version. Please use `Model.fit`, which supports generators.\n",
      "  warnings.warn('`Model.fit_generator` is deprecated and '\n"
     ]
    },
    {
     "name": "stdout",
     "output_type": "stream",
     "text": [
      "Epoch 1/50\n",
      "31/31 [==============================] - 3s 75ms/step - loss: 2.3161 - accuracy: 0.1085 - val_loss: 2.2970 - val_accuracy: 0.1179\n",
      "Epoch 2/50\n",
      "31/31 [==============================] - 2s 71ms/step - loss: 2.2669 - accuracy: 0.1280 - val_loss: 2.2470 - val_accuracy: 0.1472\n",
      "Epoch 3/50\n",
      "31/31 [==============================] - 2s 70ms/step - loss: 2.2023 - accuracy: 0.1748 - val_loss: 2.1151 - val_accuracy: 0.2268\n",
      "Epoch 4/50\n",
      "31/31 [==============================] - 2s 70ms/step - loss: 2.1805 - accuracy: 0.1663 - val_loss: 2.1021 - val_accuracy: 0.2218\n",
      "Epoch 5/50\n",
      "31/31 [==============================] - 2s 71ms/step - loss: 2.1355 - accuracy: 0.2076 - val_loss: 2.0767 - val_accuracy: 0.2026\n",
      "Epoch 6/50\n",
      "31/31 [==============================] - 2s 70ms/step - loss: 2.0373 - accuracy: 0.2417 - val_loss: 1.9898 - val_accuracy: 0.2379\n",
      "Epoch 7/50\n",
      "31/31 [==============================] - 2s 70ms/step - loss: 2.0489 - accuracy: 0.2293 - val_loss: 1.9861 - val_accuracy: 0.2601\n",
      "Epoch 8/50\n",
      "31/31 [==============================] - 2s 70ms/step - loss: 1.9909 - accuracy: 0.2641 - val_loss: 1.9825 - val_accuracy: 0.2591\n",
      "Epoch 9/50\n",
      "31/31 [==============================] - 2s 69ms/step - loss: 1.9198 - accuracy: 0.2758 - val_loss: 1.9228 - val_accuracy: 0.3024\n",
      "Epoch 10/50\n",
      "31/31 [==============================] - 2s 69ms/step - loss: 1.9039 - accuracy: 0.2828 - val_loss: 1.9343 - val_accuracy: 0.2581\n",
      "Epoch 11/50\n",
      "31/31 [==============================] - 2s 71ms/step - loss: 1.9693 - accuracy: 0.2531 - val_loss: 2.0251 - val_accuracy: 0.2429\n",
      "Epoch 12/50\n",
      "31/31 [==============================] - 2s 72ms/step - loss: 1.8644 - accuracy: 0.2923 - val_loss: 1.8424 - val_accuracy: 0.2984\n",
      "Epoch 13/50\n",
      "31/31 [==============================] - 2s 71ms/step - loss: 1.8256 - accuracy: 0.3182 - val_loss: 1.8864 - val_accuracy: 0.3185\n",
      "Epoch 14/50\n",
      "31/31 [==============================] - 2s 70ms/step - loss: 1.8035 - accuracy: 0.3199 - val_loss: 1.7978 - val_accuracy: 0.3196\n",
      "Epoch 15/50\n",
      "31/31 [==============================] - 2s 73ms/step - loss: 1.7670 - accuracy: 0.3579 - val_loss: 1.7921 - val_accuracy: 0.3579\n",
      "Epoch 16/50\n",
      "31/31 [==============================] - 2s 70ms/step - loss: 1.7534 - accuracy: 0.3326 - val_loss: 1.7627 - val_accuracy: 0.3599\n",
      "Epoch 17/50\n",
      "31/31 [==============================] - 2s 73ms/step - loss: 1.7289 - accuracy: 0.3558 - val_loss: 1.8000 - val_accuracy: 0.3488\n",
      "Epoch 18/50\n",
      "31/31 [==============================] - 2s 72ms/step - loss: 1.7116 - accuracy: 0.3771 - val_loss: 1.7519 - val_accuracy: 0.3417\n",
      "Epoch 19/50\n",
      "31/31 [==============================] - 2s 70ms/step - loss: 1.6983 - accuracy: 0.3698 - val_loss: 1.7576 - val_accuracy: 0.3528\n",
      "Epoch 20/50\n",
      "31/31 [==============================] - 2s 71ms/step - loss: 1.6753 - accuracy: 0.3803 - val_loss: 1.7809 - val_accuracy: 0.3377\n",
      "Epoch 21/50\n",
      "31/31 [==============================] - 2s 71ms/step - loss: 1.6825 - accuracy: 0.3647 - val_loss: 1.7343 - val_accuracy: 0.3659\n",
      "Epoch 22/50\n",
      "31/31 [==============================] - 2s 72ms/step - loss: 1.6347 - accuracy: 0.3841 - val_loss: 1.6967 - val_accuracy: 0.3760\n",
      "Epoch 23/50\n",
      "31/31 [==============================] - 2s 72ms/step - loss: 1.6078 - accuracy: 0.3946 - val_loss: 1.8043 - val_accuracy: 0.3488\n",
      "Epoch 24/50\n",
      "31/31 [==============================] - 2s 72ms/step - loss: 1.5868 - accuracy: 0.4070 - val_loss: 1.7573 - val_accuracy: 0.3750\n",
      "Epoch 25/50\n",
      "31/31 [==============================] - 2s 71ms/step - loss: 1.6336 - accuracy: 0.3864 - val_loss: 1.7293 - val_accuracy: 0.3700\n",
      "Epoch 26/50\n",
      "31/31 [==============================] - 2s 71ms/step - loss: 1.5925 - accuracy: 0.4091 - val_loss: 1.6519 - val_accuracy: 0.3891\n",
      "Epoch 27/50\n",
      "31/31 [==============================] - 2s 71ms/step - loss: 1.5456 - accuracy: 0.4287 - val_loss: 1.7393 - val_accuracy: 0.3760\n",
      "Epoch 28/50\n",
      "31/31 [==============================] - 2s 72ms/step - loss: 1.5120 - accuracy: 0.4163 - val_loss: 1.7062 - val_accuracy: 0.3690\n",
      "Epoch 29/50\n",
      "31/31 [==============================] - 2s 70ms/step - loss: 1.5466 - accuracy: 0.4246 - val_loss: 1.6571 - val_accuracy: 0.4022\n",
      "Epoch 30/50\n",
      "31/31 [==============================] - 2s 71ms/step - loss: 1.5348 - accuracy: 0.4360 - val_loss: 1.6721 - val_accuracy: 0.4032\n",
      "Epoch 31/50\n",
      "31/31 [==============================] - 2s 71ms/step - loss: 1.4658 - accuracy: 0.4597 - val_loss: 1.7482 - val_accuracy: 0.3619\n",
      "Epoch 32/50\n",
      "31/31 [==============================] - 2s 70ms/step - loss: 1.4959 - accuracy: 0.4638 - val_loss: 1.6712 - val_accuracy: 0.3931\n",
      "Epoch 33/50\n",
      "31/31 [==============================] - 2s 71ms/step - loss: 1.4016 - accuracy: 0.4700 - val_loss: 1.6668 - val_accuracy: 0.3871\n",
      "Epoch 34/50\n",
      "31/31 [==============================] - 2s 73ms/step - loss: 1.4056 - accuracy: 0.4742 - val_loss: 1.6897 - val_accuracy: 0.3972\n",
      "Epoch 35/50\n",
      "31/31 [==============================] - 2s 73ms/step - loss: 1.3914 - accuracy: 0.4979 - val_loss: 1.7029 - val_accuracy: 0.4123\n",
      "Epoch 36/50\n",
      "31/31 [==============================] - 2s 72ms/step - loss: 1.4090 - accuracy: 0.4690 - val_loss: 1.6914 - val_accuracy: 0.3992\n",
      "Epoch 37/50\n",
      "31/31 [==============================] - 2s 71ms/step - loss: 1.3742 - accuracy: 0.4814 - val_loss: 1.6226 - val_accuracy: 0.4224\n",
      "Epoch 38/50\n",
      "31/31 [==============================] - 2s 74ms/step - loss: 1.3686 - accuracy: 0.4919 - val_loss: 1.6568 - val_accuracy: 0.4052\n",
      "Epoch 39/50\n",
      "31/31 [==============================] - 2s 71ms/step - loss: 1.3378 - accuracy: 0.5021 - val_loss: 1.6055 - val_accuracy: 0.4395\n",
      "Epoch 40/50\n",
      "31/31 [==============================] - 2s 74ms/step - loss: 1.2715 - accuracy: 0.5252 - val_loss: 1.5490 - val_accuracy: 0.4466\n",
      "Epoch 41/50\n",
      "31/31 [==============================] - 2s 72ms/step - loss: 1.2963 - accuracy: 0.5351 - val_loss: 1.6408 - val_accuracy: 0.4355\n",
      "Epoch 42/50\n",
      "31/31 [==============================] - 2s 71ms/step - loss: 1.2822 - accuracy: 0.5286 - val_loss: 1.5731 - val_accuracy: 0.4446\n",
      "Epoch 43/50\n",
      "31/31 [==============================] - 2s 72ms/step - loss: 1.1958 - accuracy: 0.5382 - val_loss: 1.6004 - val_accuracy: 0.4365\n",
      "Epoch 44/50\n",
      "31/31 [==============================] - 2s 71ms/step - loss: 1.2598 - accuracy: 0.5506 - val_loss: 1.6642 - val_accuracy: 0.4294\n",
      "Epoch 45/50\n",
      "31/31 [==============================] - 2s 73ms/step - loss: 1.2717 - accuracy: 0.5212 - val_loss: 1.7174 - val_accuracy: 0.4254\n",
      "Epoch 46/50\n",
      "31/31 [==============================] - 2s 70ms/step - loss: 1.1889 - accuracy: 0.5763 - val_loss: 1.5613 - val_accuracy: 0.4446\n",
      "Epoch 47/50\n",
      "31/31 [==============================] - 2s 72ms/step - loss: 1.2271 - accuracy: 0.5514 - val_loss: 1.6404 - val_accuracy: 0.4526\n",
      "Epoch 48/50\n",
      "31/31 [==============================] - 2s 70ms/step - loss: 1.1864 - accuracy: 0.5879 - val_loss: 1.6131 - val_accuracy: 0.4415\n",
      "Epoch 49/50\n",
      "31/31 [==============================] - 2s 72ms/step - loss: 1.1202 - accuracy: 0.5817 - val_loss: 1.6316 - val_accuracy: 0.4647\n",
      "Epoch 50/50\n",
      "31/31 [==============================] - 2s 69ms/step - loss: 1.2027 - accuracy: 0.5667 - val_loss: 1.6187 - val_accuracy: 0.4526\n"
     ]
    }
   ],
   "source": [
    "# Training\n",
    "\n",
    "steps_per_epoch = len(train_paths) // batch_size\n",
    "validation_steps = len(test_paths) // batch_size\n",
    "\n",
    "history = model.fit_generator(\n",
    "    train_dataset,\n",
    "    steps_per_epoch=steps_per_epoch,\n",
    "    validation_data=test_dataset,\n",
    "    validation_steps=validation_steps,\n",
    "    epochs=num_epochs,\n",
    "\n",
    ")"
   ]
  },
  {
   "cell_type": "code",
   "execution_count": null,
   "metadata": {},
   "outputs": [],
   "source": []
  },
  {
   "cell_type": "code",
   "execution_count": null,
   "metadata": {},
   "outputs": [],
   "source": []
  },
  {
   "cell_type": "code",
   "execution_count": 14,
   "metadata": {},
   "outputs": [
    {
     "data": {
      "text/plain": [
       "dict_keys(['loss', 'accuracy', 'val_loss', 'val_accuracy'])"
      ]
     },
     "execution_count": 14,
     "metadata": {},
     "output_type": "execute_result"
    }
   ],
   "source": [
    "# History 들여다 보기\n",
    "\n",
    "history.history.keys()"
   ]
  },
  {
   "cell_type": "code",
   "execution_count": 15,
   "metadata": {},
   "outputs": [
    {
     "data": {
      "text/plain": [
       "{'verbose': 1, 'epochs': 50, 'steps': 31}"
      ]
     },
     "execution_count": 15,
     "metadata": {},
     "output_type": "execute_result"
    }
   ],
   "source": [
    "history.params"
   ]
  },
  {
   "cell_type": "code",
   "execution_count": 16,
   "metadata": {},
   "outputs": [],
   "source": [
    "new_model = history.model"
   ]
  },
  {
   "cell_type": "code",
   "execution_count": 17,
   "metadata": {},
   "outputs": [
    {
     "data": {
      "text/plain": [
       "[0.10847107321023941,\n",
       " 0.12802419066429138,\n",
       " 0.17478813230991364,\n",
       " 0.16632232069969177,\n",
       " 0.20764462649822235,\n",
       " 0.2417355328798294,\n",
       " 0.2293388396501541,\n",
       " 0.2641128897666931,\n",
       " 0.27582645416259766,\n",
       " 0.28283897042274475,\n",
       " 0.2530991733074188,\n",
       " 0.29233869910240173,\n",
       " 0.3181818127632141,\n",
       " 0.3199152648448944,\n",
       " 0.3578628897666931,\n",
       " 0.3326271176338196,\n",
       " 0.3558467626571655,\n",
       " 0.37706610560417175,\n",
       " 0.3698347210884094,\n",
       " 0.38029661774635315,\n",
       " 0.36466941237449646,\n",
       " 0.38407257199287415,\n",
       " 0.39462810754776,\n",
       " 0.4070248007774353,\n",
       " 0.3863636255264282,\n",
       " 0.40909090638160706,\n",
       " 0.42871901392936707,\n",
       " 0.4163223206996918,\n",
       " 0.42458677291870117,\n",
       " 0.4359503984451294,\n",
       " 0.4597107470035553,\n",
       " 0.4638429880142212,\n",
       " 0.47004133462905884,\n",
       " 0.47417354583740234,\n",
       " 0.49793389439582825,\n",
       " 0.46900826692581177,\n",
       " 0.48140496015548706,\n",
       " 0.49193549156188965,\n",
       " 0.5021186470985413,\n",
       " 0.5252016186714172,\n",
       " 0.5351239442825317,\n",
       " 0.5286017060279846,\n",
       " 0.538223147392273,\n",
       " 0.5506198406219482,\n",
       " 0.5211693644523621,\n",
       " 0.5762711763381958,\n",
       " 0.5514112710952759,\n",
       " 0.5879237055778503,\n",
       " 0.5816532373428345,\n",
       " 0.5667372941970825]"
      ]
     },
     "execution_count": 17,
     "metadata": {},
     "output_type": "execute_result"
    }
   ],
   "source": [
    "history.history['accuracy']"
   ]
  },
  {
   "cell_type": "code",
   "execution_count": 18,
   "metadata": {},
   "outputs": [
    {
     "data": {
      "image/png": "[encoded data removed]",
      "text/plain": [
       "<Figure size 432x288 with 1 Axes>"
      ]
     },
     "metadata": {
      "needs_background": "light"
     },
     "output_type": "display_data"
    }
   ],
   "source": [
    "plt.plot(history.history['accuracy'])\n",
    "plt.plot(history.history['val_accuracy'])\n",
    "plt.title(\"Model Accuracy\")\n",
    "plt.ylabel('accuracy')\n",
    "plt.xlabel('epoch')\n",
    "plt.legend(['train', 'validation'])\n",
    "plt.show()"
   ]
  },
  {
   "cell_type": "code",
   "execution_count": 21,
   "metadata": {},
   "outputs": [
    {
     "data": {
      "image/png": "[encoded data removed]",
      "text/plain": [
       "<Figure size 432x288 with 1 Axes>"
      ]
     },
     "metadata": {
      "needs_background": "light"
     },
     "output_type": "display_data"
    }
   ],
   "source": [
    "plt.plot(history.history['loss'])\n",
    "plt.plot(history.history['val_loss'])\n",
    "plt.title('Model Loss')\n",
    "plt.ylabel('loss')\n",
    "plt.xlabel('epoch')\n",
    "plt.legend(['train', 'validation'])\n",
    "plt.show()"
   ]
  },
  {
   "cell_type": "code",
   "execution_count": null,
   "metadata": {},
   "outputs": [],
   "source": []
  }
 ],
 "metadata": {
  "kernelspec": {
   "display_name": "Python 3",
   "language": "python",
   "name": "python3"
  },
  "language_info": {
   "codemirror_mode": {
    "name": "ipython",
    "version": 3
   },
   "file_extension": ".py",
   "mimetype": "text/x-python",
   "name": "python",
   "nbconvert_exporter": "python",
   "pygments_lexer": "ipython3",
   "version": "3.8.5"
  }
 },
 "nbformat": 4,
 "nbformat_minor": 4
}
