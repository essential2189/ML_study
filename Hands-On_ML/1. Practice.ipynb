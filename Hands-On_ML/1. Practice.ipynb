{
  "nbformat": 4,
  "nbformat_minor": 0,
  "metadata": {
    "kernelspec": {
      "display_name": "Python 3",
      "language": "python",
      "name": "python3"
    },
    "language_info": {
      "codemirror_mode": {
        "name": "ipython",
        "version": 3
      },
      "file_extension": ".py",
      "mimetype": "text/x-python",
      "name": "python",
      "nbconvert_exporter": "python",
      "pygments_lexer": "ipython3",
      "version": "3.8.5"
    },
    "colab": {
      "name": "1. Practice.ipynb",
      "provenance": []
    },
    "accelerator": "GPU"
  },
  "cells": [
    {
      "cell_type": "code",
      "metadata": {
        "id": "VpFp5klI91k1"
      },
      "source": [
        "import os\n",
        "import tarfile\n",
        "import urllib\n",
        "import urllib.request\n",
        "\n",
        "import numpy as np\n",
        "import pandas as pd"
      ],
      "execution_count": 30,
      "outputs": []
    },
    {
      "cell_type": "code",
      "metadata": {
        "id": "TibX8BSo91k2"
      },
      "source": [
        "DOWNLOAD_ROOT = 'https://raw.githubusercontent.com/ageron/handson-ml2/master/'\n",
        "HOUSING_PATH = os.path.join('datasets', 'housing')\n",
        "HOUSING_URL = DOWNLOAD_ROOT + 'datasets/housing/housing.tgz'\n",
        "\n",
        "def fetch_housing_data(housing_url=HOUSING_URL, housing_path=HOUSING_PATH):\n",
        "    os.makedirs(housing_path, exist_ok=True)\n",
        "    tgz_path = os.path.join(housing_path, 'housing.tgz')\n",
        "    urllib.request.urlretrieve(housing_url, tgz_path)\n",
        "    housing_tgz = tarfile.open(tgz_path)\n",
        "    housing_tgz.extractall(path=housing_path)\n",
        "    housing_tgz.close()\n",
        "    \n",
        "fetch_housing_data()"
      ],
      "execution_count": 31,
      "outputs": []
    },
    {
      "cell_type": "code",
      "metadata": {
        "id": "yTJtn11L91k3"
      },
      "source": [
        "def load_housing_data(housing_path=HOUSING_PATH):\n",
        "    csv_path = os.path.join(housing_path, 'housing.csv')\n",
        "    return pd.read_csv(csv_path)"
      ],
      "execution_count": 32,
      "outputs": []
    },
    {
      "cell_type": "code",
      "metadata": {
        "scrolled": true,
        "id": "jABcVDj091k3",
        "outputId": "d7120147-e09c-4095-b5fc-4698c7ebd3ae",
        "colab": {
          "base_uri": "https://localhost:8080/",
          "height": 224
        }
      },
      "source": [
        "housing = load_housing_data()\n",
        "housing.head()"
      ],
      "execution_count": 33,
      "outputs": [
        {
          "output_type": "execute_result",
          "data": {
            "text/html": [
              "<div>\n",
              "<style scoped>\n",
              "    .dataframe tbody tr th:only-of-type {\n",
              "        vertical-align: middle;\n",
              "    }\n",
              "\n",
              "    .dataframe tbody tr th {\n",
              "        vertical-align: top;\n",
              "    }\n",
              "\n",
              "    .dataframe thead th {\n",
              "        text-align: right;\n",
              "    }\n",
              "</style>\n",
              "<table border=\"1\" class=\"dataframe\">\n",
              "  <thead>\n",
              "    <tr style=\"text-align: right;\">\n",
              "      <th></th>\n",
              "      <th>longitude</th>\n",
              "      <th>latitude</th>\n",
              "      <th>housing_median_age</th>\n",
              "      <th>total_rooms</th>\n",
              "      <th>total_bedrooms</th>\n",
              "      <th>population</th>\n",
              "      <th>households</th>\n",
              "      <th>median_income</th>\n",
              "      <th>median_house_value</th>\n",
              "      <th>ocean_proximity</th>\n",
              "    </tr>\n",
              "  </thead>\n",
              "  <tbody>\n",
              "    <tr>\n",
              "      <th>0</th>\n",
              "      <td>-122.23</td>\n",
              "      <td>37.88</td>\n",
              "      <td>41.0</td>\n",
              "      <td>880.0</td>\n",
              "      <td>129.0</td>\n",
              "      <td>322.0</td>\n",
              "      <td>126.0</td>\n",
              "      <td>8.3252</td>\n",
              "      <td>452600.0</td>\n",
              "      <td>NEAR BAY</td>\n",
              "    </tr>\n",
              "    <tr>\n",
              "      <th>1</th>\n",
              "      <td>-122.22</td>\n",
              "      <td>37.86</td>\n",
              "      <td>21.0</td>\n",
              "      <td>7099.0</td>\n",
              "      <td>1106.0</td>\n",
              "      <td>2401.0</td>\n",
              "      <td>1138.0</td>\n",
              "      <td>8.3014</td>\n",
              "      <td>358500.0</td>\n",
              "      <td>NEAR BAY</td>\n",
              "    </tr>\n",
              "    <tr>\n",
              "      <th>2</th>\n",
              "      <td>-122.24</td>\n",
              "      <td>37.85</td>\n",
              "      <td>52.0</td>\n",
              "      <td>1467.0</td>\n",
              "      <td>190.0</td>\n",
              "      <td>496.0</td>\n",
              "      <td>177.0</td>\n",
              "      <td>7.2574</td>\n",
              "      <td>352100.0</td>\n",
              "      <td>NEAR BAY</td>\n",
              "    </tr>\n",
              "    <tr>\n",
              "      <th>3</th>\n",
              "      <td>-122.25</td>\n",
              "      <td>37.85</td>\n",
              "      <td>52.0</td>\n",
              "      <td>1274.0</td>\n",
              "      <td>235.0</td>\n",
              "      <td>558.0</td>\n",
              "      <td>219.0</td>\n",
              "      <td>5.6431</td>\n",
              "      <td>341300.0</td>\n",
              "      <td>NEAR BAY</td>\n",
              "    </tr>\n",
              "    <tr>\n",
              "      <th>4</th>\n",
              "      <td>-122.25</td>\n",
              "      <td>37.85</td>\n",
              "      <td>52.0</td>\n",
              "      <td>1627.0</td>\n",
              "      <td>280.0</td>\n",
              "      <td>565.0</td>\n",
              "      <td>259.0</td>\n",
              "      <td>3.8462</td>\n",
              "      <td>342200.0</td>\n",
              "      <td>NEAR BAY</td>\n",
              "    </tr>\n",
              "  </tbody>\n",
              "</table>\n",
              "</div>"
            ],
            "text/plain": [
              "   longitude  latitude  ...  median_house_value  ocean_proximity\n",
              "0    -122.23     37.88  ...            452600.0         NEAR BAY\n",
              "1    -122.22     37.86  ...            358500.0         NEAR BAY\n",
              "2    -122.24     37.85  ...            352100.0         NEAR BAY\n",
              "3    -122.25     37.85  ...            341300.0         NEAR BAY\n",
              "4    -122.25     37.85  ...            342200.0         NEAR BAY\n",
              "\n",
              "[5 rows x 10 columns]"
            ]
          },
          "metadata": {},
          "execution_count": 33
        }
      ]
    },
    {
      "cell_type": "code",
      "metadata": {
        "id": "CQuydqL491k4"
      },
      "source": [
        "housing['income_cat'] = pd.cut(housing['median_income'],\n",
        "                              bins=[0., 1.5, 3.0, 4.5, 6., np.inf],\n",
        "                              labels=[1, 2, 3, 4, 5])"
      ],
      "execution_count": 34,
      "outputs": []
    },
    {
      "cell_type": "code",
      "metadata": {
        "id": "bZEMWOSE91k4"
      },
      "source": [
        "from sklearn.model_selection import StratifiedShuffleSplit\n",
        "\n",
        "split = StratifiedShuffleSplit(n_splits=1, test_size=0.2, random_state=42)\n",
        "\n",
        "for train_index, test_index in split.split(housing, housing['income_cat']):\n",
        "    strat_train_set = housing.loc[train_index]\n",
        "    strat_test_set = housing.loc[test_index]"
      ],
      "execution_count": 35,
      "outputs": []
    },
    {
      "cell_type": "code",
      "metadata": {
        "id": "vaeMJYOz91k5"
      },
      "source": [
        "housing = strat_train_set.drop('median_house_value', axis=1)\n",
        "housing_labels = strat_train_set['median_house_value'].copy()"
      ],
      "execution_count": 36,
      "outputs": []
    },
    {
      "cell_type": "code",
      "metadata": {
        "id": "TLSbktr491k5"
      },
      "source": [
        "from sklearn.base import BaseEstimator, TransformerMixin\n",
        "\n",
        "rooms_ix, bedrooms_ix, population_ix, household_ix = 3, 4, 5, 6\n",
        "\n",
        "class CombinedAttributesAdder(BaseEstimator, TransformerMixin):\n",
        "    def __init__(self, add_bedroom_per_room=True):\n",
        "        self.add_bedroom_per_room = add_bedroom_per_room\n",
        "        \n",
        "    def fit(self, X, y=None):\n",
        "        return self\n",
        "    \n",
        "    def transform(self, X):\n",
        "        rooms_per_household = X[:, rooms_ix] / X[:, household_ix]\n",
        "        population_per_household = X[:, population_ix] / X[:, household_ix]\n",
        "        if self.add_bedroom_per_room:\n",
        "            bedrooms_per_room = X[:, bedrooms_ix] / X[:, rooms_ix]\n",
        "            return np.c_[X, rooms_per_household, population_per_household, bedrooms_per_room]\n",
        "        else:\n",
        "            return np.c_[X, rooms_per_household, population_per_household]"
      ],
      "execution_count": 37,
      "outputs": []
    },
    {
      "cell_type": "code",
      "metadata": {
        "id": "1Ih7Htwb91k5"
      },
      "source": [
        "from sklearn.pipeline import Pipeline\n",
        "from sklearn.preprocessing import StandardScaler\n",
        "from sklearn.compose import ColumnTransformer\n",
        "from sklearn.preprocessing import OneHotEncoder\n",
        "from sklearn.impute import SimpleImputer\n",
        "\n",
        "housing_num = housing.drop('ocean_proximity', axis=1)\n",
        "\n",
        "num_attribs = list(housing_num)\n",
        "cat_attribs = ['ocean_proximity']\n",
        "\n",
        "num_pipeline = Pipeline([\n",
        "    ('imputer', SimpleImputer(strategy='median')),\n",
        "    ('attribs_adder', CombinedAttributesAdder()),\n",
        "    ('std_scaler', StandardScaler()),\n",
        "])\n",
        "\n",
        "full_pipeline = ColumnTransformer([\n",
        "    ('num', num_pipeline, num_attribs),\n",
        "    ('cat', OneHotEncoder(), cat_attribs),\n",
        "])\n",
        "\n",
        "housing_prepared = full_pipeline.fit_transform(housing)"
      ],
      "execution_count": 38,
      "outputs": []
    },
    {
      "cell_type": "code",
      "metadata": {
        "id": "rxfpQq9o91k6",
        "outputId": "72daee41-0c72-47ab-dac6-8b3090b23f1a",
        "colab": {
          "base_uri": "https://localhost:8080/"
        }
      },
      "source": [
        "from sklearn.svm import SVR\n",
        "from sklearn.model_selection import RandomizedSearchCV\n",
        "from sklearn.model_selection import cross_val_score\n",
        "from scipy.stats import expon, reciprocal\n",
        "\n",
        "param_random = {\n",
        "    'kernel': ['linear', 'rbf'],\n",
        "    'C': reciprocal(20, 200000),\n",
        "    'gamma': expon(scale=1.0),\n",
        "}\n",
        "\n",
        "svm_reg = SVR()\n",
        "\n",
        "random_search = RandomizedSearchCV(svm_reg, param_random,\n",
        "                                  n_iter=5, cv=5, scoring='neg_mean_squared_error',\n",
        "                                  verbose=2, random_state=42)\n",
        "\n",
        "random_search.fit(housing_prepared, housing_labels)"
      ],
      "execution_count": 39,
      "outputs": [
        {
          "output_type": "stream",
          "name": "stdout",
          "text": [
            "Fitting 5 folds for each of 5 candidates, totalling 25 fits\n",
            "[CV] C=629.782329591372, gamma=3.010121430917521, kernel=linear ......\n"
          ]
        },
        {
          "output_type": "stream",
          "name": "stderr",
          "text": [
            "[Parallel(n_jobs=1)]: Using backend SequentialBackend with 1 concurrent workers.\n"
          ]
        },
        {
          "output_type": "stream",
          "name": "stdout",
          "text": [
            "[CV]  C=629.782329591372, gamma=3.010121430917521, kernel=linear, total=   9.8s\n",
            "[CV] C=629.782329591372, gamma=3.010121430917521, kernel=linear ......\n"
          ]
        },
        {
          "output_type": "stream",
          "name": "stderr",
          "text": [
            "[Parallel(n_jobs=1)]: Done   1 out of   1 | elapsed:    9.8s remaining:    0.0s\n"
          ]
        },
        {
          "output_type": "stream",
          "name": "stdout",
          "text": [
            "[CV]  C=629.782329591372, gamma=3.010121430917521, kernel=linear, total=   9.8s\n",
            "[CV] C=629.782329591372, gamma=3.010121430917521, kernel=linear ......\n",
            "[CV]  C=629.782329591372, gamma=3.010121430917521, kernel=linear, total=  10.0s\n",
            "[CV] C=629.782329591372, gamma=3.010121430917521, kernel=linear ......\n",
            "[CV]  C=629.782329591372, gamma=3.010121430917521, kernel=linear, total=  10.1s\n",
            "[CV] C=629.782329591372, gamma=3.010121430917521, kernel=linear ......\n",
            "[CV]  C=629.782329591372, gamma=3.010121430917521, kernel=linear, total=  10.1s\n",
            "[CV] C=26290.206464300216, gamma=0.9084469696321253, kernel=rbf ......\n",
            "[CV]  C=26290.206464300216, gamma=0.9084469696321253, kernel=rbf, total=  20.1s\n",
            "[CV] C=26290.206464300216, gamma=0.9084469696321253, kernel=rbf ......\n",
            "[CV]  C=26290.206464300216, gamma=0.9084469696321253, kernel=rbf, total=  19.1s\n",
            "[CV] C=26290.206464300216, gamma=0.9084469696321253, kernel=rbf ......\n",
            "[CV]  C=26290.206464300216, gamma=0.9084469696321253, kernel=rbf, total=  19.1s\n",
            "[CV] C=26290.206464300216, gamma=0.9084469696321253, kernel=rbf ......\n",
            "[CV]  C=26290.206464300216, gamma=0.9084469696321253, kernel=rbf, total=  19.3s\n",
            "[CV] C=26290.206464300216, gamma=0.9084469696321253, kernel=rbf ......\n",
            "[CV]  C=26290.206464300216, gamma=0.9084469696321253, kernel=rbf, total=  19.7s\n",
            "[CV] C=84.14107900575871, gamma=0.059838768608680676, kernel=rbf .....\n",
            "[CV]  C=84.14107900575871, gamma=0.059838768608680676, kernel=rbf, total=  16.2s\n",
            "[CV] C=84.14107900575871, gamma=0.059838768608680676, kernel=rbf .....\n",
            "[CV]  C=84.14107900575871, gamma=0.059838768608680676, kernel=rbf, total=  16.5s\n",
            "[CV] C=84.14107900575871, gamma=0.059838768608680676, kernel=rbf .....\n",
            "[CV]  C=84.14107900575871, gamma=0.059838768608680676, kernel=rbf, total=  16.4s\n",
            "[CV] C=84.14107900575871, gamma=0.059838768608680676, kernel=rbf .....\n",
            "[CV]  C=84.14107900575871, gamma=0.059838768608680676, kernel=rbf, total=  16.4s\n",
            "[CV] C=84.14107900575871, gamma=0.059838768608680676, kernel=rbf .....\n",
            "[CV]  C=84.14107900575871, gamma=0.059838768608680676, kernel=rbf, total=  16.5s\n",
            "[CV] C=432.37884813148855, gamma=0.15416196746656105, kernel=linear ..\n",
            "[CV]  C=432.37884813148855, gamma=0.15416196746656105, kernel=linear, total=   9.8s\n",
            "[CV] C=432.37884813148855, gamma=0.15416196746656105, kernel=linear ..\n",
            "[CV]  C=432.37884813148855, gamma=0.15416196746656105, kernel=linear, total=   9.9s\n",
            "[CV] C=432.37884813148855, gamma=0.15416196746656105, kernel=linear ..\n",
            "[CV]  C=432.37884813148855, gamma=0.15416196746656105, kernel=linear, total=   9.9s\n",
            "[CV] C=432.37884813148855, gamma=0.15416196746656105, kernel=linear ..\n",
            "[CV]  C=432.37884813148855, gamma=0.15416196746656105, kernel=linear, total=  10.0s\n",
            "[CV] C=432.37884813148855, gamma=0.15416196746656105, kernel=linear ..\n",
            "[CV]  C=432.37884813148855, gamma=0.15416196746656105, kernel=linear, total=   9.7s\n",
            "[CV] C=24.17508294611391, gamma=3.503557475158312, kernel=rbf ........\n",
            "[CV]  C=24.17508294611391, gamma=3.503557475158312, kernel=rbf, total=  17.1s\n",
            "[CV] C=24.17508294611391, gamma=3.503557475158312, kernel=rbf ........\n",
            "[CV]  C=24.17508294611391, gamma=3.503557475158312, kernel=rbf, total=  17.1s\n",
            "[CV] C=24.17508294611391, gamma=3.503557475158312, kernel=rbf ........\n",
            "[CV]  C=24.17508294611391, gamma=3.503557475158312, kernel=rbf, total=  17.1s\n",
            "[CV] C=24.17508294611391, gamma=3.503557475158312, kernel=rbf ........\n",
            "[CV]  C=24.17508294611391, gamma=3.503557475158312, kernel=rbf, total=  17.1s\n",
            "[CV] C=24.17508294611391, gamma=3.503557475158312, kernel=rbf ........\n",
            "[CV]  C=24.17508294611391, gamma=3.503557475158312, kernel=rbf, total=  17.1s\n"
          ]
        },
        {
          "output_type": "stream",
          "name": "stderr",
          "text": [
            "[Parallel(n_jobs=1)]: Done  25 out of  25 | elapsed:  6.1min finished\n"
          ]
        },
        {
          "output_type": "execute_result",
          "data": {
            "text/plain": [
              "RandomizedSearchCV(cv=5, error_score=nan,\n",
              "                   estimator=SVR(C=1.0, cache_size=200, coef0=0.0, degree=3,\n",
              "                                 epsilon=0.1, gamma='scale', kernel='rbf',\n",
              "                                 max_iter=-1, shrinking=True, tol=0.001,\n",
              "                                 verbose=False),\n",
              "                   iid='deprecated', n_iter=5, n_jobs=None,\n",
              "                   param_distributions={'C': <scipy.stats._distn_infrastructure.rv_frozen object at 0x7fb296f89690>,\n",
              "                                        'gamma': <scipy.stats._distn_infrastructure.rv_frozen object at 0x7fb29670ed10>,\n",
              "                                        'kernel': ['linear', 'rbf']},\n",
              "                   pre_dispatch='2*n_jobs', random_state=42, refit=True,\n",
              "                   return_train_score=False, scoring='neg_mean_squared_error',\n",
              "                   verbose=2)"
            ]
          },
          "metadata": {},
          "execution_count": 39
        }
      ]
    },
    {
      "cell_type": "code",
      "metadata": {
        "id": "BSdMVdgryv3x",
        "outputId": "b7578073-31ca-4a8c-96ee-877a7318bddc",
        "colab": {
          "base_uri": "https://localhost:8080/"
        }
      },
      "source": [
        "from sklearn.model_selection import GridSearchCV\n",
        "from sklearn.ensemble import RandomForestRegressor\n",
        "\n",
        "param_grid = [\n",
        "    {'n_estimators': [3, 10, 30], 'max_features': [2, 4, 6, 8]},\n",
        "    {'bootstrap': [False], 'n_estimators': [3, 10], 'max_features': [2, 3, 4]},\n",
        "  ]\n",
        "\n",
        "forest_reg = RandomForestRegressor(random_state=42)\n",
        "\n",
        "grid_search = GridSearchCV(forest_reg, param_grid, cv=5,\n",
        "                           scoring='neg_mean_squared_error',\n",
        "                           return_train_score=True)\n",
        "\n",
        "grid_search.fit(housing_prepared, housing_labels)"
      ],
      "execution_count": 40,
      "outputs": [
        {
          "output_type": "execute_result",
          "data": {
            "text/plain": [
              "GridSearchCV(cv=5, error_score=nan,\n",
              "             estimator=RandomForestRegressor(bootstrap=True, ccp_alpha=0.0,\n",
              "                                             criterion='mse', max_depth=None,\n",
              "                                             max_features='auto',\n",
              "                                             max_leaf_nodes=None,\n",
              "                                             max_samples=None,\n",
              "                                             min_impurity_decrease=0.0,\n",
              "                                             min_impurity_split=None,\n",
              "                                             min_samples_leaf=1,\n",
              "                                             min_samples_split=2,\n",
              "                                             min_weight_fraction_leaf=0.0,\n",
              "                                             n_estimators=100, n_jobs=None,\n",
              "                                             oob_score=False, random_state=42,\n",
              "                                             verbose=0, warm_start=False),\n",
              "             iid='deprecated', n_jobs=None,\n",
              "             param_grid=[{'max_features': [2, 4, 6, 8],\n",
              "                          'n_estimators': [3, 10, 30]},\n",
              "                         {'bootstrap': [False], 'max_features': [2, 3, 4],\n",
              "                          'n_estimators': [3, 10]}],\n",
              "             pre_dispatch='2*n_jobs', refit=True, return_train_score=True,\n",
              "             scoring='neg_mean_squared_error', verbose=0)"
            ]
          },
          "metadata": {},
          "execution_count": 40
        }
      ]
    },
    {
      "cell_type": "code",
      "metadata": {
        "id": "fyLJxJMkUUU5",
        "outputId": "46cea3af-9aa8-4da4-ed8b-e71af7818562",
        "colab": {
          "base_uri": "https://localhost:8080/"
        }
      },
      "source": [
        "negative_mse = random_search.best_score_\n",
        "rmse = np.sqrt(-negative_mse)\n",
        "rmse"
      ],
      "execution_count": 41,
      "outputs": [
        {
          "output_type": "execute_result",
          "data": {
            "text/plain": [
              "66962.12131459899"
            ]
          },
          "metadata": {},
          "execution_count": 41
        }
      ]
    },
    {
      "cell_type": "code",
      "metadata": {
        "id": "oTbdaeqyUgVm",
        "outputId": "a4700c7b-dadf-4bfc-a30e-d35de1193c78",
        "colab": {
          "base_uri": "https://localhost:8080/"
        }
      },
      "source": [
        "random_search.best_params_"
      ],
      "execution_count": 42,
      "outputs": [
        {
          "output_type": "execute_result",
          "data": {
            "text/plain": [
              "{'C': 26290.206464300216, 'gamma': 0.9084469696321253, 'kernel': 'rbf'}"
            ]
          },
          "metadata": {},
          "execution_count": 42
        }
      ]
    },
    {
      "cell_type": "code",
      "metadata": {
        "id": "Uzdl00w8Uy-H",
        "outputId": "8b17fcaf-4df0-42e4-b316-3b8632c7c80b",
        "colab": {
          "base_uri": "https://localhost:8080/",
          "height": 281
        }
      },
      "source": [
        "import matplotlib.pyplot as plt\n",
        "\n",
        "# expon\n",
        "expon_distrib = expon(scale=1.)\n",
        "samples = expon_distrib.rvs(10000, random_state=42)\n",
        "plt.figure(figsize=(10, 4))\n",
        "plt.subplot(121)\n",
        "plt.title('Exponential distribution (scale=1.0)')\n",
        "plt.hist(samples, bins=50)\n",
        "plt.subplot(122)\n",
        "plt.title(\"Log of this distribution\")\n",
        "plt.hist(np.log(samples), bins=50)\n",
        "plt.show()"
      ],
      "execution_count": 43,
      "outputs": [
        {
          "output_type": "display_data",
          "data": {
            "image/png": "[encoded data removed]",
            "text/plain": [
              "<Figure size 720x288 with 2 Axes>"
            ]
          },
          "metadata": {
            "needs_background": "light"
          }
        }
      ]
    },
    {
      "cell_type": "code",
      "metadata": {
        "id": "iBPxPg5UVoRd",
        "outputId": "c8509157-8640-4d2b-e513-e268e67bb3bb",
        "colab": {
          "base_uri": "https://localhost:8080/",
          "height": 281
        }
      },
      "source": [
        "# reciprocal\n",
        "reciprocal_distrib = reciprocal(20, 200000)\n",
        "samples = reciprocal_distrib.rvs(10000, random_state=42)\n",
        "plt.figure(figsize=(10, 4))\n",
        "plt.subplot(121)\n",
        "plt.title(\"Reciprocal distribution (scale=1.0)\")\n",
        "plt.hist(samples, bins=50)\n",
        "plt.subplot(122)\n",
        "plt.title(\"Log of this distribution\")\n",
        "plt.hist(np.log(samples), bins=50)\n",
        "plt.show()"
      ],
      "execution_count": 44,
      "outputs": [
        {
          "output_type": "display_data",
          "data": {
            "image/png": "[encoded data removed]",
            "text/plain": [
              "<Figure size 720x288 with 2 Axes>"
            ]
          },
          "metadata": {
            "needs_background": "light"
          }
        }
      ]
    },
    {
      "cell_type": "code",
      "metadata": {
        "id": "c5H8mv3u91k6"
      },
      "source": [
        "def indices_of_top_k(arr, k):\n",
        "    return np.sort(np.argpartition(np.array(arr), -k)[-k:])\n",
        "\n",
        "class TopFeatureSelector(BaseEstimator, TransformerMixin):\n",
        "    def __init__(self, feature_importances, k):\n",
        "        self.feature_importances = feature_importances\n",
        "        self.k = k\n",
        "\n",
        "    def fit(self, X, y=None):\n",
        "        self.feature_indices_ = indices_of_top_k(self.feature_importances, self.k)\n",
        "        return self\n",
        "    \n",
        "    def transform(self, X):\n",
        "        return X[:, self.feature_indices_]"
      ],
      "execution_count": 45,
      "outputs": []
    },
    {
      "cell_type": "code",
      "metadata": {
        "id": "-80ATR2L91k6",
        "outputId": "62f773c5-512b-4ec5-eedb-47bd30a355ae",
        "colab": {
          "base_uri": "https://localhost:8080/"
        }
      },
      "source": [
        "k = 5\n",
        "\n",
        "feature_importances = grid_search.best_estimator_.feature_importances_\n",
        "\n",
        "top_k_feature_indices = indices_of_top_k(feature_importances, k)\n",
        "top_k_feature_indices"
      ],
      "execution_count": 46,
      "outputs": [
        {
          "output_type": "execute_result",
          "data": {
            "text/plain": [
              "array([ 0,  7,  8, 10, 13])"
            ]
          },
          "metadata": {},
          "execution_count": 46
        }
      ]
    },
    {
      "cell_type": "code",
      "metadata": {
        "id": "ZmVlEmWtWq96"
      },
      "source": [
        "extra_attribs = [\"rooms_per_hhold\", \"pop_per_hhold\", \"bedrooms_per_room\"]\n",
        "#cat_encoder = cat_pipeline.named_steps[\"cat_encoder\"] # 예전 방식\n",
        "cat_encoder = full_pipeline.named_transformers_[\"cat\"]\n",
        "cat_one_hot_attribs = list(cat_encoder.categories_[0])\n",
        "attributes = num_attribs + extra_attribs + cat_one_hot_attribs"
      ],
      "execution_count": 47,
      "outputs": []
    },
    {
      "cell_type": "code",
      "metadata": {
        "id": "FWstayQL16UT",
        "outputId": "f7b88477-8068-42bd-c2fe-74b3fe62a473",
        "colab": {
          "base_uri": "https://localhost:8080/"
        }
      },
      "source": [
        "np.array(attributes)[top_k_feature_indices]"
      ],
      "execution_count": 48,
      "outputs": [
        {
          "output_type": "execute_result",
          "data": {
            "text/plain": [
              "array(['longitude', 'median_income', 'income_cat', 'pop_per_hhold',\n",
              "       'INLAND'], dtype='<U18')"
            ]
          },
          "metadata": {},
          "execution_count": 48
        }
      ]
    },
    {
      "cell_type": "code",
      "metadata": {
        "id": "K7yWmiut2Yzo",
        "outputId": "25657c72-b963-4294-ada7-9ab02d2ab9b8",
        "colab": {
          "base_uri": "https://localhost:8080/"
        }
      },
      "source": [
        "sorted(zip(feature_importances, attributes), reverse=True)[:k]"
      ],
      "execution_count": 49,
      "outputs": [
        {
          "output_type": "execute_result",
          "data": {
            "text/plain": [
              "[(0.2413604895538288, 'median_income'),\n",
              " (0.16197658459849273, 'income_cat'),\n",
              " (0.10882123891274473, 'INLAND'),\n",
              " (0.10627352591969833, 'pop_per_hhold'),\n",
              " (0.06793261134305181, 'longitude')]"
            ]
          },
          "metadata": {},
          "execution_count": 49
        }
      ]
    },
    {
      "cell_type": "code",
      "metadata": {
        "id": "k2f9cZlu2clR"
      },
      "source": [
        "preparation_and_feature_selection_pipeline = Pipeline([\n",
        "                                                       ('preparation', full_pipeline),\n",
        "                                                       ('feature_selection', TopFeatureSelector(feature_importances, k))\n",
        "])"
      ],
      "execution_count": 50,
      "outputs": []
    },
    {
      "cell_type": "code",
      "metadata": {
        "id": "bSzxWcow3BG4"
      },
      "source": [
        "housing_prepared_top_k_features = preparation_and_feature_selection_pipeline.fit_transform(housing)"
      ],
      "execution_count": 51,
      "outputs": []
    },
    {
      "cell_type": "code",
      "metadata": {
        "id": "ahuYWHai3cLL",
        "outputId": "3f7d817a-1a44-4889-f1ad-aeef5e3c23ad",
        "colab": {
          "base_uri": "https://localhost:8080/"
        }
      },
      "source": [
        "housing_prepared_top_k_features[0:3]"
      ],
      "execution_count": 52,
      "outputs": [
        {
          "output_type": "execute_result",
          "data": {
            "text/plain": [
              "array([[-1.15604281, -0.61493744, -0.95445595, -0.08649871,  0.        ],\n",
              "       [-1.17602483,  1.33645936,  1.89030518, -0.03353391,  0.        ],\n",
              "       [ 1.18684903, -0.5320456 , -0.95445595, -0.09240499,  0.        ]])"
            ]
          },
          "metadata": {},
          "execution_count": 52
        }
      ]
    },
    {
      "cell_type": "code",
      "metadata": {
        "id": "vx50D138309q",
        "outputId": "0d810ed5-1dc9-4666-8d4d-bbaeb3f75fd6",
        "colab": {
          "base_uri": "https://localhost:8080/"
        }
      },
      "source": [
        "housing_prepared[0:3, top_k_feature_indices]"
      ],
      "execution_count": 53,
      "outputs": [
        {
          "output_type": "execute_result",
          "data": {
            "text/plain": [
              "array([[-1.15604281, -0.61493744, -0.95445595, -0.08649871,  0.        ],\n",
              "       [-1.17602483,  1.33645936,  1.89030518, -0.03353391,  0.        ],\n",
              "       [ 1.18684903, -0.5320456 , -0.95445595, -0.09240499,  0.        ]])"
            ]
          },
          "metadata": {},
          "execution_count": 53
        }
      ]
    },
    {
      "cell_type": "code",
      "metadata": {
        "id": "GTOXdTPf38hS"
      },
      "source": [
        "general_pipeline = Pipeline([\n",
        "                             ('preparation', full_pipeline),\n",
        "                             ('feature_selection', TopFeatureSelector(feature_importances, k)),\n",
        "                             ('svm_reg', SVR(**random_search.best_params_))\n",
        "])"
      ],
      "execution_count": 54,
      "outputs": []
    },
    {
      "cell_type": "code",
      "metadata": {
        "id": "v_AIILUy4xx0",
        "outputId": "23114b8d-1a41-43cc-b364-487b42f5e9d6",
        "colab": {
          "base_uri": "https://localhost:8080/"
        }
      },
      "source": [
        "general_pipeline.fit(housing, housing_labels)"
      ],
      "execution_count": 55,
      "outputs": [
        {
          "output_type": "execute_result",
          "data": {
            "text/plain": [
              "Pipeline(memory=None,\n",
              "         steps=[('preparation',\n",
              "                 ColumnTransformer(n_jobs=None, remainder='drop',\n",
              "                                   sparse_threshold=0.3,\n",
              "                                   transformer_weights=None,\n",
              "                                   transformers=[('num',\n",
              "                                                  Pipeline(memory=None,\n",
              "                                                           steps=[('imputer',\n",
              "                                                                   SimpleImputer(add_indicator=False,\n",
              "                                                                                 copy=True,\n",
              "                                                                                 fill_value=None,\n",
              "                                                                                 missing_values=nan,\n",
              "                                                                                 strategy='median',\n",
              "                                                                                 verbose=0)),\n",
              "                                                                  ('attribs_adder',\n",
              "                                                                   CombinedAttributesAdder(add_...\n",
              "       1.83291556e-02, 1.93269892e-02, 1.78369580e-02, 2.41360490e-01,\n",
              "       1.61976585e-01, 5.35982558e-02, 1.06273526e-01, 6.14045141e-02,\n",
              "       1.22353255e-02, 1.08821239e-01, 2.76143239e-05, 2.59938294e-03,\n",
              "       5.00807682e-03]),\n",
              "                                    k=5)),\n",
              "                ('svm_reg',\n",
              "                 SVR(C=26290.206464300216, cache_size=200, coef0=0.0, degree=3,\n",
              "                     epsilon=0.1, gamma=0.9084469696321253, kernel='rbf',\n",
              "                     max_iter=-1, shrinking=True, tol=0.001, verbose=False))],\n",
              "         verbose=False)"
            ]
          },
          "metadata": {},
          "execution_count": 55
        }
      ]
    },
    {
      "cell_type": "code",
      "metadata": {
        "id": "AiwKKM0U46Nl",
        "outputId": "3f570041-2475-4d0a-bdec-0c0bc7aa7736",
        "colab": {
          "base_uri": "https://localhost:8080/"
        }
      },
      "source": [
        "some_data = housing.iloc[:4]\n",
        "some_labels = housing_labels.iloc[:4]\n",
        "\n",
        "print('Predictions: ', general_pipeline.predict(some_data))\n",
        "print('Labels: ', list(some_labels))"
      ],
      "execution_count": 56,
      "outputs": [
        {
          "output_type": "stream",
          "name": "stdout",
          "text": [
            "Predictions:  [192763.84802288 331399.22282039 171013.30708778  50065.38511155]\n",
            "Labels:  [286600.0, 340600.0, 196900.0, 46300.0]\n"
          ]
        }
      ]
    },
    {
      "cell_type": "code",
      "metadata": {
        "id": "ibhlOE8B5Rm-",
        "outputId": "6a2a6960-7c22-48d2-d53d-d96a86db2790",
        "colab": {
          "base_uri": "https://localhost:8080/"
        }
      },
      "source": [
        "param_grid = [{\n",
        "    'preparation__num__imputer__strategy': ['mean', 'median', 'most_frequent'],\n",
        "    'feature_selection__k': list(range(1, len(feature_importances) + 1))\n",
        "}]\n",
        "\n",
        "grid_search_prep = GridSearchCV(general_pipeline, param_grid, cv=5, \n",
        "                                scoring='neg_mean_squared_error', verbose=2)\n",
        "\n",
        "grid_search_prep.fit(housing, housing_labels)"
      ],
      "execution_count": 57,
      "outputs": [
        {
          "output_type": "stream",
          "name": "stdout",
          "text": [
            "Fitting 5 folds for each of 51 candidates, totalling 255 fits\n",
            "[CV] feature_selection__k=1, preparation__num__imputer__strategy=mean \n"
          ]
        },
        {
          "output_type": "stream",
          "name": "stderr",
          "text": [
            "[Parallel(n_jobs=1)]: Using backend SequentialBackend with 1 concurrent workers.\n"
          ]
        },
        {
          "output_type": "stream",
          "name": "stdout",
          "text": [
            "[CV]  feature_selection__k=1, preparation__num__imputer__strategy=mean, total=  11.8s\n",
            "[CV] feature_selection__k=1, preparation__num__imputer__strategy=mean \n"
          ]
        },
        {
          "output_type": "stream",
          "name": "stderr",
          "text": [
            "[Parallel(n_jobs=1)]: Done   1 out of   1 | elapsed:   11.8s remaining:    0.0s\n"
          ]
        },
        {
          "output_type": "stream",
          "name": "stdout",
          "text": [
            "[CV]  feature_selection__k=1, preparation__num__imputer__strategy=mean, total=  11.8s\n",
            "[CV] feature_selection__k=1, preparation__num__imputer__strategy=mean \n",
            "[CV]  feature_selection__k=1, preparation__num__imputer__strategy=mean, total=  11.9s\n",
            "[CV] feature_selection__k=1, preparation__num__imputer__strategy=mean \n",
            "[CV]  feature_selection__k=1, preparation__num__imputer__strategy=mean, total=  11.7s\n",
            "[CV] feature_selection__k=1, preparation__num__imputer__strategy=mean \n",
            "[CV]  feature_selection__k=1, preparation__num__imputer__strategy=mean, total=  11.6s\n",
            "[CV] feature_selection__k=1, preparation__num__imputer__strategy=median \n",
            "[CV]  feature_selection__k=1, preparation__num__imputer__strategy=median, total=  11.8s\n",
            "[CV] feature_selection__k=1, preparation__num__imputer__strategy=median \n",
            "[CV]  feature_selection__k=1, preparation__num__imputer__strategy=median, total=  11.6s\n",
            "[CV] feature_selection__k=1, preparation__num__imputer__strategy=median \n",
            "[CV]  feature_selection__k=1, preparation__num__imputer__strategy=median, total=  11.8s\n",
            "[CV] feature_selection__k=1, preparation__num__imputer__strategy=median \n",
            "[CV]  feature_selection__k=1, preparation__num__imputer__strategy=median, total=  11.6s\n",
            "[CV] feature_selection__k=1, preparation__num__imputer__strategy=median \n",
            "[CV]  feature_selection__k=1, preparation__num__imputer__strategy=median, total=  11.6s\n",
            "[CV] feature_selection__k=1, preparation__num__imputer__strategy=most_frequent \n",
            "[CV]  feature_selection__k=1, preparation__num__imputer__strategy=most_frequent, total=  11.7s\n",
            "[CV] feature_selection__k=1, preparation__num__imputer__strategy=most_frequent \n",
            "[CV]  feature_selection__k=1, preparation__num__imputer__strategy=most_frequent, total=  11.7s\n",
            "[CV] feature_selection__k=1, preparation__num__imputer__strategy=most_frequent \n",
            "[CV]  feature_selection__k=1, preparation__num__imputer__strategy=most_frequent, total=  11.8s\n",
            "[CV] feature_selection__k=1, preparation__num__imputer__strategy=most_frequent \n",
            "[CV]  feature_selection__k=1, preparation__num__imputer__strategy=most_frequent, total=  11.7s\n",
            "[CV] feature_selection__k=1, preparation__num__imputer__strategy=most_frequent \n",
            "[CV]  feature_selection__k=1, preparation__num__imputer__strategy=most_frequent, total=  11.7s\n",
            "[CV] feature_selection__k=2, preparation__num__imputer__strategy=mean \n",
            "[CV]  feature_selection__k=2, preparation__num__imputer__strategy=mean, total=  12.2s\n",
            "[CV] feature_selection__k=2, preparation__num__imputer__strategy=mean \n",
            "[CV]  feature_selection__k=2, preparation__num__imputer__strategy=mean, total=  12.0s\n",
            "[CV] feature_selection__k=2, preparation__num__imputer__strategy=mean \n",
            "[CV]  feature_selection__k=2, preparation__num__imputer__strategy=mean, total=  11.8s\n",
            "[CV] feature_selection__k=2, preparation__num__imputer__strategy=mean \n",
            "[CV]  feature_selection__k=2, preparation__num__imputer__strategy=mean, total=  11.9s\n",
            "[CV] feature_selection__k=2, preparation__num__imputer__strategy=mean \n",
            "[CV]  feature_selection__k=2, preparation__num__imputer__strategy=mean, total=  12.1s\n",
            "[CV] feature_selection__k=2, preparation__num__imputer__strategy=median \n",
            "[CV]  feature_selection__k=2, preparation__num__imputer__strategy=median, total=  12.2s\n",
            "[CV] feature_selection__k=2, preparation__num__imputer__strategy=median \n",
            "[CV]  feature_selection__k=2, preparation__num__imputer__strategy=median, total=  12.1s\n",
            "[CV] feature_selection__k=2, preparation__num__imputer__strategy=median \n",
            "[CV]  feature_selection__k=2, preparation__num__imputer__strategy=median, total=  12.1s\n",
            "[CV] feature_selection__k=2, preparation__num__imputer__strategy=median \n",
            "[CV]  feature_selection__k=2, preparation__num__imputer__strategy=median, total=  12.1s\n",
            "[CV] feature_selection__k=2, preparation__num__imputer__strategy=median \n",
            "[CV]  feature_selection__k=2, preparation__num__imputer__strategy=median, total=  12.1s\n",
            "[CV] feature_selection__k=2, preparation__num__imputer__strategy=most_frequent \n",
            "[CV]  feature_selection__k=2, preparation__num__imputer__strategy=most_frequent, total=  12.1s\n",
            "[CV] feature_selection__k=2, preparation__num__imputer__strategy=most_frequent \n",
            "[CV]  feature_selection__k=2, preparation__num__imputer__strategy=most_frequent, total=  12.1s\n",
            "[CV] feature_selection__k=2, preparation__num__imputer__strategy=most_frequent \n",
            "[CV]  feature_selection__k=2, preparation__num__imputer__strategy=most_frequent, total=  11.8s\n",
            "[CV] feature_selection__k=2, preparation__num__imputer__strategy=most_frequent \n",
            "[CV]  feature_selection__k=2, preparation__num__imputer__strategy=most_frequent, total=  12.1s\n",
            "[CV] feature_selection__k=2, preparation__num__imputer__strategy=most_frequent \n",
            "[CV]  feature_selection__k=2, preparation__num__imputer__strategy=most_frequent, total=  11.9s\n",
            "[CV] feature_selection__k=3, preparation__num__imputer__strategy=mean \n",
            "[CV]  feature_selection__k=3, preparation__num__imputer__strategy=mean, total=  12.3s\n",
            "[CV] feature_selection__k=3, preparation__num__imputer__strategy=mean \n",
            "[CV]  feature_selection__k=3, preparation__num__imputer__strategy=mean, total=  12.3s\n",
            "[CV] feature_selection__k=3, preparation__num__imputer__strategy=mean \n",
            "[CV]  feature_selection__k=3, preparation__num__imputer__strategy=mean, total=  12.4s\n",
            "[CV] feature_selection__k=3, preparation__num__imputer__strategy=mean \n",
            "[CV]  feature_selection__k=3, preparation__num__imputer__strategy=mean, total=  12.4s\n",
            "[CV] feature_selection__k=3, preparation__num__imputer__strategy=mean \n",
            "[CV]  feature_selection__k=3, preparation__num__imputer__strategy=mean, total=  12.3s\n",
            "[CV] feature_selection__k=3, preparation__num__imputer__strategy=median \n",
            "[CV]  feature_selection__k=3, preparation__num__imputer__strategy=median, total=  12.5s\n",
            "[CV] feature_selection__k=3, preparation__num__imputer__strategy=median \n",
            "[CV]  feature_selection__k=3, preparation__num__imputer__strategy=median, total=  12.3s\n",
            "[CV] feature_selection__k=3, preparation__num__imputer__strategy=median \n",
            "[CV]  feature_selection__k=3, preparation__num__imputer__strategy=median, total=  12.5s\n",
            "[CV] feature_selection__k=3, preparation__num__imputer__strategy=median \n",
            "[CV]  feature_selection__k=3, preparation__num__imputer__strategy=median, total=  12.5s\n",
            "[CV] feature_selection__k=3, preparation__num__imputer__strategy=median \n",
            "[CV]  feature_selection__k=3, preparation__num__imputer__strategy=median, total=  12.5s\n",
            "[CV] feature_selection__k=3, preparation__num__imputer__strategy=most_frequent \n",
            "[CV]  feature_selection__k=3, preparation__num__imputer__strategy=most_frequent, total=  12.5s\n",
            "[CV] feature_selection__k=3, preparation__num__imputer__strategy=most_frequent \n",
            "[CV]  feature_selection__k=3, preparation__num__imputer__strategy=most_frequent, total=  12.3s\n",
            "[CV] feature_selection__k=3, preparation__num__imputer__strategy=most_frequent \n",
            "[CV]  feature_selection__k=3, preparation__num__imputer__strategy=most_frequent, total=  12.5s\n",
            "[CV] feature_selection__k=3, preparation__num__imputer__strategy=most_frequent \n",
            "[CV]  feature_selection__k=3, preparation__num__imputer__strategy=most_frequent, total=  12.3s\n",
            "[CV] feature_selection__k=3, preparation__num__imputer__strategy=most_frequent \n",
            "[CV]  feature_selection__k=3, preparation__num__imputer__strategy=most_frequent, total=  12.5s\n",
            "[CV] feature_selection__k=4, preparation__num__imputer__strategy=mean \n",
            "[CV]  feature_selection__k=4, preparation__num__imputer__strategy=mean, total=  12.6s\n",
            "[CV] feature_selection__k=4, preparation__num__imputer__strategy=mean \n",
            "[CV]  feature_selection__k=4, preparation__num__imputer__strategy=mean, total=  12.5s\n",
            "[CV] feature_selection__k=4, preparation__num__imputer__strategy=mean \n",
            "[CV]  feature_selection__k=4, preparation__num__imputer__strategy=mean, total=  12.4s\n",
            "[CV] feature_selection__k=4, preparation__num__imputer__strategy=mean \n",
            "[CV]  feature_selection__k=4, preparation__num__imputer__strategy=mean, total=  12.4s\n",
            "[CV] feature_selection__k=4, preparation__num__imputer__strategy=mean \n",
            "[CV]  feature_selection__k=4, preparation__num__imputer__strategy=mean, total=  12.3s\n",
            "[CV] feature_selection__k=4, preparation__num__imputer__strategy=median \n",
            "[CV]  feature_selection__k=4, preparation__num__imputer__strategy=median, total=  12.2s\n",
            "[CV] feature_selection__k=4, preparation__num__imputer__strategy=median \n",
            "[CV]  feature_selection__k=4, preparation__num__imputer__strategy=median, total=  12.4s\n",
            "[CV] feature_selection__k=4, preparation__num__imputer__strategy=median \n",
            "[CV]  feature_selection__k=4, preparation__num__imputer__strategy=median, total=  12.5s\n",
            "[CV] feature_selection__k=4, preparation__num__imputer__strategy=median \n",
            "[CV]  feature_selection__k=4, preparation__num__imputer__strategy=median, total=  12.4s\n",
            "[CV] feature_selection__k=4, preparation__num__imputer__strategy=median \n",
            "[CV]  feature_selection__k=4, preparation__num__imputer__strategy=median, total=  12.2s\n",
            "[CV] feature_selection__k=4, preparation__num__imputer__strategy=most_frequent \n",
            "[CV]  feature_selection__k=4, preparation__num__imputer__strategy=most_frequent, total=  12.6s\n",
            "[CV] feature_selection__k=4, preparation__num__imputer__strategy=most_frequent \n",
            "[CV]  feature_selection__k=4, preparation__num__imputer__strategy=most_frequent, total=  12.5s\n",
            "[CV] feature_selection__k=4, preparation__num__imputer__strategy=most_frequent \n",
            "[CV]  feature_selection__k=4, preparation__num__imputer__strategy=most_frequent, total=  12.4s\n",
            "[CV] feature_selection__k=4, preparation__num__imputer__strategy=most_frequent \n",
            "[CV]  feature_selection__k=4, preparation__num__imputer__strategy=most_frequent, total=  12.5s\n",
            "[CV] feature_selection__k=4, preparation__num__imputer__strategy=most_frequent \n",
            "[CV]  feature_selection__k=4, preparation__num__imputer__strategy=most_frequent, total=  12.3s\n",
            "[CV] feature_selection__k=5, preparation__num__imputer__strategy=mean \n",
            "[CV]  feature_selection__k=5, preparation__num__imputer__strategy=mean, total=  12.9s\n",
            "[CV] feature_selection__k=5, preparation__num__imputer__strategy=mean \n",
            "[CV]  feature_selection__k=5, preparation__num__imputer__strategy=mean, total=  12.8s\n",
            "[CV] feature_selection__k=5, preparation__num__imputer__strategy=mean \n",
            "[CV]  feature_selection__k=5, preparation__num__imputer__strategy=mean, total=  12.7s\n",
            "[CV] feature_selection__k=5, preparation__num__imputer__strategy=mean \n",
            "[CV]  feature_selection__k=5, preparation__num__imputer__strategy=mean, total=  12.7s\n",
            "[CV] feature_selection__k=5, preparation__num__imputer__strategy=mean \n",
            "[CV]  feature_selection__k=5, preparation__num__imputer__strategy=mean, total=  12.9s\n",
            "[CV] feature_selection__k=5, preparation__num__imputer__strategy=median \n",
            "[CV]  feature_selection__k=5, preparation__num__imputer__strategy=median, total=  12.8s\n",
            "[CV] feature_selection__k=5, preparation__num__imputer__strategy=median \n",
            "[CV]  feature_selection__k=5, preparation__num__imputer__strategy=median, total=  12.6s\n",
            "[CV] feature_selection__k=5, preparation__num__imputer__strategy=median \n",
            "[CV]  feature_selection__k=5, preparation__num__imputer__strategy=median, total=  12.7s\n",
            "[CV] feature_selection__k=5, preparation__num__imputer__strategy=median \n",
            "[CV]  feature_selection__k=5, preparation__num__imputer__strategy=median, total=  12.6s\n",
            "[CV] feature_selection__k=5, preparation__num__imputer__strategy=median \n",
            "[CV]  feature_selection__k=5, preparation__num__imputer__strategy=median, total=  12.7s\n",
            "[CV] feature_selection__k=5, preparation__num__imputer__strategy=most_frequent \n",
            "[CV]  feature_selection__k=5, preparation__num__imputer__strategy=most_frequent, total=  12.8s\n",
            "[CV] feature_selection__k=5, preparation__num__imputer__strategy=most_frequent \n",
            "[CV]  feature_selection__k=5, preparation__num__imputer__strategy=most_frequent, total=  12.8s\n",
            "[CV] feature_selection__k=5, preparation__num__imputer__strategy=most_frequent \n",
            "[CV]  feature_selection__k=5, preparation__num__imputer__strategy=most_frequent, total=  12.7s\n",
            "[CV] feature_selection__k=5, preparation__num__imputer__strategy=most_frequent \n",
            "[CV]  feature_selection__k=5, preparation__num__imputer__strategy=most_frequent, total=  12.8s\n",
            "[CV] feature_selection__k=5, preparation__num__imputer__strategy=most_frequent \n",
            "[CV]  feature_selection__k=5, preparation__num__imputer__strategy=most_frequent, total=  12.8s\n",
            "[CV] feature_selection__k=6, preparation__num__imputer__strategy=mean \n",
            "[CV]  feature_selection__k=6, preparation__num__imputer__strategy=mean, total=  13.2s\n",
            "[CV] feature_selection__k=6, preparation__num__imputer__strategy=mean \n",
            "[CV]  feature_selection__k=6, preparation__num__imputer__strategy=mean, total=  13.2s\n",
            "[CV] feature_selection__k=6, preparation__num__imputer__strategy=mean \n",
            "[CV]  feature_selection__k=6, preparation__num__imputer__strategy=mean, total=  13.2s\n",
            "[CV] feature_selection__k=6, preparation__num__imputer__strategy=mean \n",
            "[CV]  feature_selection__k=6, preparation__num__imputer__strategy=mean, total=  13.1s\n",
            "[CV] feature_selection__k=6, preparation__num__imputer__strategy=mean \n",
            "[CV]  feature_selection__k=6, preparation__num__imputer__strategy=mean, total=  13.0s\n",
            "[CV] feature_selection__k=6, preparation__num__imputer__strategy=median \n",
            "[CV]  feature_selection__k=6, preparation__num__imputer__strategy=median, total=  13.1s\n",
            "[CV] feature_selection__k=6, preparation__num__imputer__strategy=median \n",
            "[CV]  feature_selection__k=6, preparation__num__imputer__strategy=median, total=  13.1s\n",
            "[CV] feature_selection__k=6, preparation__num__imputer__strategy=median \n",
            "[CV]  feature_selection__k=6, preparation__num__imputer__strategy=median, total=  13.1s\n",
            "[CV] feature_selection__k=6, preparation__num__imputer__strategy=median \n",
            "[CV]  feature_selection__k=6, preparation__num__imputer__strategy=median, total=  13.1s\n",
            "[CV] feature_selection__k=6, preparation__num__imputer__strategy=median \n",
            "[CV]  feature_selection__k=6, preparation__num__imputer__strategy=median, total=  13.1s\n",
            "[CV] feature_selection__k=6, preparation__num__imputer__strategy=most_frequent \n",
            "[CV]  feature_selection__k=6, preparation__num__imputer__strategy=most_frequent, total=  13.1s\n",
            "[CV] feature_selection__k=6, preparation__num__imputer__strategy=most_frequent \n",
            "[CV]  feature_selection__k=6, preparation__num__imputer__strategy=most_frequent, total=  13.0s\n",
            "[CV] feature_selection__k=6, preparation__num__imputer__strategy=most_frequent \n",
            "[CV]  feature_selection__k=6, preparation__num__imputer__strategy=most_frequent, total=  13.2s\n",
            "[CV] feature_selection__k=6, preparation__num__imputer__strategy=most_frequent \n",
            "[CV]  feature_selection__k=6, preparation__num__imputer__strategy=most_frequent, total=  13.1s\n",
            "[CV] feature_selection__k=6, preparation__num__imputer__strategy=most_frequent \n",
            "[CV]  feature_selection__k=6, preparation__num__imputer__strategy=most_frequent, total=  13.1s\n",
            "[CV] feature_selection__k=7, preparation__num__imputer__strategy=mean \n",
            "[CV]  feature_selection__k=7, preparation__num__imputer__strategy=mean, total=  13.3s\n",
            "[CV] feature_selection__k=7, preparation__num__imputer__strategy=mean \n",
            "[CV]  feature_selection__k=7, preparation__num__imputer__strategy=mean, total=  13.4s\n",
            "[CV] feature_selection__k=7, preparation__num__imputer__strategy=mean \n",
            "[CV]  feature_selection__k=7, preparation__num__imputer__strategy=mean, total=  13.2s\n",
            "[CV] feature_selection__k=7, preparation__num__imputer__strategy=mean \n",
            "[CV]  feature_selection__k=7, preparation__num__imputer__strategy=mean, total=  13.2s\n",
            "[CV] feature_selection__k=7, preparation__num__imputer__strategy=mean \n",
            "[CV]  feature_selection__k=7, preparation__num__imputer__strategy=mean, total=  13.2s\n",
            "[CV] feature_selection__k=7, preparation__num__imputer__strategy=median \n",
            "[CV]  feature_selection__k=7, preparation__num__imputer__strategy=median, total=  13.2s\n",
            "[CV] feature_selection__k=7, preparation__num__imputer__strategy=median \n",
            "[CV]  feature_selection__k=7, preparation__num__imputer__strategy=median, total=  13.4s\n",
            "[CV] feature_selection__k=7, preparation__num__imputer__strategy=median \n",
            "[CV]  feature_selection__k=7, preparation__num__imputer__strategy=median, total=  13.3s\n",
            "[CV] feature_selection__k=7, preparation__num__imputer__strategy=median \n",
            "[CV]  feature_selection__k=7, preparation__num__imputer__strategy=median, total=  13.4s\n",
            "[CV] feature_selection__k=7, preparation__num__imputer__strategy=median \n",
            "[CV]  feature_selection__k=7, preparation__num__imputer__strategy=median, total=  13.3s\n",
            "[CV] feature_selection__k=7, preparation__num__imputer__strategy=most_frequent \n",
            "[CV]  feature_selection__k=7, preparation__num__imputer__strategy=most_frequent, total=  13.3s\n",
            "[CV] feature_selection__k=7, preparation__num__imputer__strategy=most_frequent \n",
            "[CV]  feature_selection__k=7, preparation__num__imputer__strategy=most_frequent, total=  13.2s\n",
            "[CV] feature_selection__k=7, preparation__num__imputer__strategy=most_frequent \n",
            "[CV]  feature_selection__k=7, preparation__num__imputer__strategy=most_frequent, total=  13.3s\n",
            "[CV] feature_selection__k=7, preparation__num__imputer__strategy=most_frequent \n",
            "[CV]  feature_selection__k=7, preparation__num__imputer__strategy=most_frequent, total=  13.2s\n",
            "[CV] feature_selection__k=7, preparation__num__imputer__strategy=most_frequent \n",
            "[CV]  feature_selection__k=7, preparation__num__imputer__strategy=most_frequent, total=  13.3s\n",
            "[CV] feature_selection__k=8, preparation__num__imputer__strategy=mean \n",
            "[CV]  feature_selection__k=8, preparation__num__imputer__strategy=mean, total=  13.4s\n",
            "[CV] feature_selection__k=8, preparation__num__imputer__strategy=mean \n",
            "[CV]  feature_selection__k=8, preparation__num__imputer__strategy=mean, total=  13.7s\n",
            "[CV] feature_selection__k=8, preparation__num__imputer__strategy=mean \n",
            "[CV]  feature_selection__k=8, preparation__num__imputer__strategy=mean, total=  13.6s\n",
            "[CV] feature_selection__k=8, preparation__num__imputer__strategy=mean \n",
            "[CV]  feature_selection__k=8, preparation__num__imputer__strategy=mean, total=  13.8s\n",
            "[CV] feature_selection__k=8, preparation__num__imputer__strategy=mean \n",
            "[CV]  feature_selection__k=8, preparation__num__imputer__strategy=mean, total=  13.5s\n",
            "[CV] feature_selection__k=8, preparation__num__imputer__strategy=median \n",
            "[CV]  feature_selection__k=8, preparation__num__imputer__strategy=median, total=  13.5s\n",
            "[CV] feature_selection__k=8, preparation__num__imputer__strategy=median \n",
            "[CV]  feature_selection__k=8, preparation__num__imputer__strategy=median, total=  13.7s\n",
            "[CV] feature_selection__k=8, preparation__num__imputer__strategy=median \n",
            "[CV]  feature_selection__k=8, preparation__num__imputer__strategy=median, total=  13.5s\n",
            "[CV] feature_selection__k=8, preparation__num__imputer__strategy=median \n",
            "[CV]  feature_selection__k=8, preparation__num__imputer__strategy=median, total=  13.7s\n",
            "[CV] feature_selection__k=8, preparation__num__imputer__strategy=median \n",
            "[CV]  feature_selection__k=8, preparation__num__imputer__strategy=median, total=  13.6s\n",
            "[CV] feature_selection__k=8, preparation__num__imputer__strategy=most_frequent \n",
            "[CV]  feature_selection__k=8, preparation__num__imputer__strategy=most_frequent, total=  13.6s\n",
            "[CV] feature_selection__k=8, preparation__num__imputer__strategy=most_frequent \n",
            "[CV]  feature_selection__k=8, preparation__num__imputer__strategy=most_frequent, total=  13.7s\n",
            "[CV] feature_selection__k=8, preparation__num__imputer__strategy=most_frequent \n",
            "[CV]  feature_selection__k=8, preparation__num__imputer__strategy=most_frequent, total=  13.7s\n",
            "[CV] feature_selection__k=8, preparation__num__imputer__strategy=most_frequent \n",
            "[CV]  feature_selection__k=8, preparation__num__imputer__strategy=most_frequent, total=  13.9s\n",
            "[CV] feature_selection__k=8, preparation__num__imputer__strategy=most_frequent \n",
            "[CV]  feature_selection__k=8, preparation__num__imputer__strategy=most_frequent, total=  13.7s\n",
            "[CV] feature_selection__k=9, preparation__num__imputer__strategy=mean \n",
            "[CV]  feature_selection__k=9, preparation__num__imputer__strategy=mean, total=  14.6s\n",
            "[CV] feature_selection__k=9, preparation__num__imputer__strategy=mean \n",
            "[CV]  feature_selection__k=9, preparation__num__imputer__strategy=mean, total=  14.5s\n",
            "[CV] feature_selection__k=9, preparation__num__imputer__strategy=mean \n",
            "[CV]  feature_selection__k=9, preparation__num__imputer__strategy=mean, total=  15.2s\n",
            "[CV] feature_selection__k=9, preparation__num__imputer__strategy=mean \n",
            "[CV]  feature_selection__k=9, preparation__num__imputer__strategy=mean, total=  14.6s\n",
            "[CV] feature_selection__k=9, preparation__num__imputer__strategy=mean \n",
            "[CV]  feature_selection__k=9, preparation__num__imputer__strategy=mean, total=  14.7s\n",
            "[CV] feature_selection__k=9, preparation__num__imputer__strategy=median \n",
            "[CV]  feature_selection__k=9, preparation__num__imputer__strategy=median, total=  14.8s\n",
            "[CV] feature_selection__k=9, preparation__num__imputer__strategy=median \n",
            "[CV]  feature_selection__k=9, preparation__num__imputer__strategy=median, total=  14.6s\n",
            "[CV] feature_selection__k=9, preparation__num__imputer__strategy=median \n",
            "[CV]  feature_selection__k=9, preparation__num__imputer__strategy=median, total=  14.8s\n",
            "[CV] feature_selection__k=9, preparation__num__imputer__strategy=median \n",
            "[CV]  feature_selection__k=9, preparation__num__imputer__strategy=median, total=  14.7s\n",
            "[CV] feature_selection__k=9, preparation__num__imputer__strategy=median \n",
            "[CV]  feature_selection__k=9, preparation__num__imputer__strategy=median, total=  15.3s\n",
            "[CV] feature_selection__k=9, preparation__num__imputer__strategy=most_frequent \n",
            "[CV]  feature_selection__k=9, preparation__num__imputer__strategy=most_frequent, total=  14.7s\n",
            "[CV] feature_selection__k=9, preparation__num__imputer__strategy=most_frequent \n",
            "[CV]  feature_selection__k=9, preparation__num__imputer__strategy=most_frequent, total=  15.1s\n",
            "[CV] feature_selection__k=9, preparation__num__imputer__strategy=most_frequent \n",
            "[CV]  feature_selection__k=9, preparation__num__imputer__strategy=most_frequent, total=  14.9s\n",
            "[CV] feature_selection__k=9, preparation__num__imputer__strategy=most_frequent \n",
            "[CV]  feature_selection__k=9, preparation__num__imputer__strategy=most_frequent, total=  14.4s\n",
            "[CV] feature_selection__k=9, preparation__num__imputer__strategy=most_frequent \n",
            "[CV]  feature_selection__k=9, preparation__num__imputer__strategy=most_frequent, total=  14.9s\n",
            "[CV] feature_selection__k=10, preparation__num__imputer__strategy=mean \n",
            "[CV]  feature_selection__k=10, preparation__num__imputer__strategy=mean, total=  15.7s\n",
            "[CV] feature_selection__k=10, preparation__num__imputer__strategy=mean \n",
            "[CV]  feature_selection__k=10, preparation__num__imputer__strategy=mean, total=  16.2s\n",
            "[CV] feature_selection__k=10, preparation__num__imputer__strategy=mean \n",
            "[CV]  feature_selection__k=10, preparation__num__imputer__strategy=mean, total=  16.0s\n",
            "[CV] feature_selection__k=10, preparation__num__imputer__strategy=mean \n",
            "[CV]  feature_selection__k=10, preparation__num__imputer__strategy=mean, total=  15.7s\n",
            "[CV] feature_selection__k=10, preparation__num__imputer__strategy=mean \n",
            "[CV]  feature_selection__k=10, preparation__num__imputer__strategy=mean, total=  15.9s\n",
            "[CV] feature_selection__k=10, preparation__num__imputer__strategy=median \n",
            "[CV]  feature_selection__k=10, preparation__num__imputer__strategy=median, total=  15.7s\n",
            "[CV] feature_selection__k=10, preparation__num__imputer__strategy=median \n",
            "[CV]  feature_selection__k=10, preparation__num__imputer__strategy=median, total=  16.0s\n",
            "[CV] feature_selection__k=10, preparation__num__imputer__strategy=median \n",
            "[CV]  feature_selection__k=10, preparation__num__imputer__strategy=median, total=  15.8s\n",
            "[CV] feature_selection__k=10, preparation__num__imputer__strategy=median \n",
            "[CV]  feature_selection__k=10, preparation__num__imputer__strategy=median, total=  16.2s\n",
            "[CV] feature_selection__k=10, preparation__num__imputer__strategy=median \n",
            "[CV]  feature_selection__k=10, preparation__num__imputer__strategy=median, total=  16.8s\n",
            "[CV] feature_selection__k=10, preparation__num__imputer__strategy=most_frequent \n",
            "[CV]  feature_selection__k=10, preparation__num__imputer__strategy=most_frequent, total=  15.8s\n",
            "[CV] feature_selection__k=10, preparation__num__imputer__strategy=most_frequent \n",
            "[CV]  feature_selection__k=10, preparation__num__imputer__strategy=most_frequent, total=  16.6s\n",
            "[CV] feature_selection__k=10, preparation__num__imputer__strategy=most_frequent \n",
            "[CV]  feature_selection__k=10, preparation__num__imputer__strategy=most_frequent, total=  15.8s\n",
            "[CV] feature_selection__k=10, preparation__num__imputer__strategy=most_frequent \n",
            "[CV]  feature_selection__k=10, preparation__num__imputer__strategy=most_frequent, total=  15.6s\n",
            "[CV] feature_selection__k=10, preparation__num__imputer__strategy=most_frequent \n",
            "[CV]  feature_selection__k=10, preparation__num__imputer__strategy=most_frequent, total=  16.0s\n",
            "[CV] feature_selection__k=11, preparation__num__imputer__strategy=mean \n",
            "[CV]  feature_selection__k=11, preparation__num__imputer__strategy=mean, total=  16.7s\n",
            "[CV] feature_selection__k=11, preparation__num__imputer__strategy=mean \n",
            "[CV]  feature_selection__k=11, preparation__num__imputer__strategy=mean, total=  17.2s\n",
            "[CV] feature_selection__k=11, preparation__num__imputer__strategy=mean \n",
            "[CV]  feature_selection__k=11, preparation__num__imputer__strategy=mean, total=  16.7s\n",
            "[CV] feature_selection__k=11, preparation__num__imputer__strategy=mean \n",
            "[CV]  feature_selection__k=11, preparation__num__imputer__strategy=mean, total=  16.9s\n",
            "[CV] feature_selection__k=11, preparation__num__imputer__strategy=mean \n",
            "[CV]  feature_selection__k=11, preparation__num__imputer__strategy=mean, total=  16.9s\n",
            "[CV] feature_selection__k=11, preparation__num__imputer__strategy=median \n",
            "[CV]  feature_selection__k=11, preparation__num__imputer__strategy=median, total=  17.3s\n",
            "[CV] feature_selection__k=11, preparation__num__imputer__strategy=median \n",
            "[CV]  feature_selection__k=11, preparation__num__imputer__strategy=median, total=  16.7s\n",
            "[CV] feature_selection__k=11, preparation__num__imputer__strategy=median \n",
            "[CV]  feature_selection__k=11, preparation__num__imputer__strategy=median, total=  16.6s\n",
            "[CV] feature_selection__k=11, preparation__num__imputer__strategy=median \n",
            "[CV]  feature_selection__k=11, preparation__num__imputer__strategy=median, total=  16.6s\n",
            "[CV] feature_selection__k=11, preparation__num__imputer__strategy=median \n",
            "[CV]  feature_selection__k=11, preparation__num__imputer__strategy=median, total=  17.3s\n",
            "[CV] feature_selection__k=11, preparation__num__imputer__strategy=most_frequent \n",
            "[CV]  feature_selection__k=11, preparation__num__imputer__strategy=most_frequent, total=  17.3s\n",
            "[CV] feature_selection__k=11, preparation__num__imputer__strategy=most_frequent \n",
            "[CV]  feature_selection__k=11, preparation__num__imputer__strategy=most_frequent, total=  17.7s\n",
            "[CV] feature_selection__k=11, preparation__num__imputer__strategy=most_frequent \n",
            "[CV]  feature_selection__k=11, preparation__num__imputer__strategy=most_frequent, total=  17.0s\n",
            "[CV] feature_selection__k=11, preparation__num__imputer__strategy=most_frequent \n",
            "[CV]  feature_selection__k=11, preparation__num__imputer__strategy=most_frequent, total=  16.9s\n",
            "[CV] feature_selection__k=11, preparation__num__imputer__strategy=most_frequent \n",
            "[CV]  feature_selection__k=11, preparation__num__imputer__strategy=most_frequent, total=  17.4s\n",
            "[CV] feature_selection__k=12, preparation__num__imputer__strategy=mean \n",
            "[CV]  feature_selection__k=12, preparation__num__imputer__strategy=mean, total=  17.1s\n",
            "[CV] feature_selection__k=12, preparation__num__imputer__strategy=mean \n",
            "[CV]  feature_selection__k=12, preparation__num__imputer__strategy=mean, total=  17.5s\n",
            "[CV] feature_selection__k=12, preparation__num__imputer__strategy=mean \n",
            "[CV]  feature_selection__k=12, preparation__num__imputer__strategy=mean, total=  17.4s\n",
            "[CV] feature_selection__k=12, preparation__num__imputer__strategy=mean \n",
            "[CV]  feature_selection__k=12, preparation__num__imputer__strategy=mean, total=  17.2s\n",
            "[CV] feature_selection__k=12, preparation__num__imputer__strategy=mean \n",
            "[CV]  feature_selection__k=12, preparation__num__imputer__strategy=mean, total=  17.2s\n",
            "[CV] feature_selection__k=12, preparation__num__imputer__strategy=median \n",
            "[CV]  feature_selection__k=12, preparation__num__imputer__strategy=median, total=  17.2s\n",
            "[CV] feature_selection__k=12, preparation__num__imputer__strategy=median \n",
            "[CV]  feature_selection__k=12, preparation__num__imputer__strategy=median, total=  17.3s\n",
            "[CV] feature_selection__k=12, preparation__num__imputer__strategy=median \n",
            "[CV]  feature_selection__k=12, preparation__num__imputer__strategy=median, total=  17.4s\n",
            "[CV] feature_selection__k=12, preparation__num__imputer__strategy=median \n",
            "[CV]  feature_selection__k=12, preparation__num__imputer__strategy=median, total=  17.3s\n",
            "[CV] feature_selection__k=12, preparation__num__imputer__strategy=median \n",
            "[CV]  feature_selection__k=12, preparation__num__imputer__strategy=median, total=  17.5s\n",
            "[CV] feature_selection__k=12, preparation__num__imputer__strategy=most_frequent \n",
            "[CV]  feature_selection__k=12, preparation__num__imputer__strategy=most_frequent, total=  17.3s\n",
            "[CV] feature_selection__k=12, preparation__num__imputer__strategy=most_frequent \n",
            "[CV]  feature_selection__k=12, preparation__num__imputer__strategy=most_frequent, total=  17.4s\n",
            "[CV] feature_selection__k=12, preparation__num__imputer__strategy=most_frequent \n",
            "[CV]  feature_selection__k=12, preparation__num__imputer__strategy=most_frequent, total=  17.4s\n",
            "[CV] feature_selection__k=12, preparation__num__imputer__strategy=most_frequent \n",
            "[CV]  feature_selection__k=12, preparation__num__imputer__strategy=most_frequent, total=  17.7s\n",
            "[CV] feature_selection__k=12, preparation__num__imputer__strategy=most_frequent \n",
            "[CV]  feature_selection__k=12, preparation__num__imputer__strategy=most_frequent, total=  17.6s\n",
            "[CV] feature_selection__k=13, preparation__num__imputer__strategy=mean \n",
            "[CV]  feature_selection__k=13, preparation__num__imputer__strategy=mean, total=  17.7s\n",
            "[CV] feature_selection__k=13, preparation__num__imputer__strategy=mean \n",
            "[CV]  feature_selection__k=13, preparation__num__imputer__strategy=mean, total=  17.9s\n",
            "[CV] feature_selection__k=13, preparation__num__imputer__strategy=mean \n",
            "[CV]  feature_selection__k=13, preparation__num__imputer__strategy=mean, total=  17.8s\n",
            "[CV] feature_selection__k=13, preparation__num__imputer__strategy=mean \n",
            "[CV]  feature_selection__k=13, preparation__num__imputer__strategy=mean, total=  17.8s\n",
            "[CV] feature_selection__k=13, preparation__num__imputer__strategy=mean \n",
            "[CV]  feature_selection__k=13, preparation__num__imputer__strategy=mean, total=  17.9s\n",
            "[CV] feature_selection__k=13, preparation__num__imputer__strategy=median \n",
            "[CV]  feature_selection__k=13, preparation__num__imputer__strategy=median, total=  17.6s\n",
            "[CV] feature_selection__k=13, preparation__num__imputer__strategy=median \n",
            "[CV]  feature_selection__k=13, preparation__num__imputer__strategy=median, total=  17.7s\n",
            "[CV] feature_selection__k=13, preparation__num__imputer__strategy=median \n",
            "[CV]  feature_selection__k=13, preparation__num__imputer__strategy=median, total=  17.8s\n",
            "[CV] feature_selection__k=13, preparation__num__imputer__strategy=median \n",
            "[CV]  feature_selection__k=13, preparation__num__imputer__strategy=median, total=  18.9s\n",
            "[CV] feature_selection__k=13, preparation__num__imputer__strategy=median \n",
            "[CV]  feature_selection__k=13, preparation__num__imputer__strategy=median, total=  18.7s\n",
            "[CV] feature_selection__k=13, preparation__num__imputer__strategy=most_frequent \n",
            "[CV]  feature_selection__k=13, preparation__num__imputer__strategy=most_frequent, total=  18.5s\n",
            "[CV] feature_selection__k=13, preparation__num__imputer__strategy=most_frequent \n",
            "[CV]  feature_selection__k=13, preparation__num__imputer__strategy=most_frequent, total=  17.9s\n",
            "[CV] feature_selection__k=13, preparation__num__imputer__strategy=most_frequent \n",
            "[CV]  feature_selection__k=13, preparation__num__imputer__strategy=most_frequent, total=  18.2s\n",
            "[CV] feature_selection__k=13, preparation__num__imputer__strategy=most_frequent \n",
            "[CV]  feature_selection__k=13, preparation__num__imputer__strategy=most_frequent, total=  18.0s\n",
            "[CV] feature_selection__k=13, preparation__num__imputer__strategy=most_frequent \n",
            "[CV]  feature_selection__k=13, preparation__num__imputer__strategy=most_frequent, total=  18.2s\n",
            "[CV] feature_selection__k=14, preparation__num__imputer__strategy=mean \n",
            "[CV]  feature_selection__k=14, preparation__num__imputer__strategy=mean, total=  18.0s\n",
            "[CV] feature_selection__k=14, preparation__num__imputer__strategy=mean \n",
            "[CV]  feature_selection__k=14, preparation__num__imputer__strategy=mean, total=  18.0s\n",
            "[CV] feature_selection__k=14, preparation__num__imputer__strategy=mean \n",
            "[CV]  feature_selection__k=14, preparation__num__imputer__strategy=mean, total=  18.6s\n",
            "[CV] feature_selection__k=14, preparation__num__imputer__strategy=mean \n",
            "[CV]  feature_selection__k=14, preparation__num__imputer__strategy=mean, total=  18.5s\n",
            "[CV] feature_selection__k=14, preparation__num__imputer__strategy=mean \n",
            "[CV]  feature_selection__k=14, preparation__num__imputer__strategy=mean, total=  18.2s\n",
            "[CV] feature_selection__k=14, preparation__num__imputer__strategy=median \n",
            "[CV]  feature_selection__k=14, preparation__num__imputer__strategy=median, total=  18.0s\n",
            "[CV] feature_selection__k=14, preparation__num__imputer__strategy=median \n",
            "[CV]  feature_selection__k=14, preparation__num__imputer__strategy=median, total=  18.5s\n",
            "[CV] feature_selection__k=14, preparation__num__imputer__strategy=median \n",
            "[CV]  feature_selection__k=14, preparation__num__imputer__strategy=median, total=  19.5s\n",
            "[CV] feature_selection__k=14, preparation__num__imputer__strategy=median \n",
            "[CV]  feature_selection__k=14, preparation__num__imputer__strategy=median, total=  19.0s\n",
            "[CV] feature_selection__k=14, preparation__num__imputer__strategy=median \n",
            "[CV]  feature_selection__k=14, preparation__num__imputer__strategy=median, total=  18.7s\n",
            "[CV] feature_selection__k=14, preparation__num__imputer__strategy=most_frequent \n",
            "[CV]  feature_selection__k=14, preparation__num__imputer__strategy=most_frequent, total=  18.3s\n",
            "[CV] feature_selection__k=14, preparation__num__imputer__strategy=most_frequent \n",
            "[CV]  feature_selection__k=14, preparation__num__imputer__strategy=most_frequent, total=  18.4s\n",
            "[CV] feature_selection__k=14, preparation__num__imputer__strategy=most_frequent \n",
            "[CV]  feature_selection__k=14, preparation__num__imputer__strategy=most_frequent, total=  18.5s\n",
            "[CV] feature_selection__k=14, preparation__num__imputer__strategy=most_frequent \n",
            "[CV]  feature_selection__k=14, preparation__num__imputer__strategy=most_frequent, total=  18.4s\n",
            "[CV] feature_selection__k=14, preparation__num__imputer__strategy=most_frequent \n",
            "[CV]  feature_selection__k=14, preparation__num__imputer__strategy=most_frequent, total=  19.9s\n",
            "[CV] feature_selection__k=15, preparation__num__imputer__strategy=mean \n",
            "[CV]  feature_selection__k=15, preparation__num__imputer__strategy=mean, total=  18.2s\n",
            "[CV] feature_selection__k=15, preparation__num__imputer__strategy=mean \n",
            "[CV]  feature_selection__k=15, preparation__num__imputer__strategy=mean, total=  18.6s\n",
            "[CV] feature_selection__k=15, preparation__num__imputer__strategy=mean \n",
            "[CV]  feature_selection__k=15, preparation__num__imputer__strategy=mean, total=  18.6s\n",
            "[CV] feature_selection__k=15, preparation__num__imputer__strategy=mean \n",
            "[CV]  feature_selection__k=15, preparation__num__imputer__strategy=mean, total=  20.1s\n",
            "[CV] feature_selection__k=15, preparation__num__imputer__strategy=mean \n",
            "[CV]  feature_selection__k=15, preparation__num__imputer__strategy=mean, total=  19.8s\n",
            "[CV] feature_selection__k=15, preparation__num__imputer__strategy=median \n",
            "[CV]  feature_selection__k=15, preparation__num__imputer__strategy=median, total=  18.6s\n",
            "[CV] feature_selection__k=15, preparation__num__imputer__strategy=median \n",
            "[CV]  feature_selection__k=15, preparation__num__imputer__strategy=median, total=  18.6s\n",
            "[CV] feature_selection__k=15, preparation__num__imputer__strategy=median \n",
            "[CV]  feature_selection__k=15, preparation__num__imputer__strategy=median, total=  18.9s\n",
            "[CV] feature_selection__k=15, preparation__num__imputer__strategy=median \n",
            "[CV]  feature_selection__k=15, preparation__num__imputer__strategy=median, total=  19.3s\n",
            "[CV] feature_selection__k=15, preparation__num__imputer__strategy=median \n",
            "[CV]  feature_selection__k=15, preparation__num__imputer__strategy=median, total=  19.1s\n",
            "[CV] feature_selection__k=15, preparation__num__imputer__strategy=most_frequent \n",
            "[CV]  feature_selection__k=15, preparation__num__imputer__strategy=most_frequent, total=  18.6s\n",
            "[CV] feature_selection__k=15, preparation__num__imputer__strategy=most_frequent \n",
            "[CV]  feature_selection__k=15, preparation__num__imputer__strategy=most_frequent, total=  18.3s\n",
            "[CV] feature_selection__k=15, preparation__num__imputer__strategy=most_frequent \n",
            "[CV]  feature_selection__k=15, preparation__num__imputer__strategy=most_frequent, total=  20.6s\n",
            "[CV] feature_selection__k=15, preparation__num__imputer__strategy=most_frequent \n",
            "[CV]  feature_selection__k=15, preparation__num__imputer__strategy=most_frequent, total=  18.8s\n",
            "[CV] feature_selection__k=15, preparation__num__imputer__strategy=most_frequent \n",
            "[CV]  feature_selection__k=15, preparation__num__imputer__strategy=most_frequent, total=  19.0s\n",
            "[CV] feature_selection__k=16, preparation__num__imputer__strategy=mean \n",
            "[CV]  feature_selection__k=16, preparation__num__imputer__strategy=mean, total=  18.9s\n",
            "[CV] feature_selection__k=16, preparation__num__imputer__strategy=mean \n",
            "[CV]  feature_selection__k=16, preparation__num__imputer__strategy=mean, total=  19.6s\n",
            "[CV] feature_selection__k=16, preparation__num__imputer__strategy=mean \n",
            "[CV]  feature_selection__k=16, preparation__num__imputer__strategy=mean, total=  19.1s\n",
            "[CV] feature_selection__k=16, preparation__num__imputer__strategy=mean \n",
            "[CV]  feature_selection__k=16, preparation__num__imputer__strategy=mean, total=  19.1s\n",
            "[CV] feature_selection__k=16, preparation__num__imputer__strategy=mean \n",
            "[CV]  feature_selection__k=16, preparation__num__imputer__strategy=mean, total=  20.3s\n",
            "[CV] feature_selection__k=16, preparation__num__imputer__strategy=median \n",
            "[CV]  feature_selection__k=16, preparation__num__imputer__strategy=median, total=  18.9s\n",
            "[CV] feature_selection__k=16, preparation__num__imputer__strategy=median \n",
            "[CV]  feature_selection__k=16, preparation__num__imputer__strategy=median, total=  18.9s\n",
            "[CV] feature_selection__k=16, preparation__num__imputer__strategy=median \n",
            "[CV]  feature_selection__k=16, preparation__num__imputer__strategy=median, total=  18.8s\n",
            "[CV] feature_selection__k=16, preparation__num__imputer__strategy=median \n",
            "[CV]  feature_selection__k=16, preparation__num__imputer__strategy=median, total=  19.4s\n",
            "[CV] feature_selection__k=16, preparation__num__imputer__strategy=median \n",
            "[CV]  feature_selection__k=16, preparation__num__imputer__strategy=median, total=  19.3s\n",
            "[CV] feature_selection__k=16, preparation__num__imputer__strategy=most_frequent \n",
            "[CV]  feature_selection__k=16, preparation__num__imputer__strategy=most_frequent, total=  18.9s\n",
            "[CV] feature_selection__k=16, preparation__num__imputer__strategy=most_frequent \n",
            "[CV]  feature_selection__k=16, preparation__num__imputer__strategy=most_frequent, total=  18.8s\n",
            "[CV] feature_selection__k=16, preparation__num__imputer__strategy=most_frequent \n",
            "[CV]  feature_selection__k=16, preparation__num__imputer__strategy=most_frequent, total=  19.3s\n",
            "[CV] feature_selection__k=16, preparation__num__imputer__strategy=most_frequent \n",
            "[CV]  feature_selection__k=16, preparation__num__imputer__strategy=most_frequent, total=  19.4s\n",
            "[CV] feature_selection__k=16, preparation__num__imputer__strategy=most_frequent \n",
            "[CV]  feature_selection__k=16, preparation__num__imputer__strategy=most_frequent, total=  20.3s\n",
            "[CV] feature_selection__k=17, preparation__num__imputer__strategy=mean \n",
            "[CV]  feature_selection__k=17, preparation__num__imputer__strategy=mean, total=  19.4s\n",
            "[CV] feature_selection__k=17, preparation__num__imputer__strategy=mean \n",
            "[CV]  feature_selection__k=17, preparation__num__imputer__strategy=mean, total=  19.2s\n",
            "[CV] feature_selection__k=17, preparation__num__imputer__strategy=mean \n",
            "[CV]  feature_selection__k=17, preparation__num__imputer__strategy=mean, total=  19.3s\n",
            "[CV] feature_selection__k=17, preparation__num__imputer__strategy=mean \n",
            "[CV]  feature_selection__k=17, preparation__num__imputer__strategy=mean, total=  19.4s\n",
            "[CV] feature_selection__k=17, preparation__num__imputer__strategy=mean \n",
            "[CV]  feature_selection__k=17, preparation__num__imputer__strategy=mean, total=  19.3s\n",
            "[CV] feature_selection__k=17, preparation__num__imputer__strategy=median \n",
            "[CV]  feature_selection__k=17, preparation__num__imputer__strategy=median, total=  18.8s\n",
            "[CV] feature_selection__k=17, preparation__num__imputer__strategy=median \n",
            "[CV]  feature_selection__k=17, preparation__num__imputer__strategy=median, total=  19.1s\n",
            "[CV] feature_selection__k=17, preparation__num__imputer__strategy=median \n",
            "[CV]  feature_selection__k=17, preparation__num__imputer__strategy=median, total=  20.5s\n",
            "[CV] feature_selection__k=17, preparation__num__imputer__strategy=median \n",
            "[CV]  feature_selection__k=17, preparation__num__imputer__strategy=median, total=  19.6s\n",
            "[CV] feature_selection__k=17, preparation__num__imputer__strategy=median \n",
            "[CV]  feature_selection__k=17, preparation__num__imputer__strategy=median, total=  19.3s\n",
            "[CV] feature_selection__k=17, preparation__num__imputer__strategy=most_frequent \n",
            "[CV]  feature_selection__k=17, preparation__num__imputer__strategy=most_frequent, total=  19.2s\n",
            "[CV] feature_selection__k=17, preparation__num__imputer__strategy=most_frequent \n",
            "[CV]  feature_selection__k=17, preparation__num__imputer__strategy=most_frequent, total=  19.3s\n",
            "[CV] feature_selection__k=17, preparation__num__imputer__strategy=most_frequent \n",
            "[CV]  feature_selection__k=17, preparation__num__imputer__strategy=most_frequent, total=  19.7s\n",
            "[CV] feature_selection__k=17, preparation__num__imputer__strategy=most_frequent \n",
            "[CV]  feature_selection__k=17, preparation__num__imputer__strategy=most_frequent, total=  19.3s\n",
            "[CV] feature_selection__k=17, preparation__num__imputer__strategy=most_frequent \n",
            "[CV]  feature_selection__k=17, preparation__num__imputer__strategy=most_frequent, total=  19.6s\n"
          ]
        },
        {
          "output_type": "stream",
          "name": "stderr",
          "text": [
            "[Parallel(n_jobs=1)]: Done 255 out of 255 | elapsed: 65.2min finished\n"
          ]
        },
        {
          "output_type": "execute_result",
          "data": {
            "text/plain": [
              "GridSearchCV(cv=5, error_score=nan,\n",
              "             estimator=Pipeline(memory=None,\n",
              "                                steps=[('preparation',\n",
              "                                        ColumnTransformer(n_jobs=None,\n",
              "                                                          remainder='drop',\n",
              "                                                          sparse_threshold=0.3,\n",
              "                                                          transformer_weights=None,\n",
              "                                                          transformers=[('num',\n",
              "                                                                         Pipeline(memory=None,\n",
              "                                                                                  steps=[('imputer',\n",
              "                                                                                          SimpleImputer(add_indicator=False,\n",
              "                                                                                                        copy=True,\n",
              "                                                                                                        fill_value=None,\n",
              "                                                                                                        missing_values=nan,\n",
              "                                                                                                        strategy='median',\n",
              "                                                                                                        verbose=0)),\n",
              "                                                                                         (...\n",
              "                                            kernel='rbf', max_iter=-1,\n",
              "                                            shrinking=True, tol=0.001,\n",
              "                                            verbose=False))],\n",
              "                                verbose=False),\n",
              "             iid='deprecated', n_jobs=None,\n",
              "             param_grid=[{'feature_selection__k': [1, 2, 3, 4, 5, 6, 7, 8, 9,\n",
              "                                                   10, 11, 12, 13, 14, 15, 16,\n",
              "                                                   17],\n",
              "                          'preparation__num__imputer__strategy': ['mean',\n",
              "                                                                  'median',\n",
              "                                                                  'most_frequent']}],\n",
              "             pre_dispatch='2*n_jobs', refit=True, return_train_score=False,\n",
              "             scoring='neg_mean_squared_error', verbose=2)"
            ]
          },
          "metadata": {},
          "execution_count": 57
        }
      ]
    },
    {
      "cell_type": "code",
      "metadata": {
        "id": "Fnz01uHk7PGA",
        "outputId": "2195a51e-18b5-4e2b-cf3e-2291c413dca2",
        "colab": {
          "base_uri": "https://localhost:8080/"
        }
      },
      "source": [
        "grid_search_prep.best_params_"
      ],
      "execution_count": 58,
      "outputs": [
        {
          "output_type": "execute_result",
          "data": {
            "text/plain": [
              "{'feature_selection__k': 9, 'preparation__num__imputer__strategy': 'mean'}"
            ]
          },
          "metadata": {},
          "execution_count": 58
        }
      ]
    }
  ]
}