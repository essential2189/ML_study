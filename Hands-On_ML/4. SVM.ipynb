{
  "nbformat": 4,
  "nbformat_minor": 0,
  "metadata": {
    "colab": {
      "name": "4. SVM.ipynb",
      "provenance": [],
      "collapsed_sections": [],
      "authorship_tag": "ABX9TyMnZQ8iCBHIA/yCI1Ote/zA",
      "include_colab_link": true
    },
    "kernelspec": {
      "name": "python3",
      "display_name": "Python 3"
    },
    "language_info": {
      "name": "python"
    }
  },
  "cells": [
    {
      "cell_type": "markdown",
      "metadata": {
        "id": "view-in-github",
        "colab_type": "text"
      },
      "source": [
        "<a href=\"https://colab.research.google.com/github/essential2189/ML_study/blob/main/Hands-On_ML/4.%20SVM.ipynb\" target=\"_parent\"><img src=\"https://colab.research.google.com/assets/colab-badge.svg\" alt=\"Open In Colab\"/></a>"
      ]
    },
    {
      "cell_type": "code",
      "metadata": {
        "colab": {
          "base_uri": "https://localhost:8080/"
        },
        "id": "ZdkTwzwIHp1r",
        "outputId": "137325a7-126e-46b6-8435-241d86ff2a57"
      },
      "source": [
        "import numpy as np\n",
        "from sklearn import datasets\n",
        "from sklearn.pipeline import Pipeline\n",
        "from sklearn.preprocessing import StandardScaler\n",
        "from sklearn.svm import LinearSVC\n",
        "\n",
        "\n",
        "iris = datasets.load_iris()\n",
        "X = iris['data'][:, (2, 3)] # 꽃잎 길이, 꽃잎 너비\n",
        "y = (iris['target'] == 2).astype(np.float64) # iris-virginica\n",
        "\n",
        "svm_clf = Pipeline([\n",
        "                    ('scaler', StandardScaler()),\n",
        "                    ('linear_svc', LinearSVC(C=1, loss='hinge')), # == ('svc', SVC(kernel='linear', C=1))    LinearSVC 가 SVC(kernel='linear') 보다 빠름\n",
        "                    # 훈련 샘플보다 특성이 많지 않다면 성능을 위해 dual=False 로 해야합니다.\n",
        "])\n",
        "\n",
        "svm_clf.fit(X, y)\n",
        "svm_clf.predict([[5.5, 1.7]])"
      ],
      "execution_count": 2,
      "outputs": [
        {
          "output_type": "execute_result",
          "data": {
            "text/plain": [
              "array([1.])"
            ]
          },
          "metadata": {},
          "execution_count": 2
        }
      ]
    },
    {
      "cell_type": "markdown",
      "metadata": {
        "id": "0Zomoj8AZYkJ"
      },
      "source": [
        "LinearSVC : 커널 트릭을 지원 안함. 계산 복잡도 $O(m*n)$\n",
        "\n",
        "SVC : 커널 트릭을 지원. 계란 복잡도 $O(m^2*n)$ ~ $O(m^3*n)$ $->$ 복잡하지만 작거나 중간 규모의 훈련 세트에 잘 맞음. 하지만 특성의 개수에는, 특히 희소 특성(각 샘플에 0이 아닌 특성이 몇 개 없는 경우)인 경우에는 잘 확장됨. 이 경우 알고리즘 성능이 샘플이 가진 0이 아닌 특성의 평균 수에 거의 비례.\n",
        "\n",
        "SVC, SVR 허용오차 파라미터 ε : tol\n",
        "\n",
        "SVR 도로의 폭 파라미터 ε : epsilon"
      ]
    },
    {
      "cell_type": "code",
      "metadata": {
        "colab": {
          "base_uri": "https://localhost:8080/"
        },
        "id": "8hojmMIGK9tj",
        "outputId": "57ec9cbc-c919-4e10-da8f-ce231ffea3a5"
      },
      "source": [
        "from sklearn.datasets import make_moons\n",
        "from sklearn.pipeline import Pipeline\n",
        "from sklearn.preprocessing import PolynomialFeatures\n",
        "\n",
        "X, y = make_moons(n_samples=100, noise=0.15)\n",
        "polynomial_svm_clf = Pipeline([\n",
        "                               ('poly_features', PolynomialFeatures(degree=3)), # 다항식 특성 추가, 주어진 차수까지 특성 간의 모든 교차항을 추가 (degree=3, 특성 a,b -> a^3, a^2, b^3, b^2, ab, a^2b, ab^2)\n",
        "                               ('scaler', StandardScaler()),\n",
        "                               ('svm_clf', LinearSVC(C=10, loss='hinge'))\n",
        "])\n",
        "\n",
        "polynomial_svm_clf.fit(X, y)"
      ],
      "execution_count": 3,
      "outputs": [
        {
          "output_type": "execute_result",
          "data": {
            "text/plain": [
              "Pipeline(memory=None,\n",
              "         steps=[('poly_features',\n",
              "                 PolynomialFeatures(degree=3, include_bias=True,\n",
              "                                    interaction_only=False, order='C')),\n",
              "                ('scaler',\n",
              "                 StandardScaler(copy=True, with_mean=True, with_std=True)),\n",
              "                ('svm_clf',\n",
              "                 LinearSVC(C=10, class_weight=None, dual=True,\n",
              "                           fit_intercept=True, intercept_scaling=1,\n",
              "                           loss='hinge', max_iter=1000, multi_class='ovr',\n",
              "                           penalty='l2', random_state=None, tol=0.0001,\n",
              "                           verbose=0))],\n",
              "         verbose=False)"
            ]
          },
          "metadata": {},
          "execution_count": 3
        }
      ]
    },
    {
      "cell_type": "code",
      "metadata": {
        "colab": {
          "base_uri": "https://localhost:8080/"
        },
        "id": "lbPn3qlTPqsa",
        "outputId": "328ae919-8d8f-4218-b440-4f3b2f5f04f3"
      },
      "source": [
        "from sklearn.svm import SVC\n",
        "\n",
        "poly_kernel_svm_clf = Pipeline([\n",
        "                                ('scaler', StandardScaler()),\n",
        "                                ('svm_clf', SVC(kernel='poly', degree=3, coef0=1, C=5)), # kernel trick : 실제로는 특성을 추가 하지 않으면서 다항식 특성을 많이 추가한 것과 같은 결과를 얻을 수 있다.\n",
        "])\n",
        "\n",
        "poly_kernel_svm_clf.fit(X, y)"
      ],
      "execution_count": 4,
      "outputs": [
        {
          "output_type": "execute_result",
          "data": {
            "text/plain": [
              "Pipeline(memory=None,\n",
              "         steps=[('scaler',\n",
              "                 StandardScaler(copy=True, with_mean=True, with_std=True)),\n",
              "                ('svm_clf',\n",
              "                 SVC(C=5, break_ties=False, cache_size=200, class_weight=None,\n",
              "                     coef0=1, decision_function_shape='ovr', degree=3,\n",
              "                     gamma='scale', kernel='poly', max_iter=-1,\n",
              "                     probability=False, random_state=None, shrinking=True,\n",
              "                     tol=0.001, verbose=False))],\n",
              "         verbose=False)"
            ]
          },
          "metadata": {},
          "execution_count": 4
        }
      ]
    },
    {
      "cell_type": "code",
      "metadata": {
        "id": "kgi2_KEaQ3FP",
        "colab": {
          "base_uri": "https://localhost:8080/"
        },
        "outputId": "2f16e79c-0226-468a-85df-2f476fc86d7c"
      },
      "source": [
        "rbf_kernel_svm_clf = Pipeline([\n",
        "                               ('scaler', StandardScaler()),\n",
        "                               ('svm_clf', SVC(kernel='rbf', gamma=5, C=0.001)), # kernel trick : 실제로는 특성을 추가 하지 않으면서 유사도 특성을 많이 추가한 것과 같은 결과를 얻을 수 있다.\n",
        "])\n",
        "\n",
        "rbf_kernel_svm_clf.fit(X, y)"
      ],
      "execution_count": 6,
      "outputs": [
        {
          "output_type": "execute_result",
          "data": {
            "text/plain": [
              "Pipeline(memory=None,\n",
              "         steps=[('scaler',\n",
              "                 StandardScaler(copy=True, with_mean=True, with_std=True)),\n",
              "                ('svm_clf',\n",
              "                 SVC(C=0.001, break_ties=False, cache_size=200,\n",
              "                     class_weight=None, coef0=0.0,\n",
              "                     decision_function_shape='ovr', degree=3, gamma=5,\n",
              "                     kernel='rbf', max_iter=-1, probability=False,\n",
              "                     random_state=None, shrinking=True, tol=0.001,\n",
              "                     verbose=False))],\n",
              "         verbose=False)"
            ]
          },
          "metadata": {},
          "execution_count": 6
        }
      ]
    },
    {
      "cell_type": "markdown",
      "metadata": {
        "id": "E_QbFP9yYuK0"
      },
      "source": [
        "SVM에서 가장 먼저 선형 커널을 시도해보는게 좋음. 특히 훈련 세트가 아주 크거나 특성 수가 많을 경우.\n",
        "\n",
        "훈련 세트가 너무 크지 않다면 가우시안 RBF 커널도 시도해볼만함.\n"
      ]
    },
    {
      "cell_type": "code",
      "metadata": {
        "colab": {
          "base_uri": "https://localhost:8080/"
        },
        "id": "Q1ylPZW4VLNw",
        "outputId": "41e535b8-2b3e-46dd-e984-647d206131bf"
      },
      "source": [
        "from sklearn.svm import LinearSVR\n",
        "\n",
        "svm_reg = LinearSVR(epsilon=1.5)\n",
        "\n",
        "svm_reg.fit(X, y)"
      ],
      "execution_count": 7,
      "outputs": [
        {
          "output_type": "execute_result",
          "data": {
            "text/plain": [
              "LinearSVR(C=1.0, dual=True, epsilon=1.5, fit_intercept=True,\n",
              "          intercept_scaling=1.0, loss='epsilon_insensitive', max_iter=1000,\n",
              "          random_state=None, tol=0.0001, verbose=0)"
            ]
          },
          "metadata": {},
          "execution_count": 7
        }
      ]
    },
    {
      "cell_type": "code",
      "metadata": {
        "colab": {
          "base_uri": "https://localhost:8080/"
        },
        "id": "qeAL327PdjDv",
        "outputId": "f5d75790-2fe4-45a9-b41d-87fb7fc76f2c"
      },
      "source": [
        "from sklearn.svm import SVR\n",
        "\n",
        "svm_poly_reg = SVR(kernel='poly', degree=2, C=100, epsilon=0.1)\n",
        "\n",
        "svm_poly_reg.fit(X, y)"
      ],
      "execution_count": 8,
      "outputs": [
        {
          "output_type": "execute_result",
          "data": {
            "text/plain": [
              "SVR(C=100, cache_size=200, coef0=0.0, degree=2, epsilon=0.1, gamma='scale',\n",
              "    kernel='poly', max_iter=-1, shrinking=True, tol=0.001, verbose=False)"
            ]
          },
          "metadata": {},
          "execution_count": 8
        }
      ]
    },
    {
      "cell_type": "markdown",
      "metadata": {
        "id": "7-TY7ppMeBGI"
      },
      "source": [
        "LinearSVR 시간이 훈련 세트 크기에 비례해서 선형적으로 늘어남. (LinearSVC 처럼)\n",
        "\n",
        "SVR 훈련 세트가 커지면 휠씬 느려짐. (SVC 처럼)"
      ]
    },
    {
      "cell_type": "code",
      "metadata": {
        "id": "J_7W3TKId6gE"
      },
      "source": [
        ""
      ],
      "execution_count": null,
      "outputs": []
    }
  ]
}