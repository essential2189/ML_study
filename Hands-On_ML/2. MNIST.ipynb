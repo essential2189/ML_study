{
  "nbformat": 4,
  "nbformat_minor": 0,
  "metadata": {
    "colab": {
      "name": "2. MNIST.ipynb",
      "provenance": []
    },
    "kernelspec": {
      "name": "python3",
      "display_name": "Python 3"
    },
    "language_info": {
      "name": "python"
    }
  },
  "cells": [
    {
      "cell_type": "code",
      "metadata": {
        "id": "APEBDdL3Oovw"
      },
      "source": [
        "import os\n",
        "import numpy as np\n",
        "import pandas as pd\n",
        "\n",
        "from sklearn.datasets import fetch_openml"
      ],
      "execution_count": 1,
      "outputs": []
    },
    {
      "cell_type": "code",
      "metadata": {
        "id": "IleGOm3LQH6B",
        "colab": {
          "base_uri": "https://localhost:8080/"
        },
        "outputId": "ec73eb0b-4e43-4154-e07e-f6a5e1a5bdf0"
      },
      "source": [
        "mnist = fetch_openml('mnist_784', version=1)\n",
        "mnist.keys()\n",
        "# DESCR: 데이터셋 설명\n",
        "# data: 샘플이 하나의 행, 특성이 하나의 열로 구성된 배열\n",
        "# target: 레이블 배열"
      ],
      "execution_count": 2,
      "outputs": [
        {
          "output_type": "execute_result",
          "data": {
            "text/plain": [
              "dict_keys(['data', 'target', 'frame', 'categories', 'feature_names', 'target_names', 'DESCR', 'details', 'url'])"
            ]
          },
          "metadata": {},
          "execution_count": 2
        }
      ]
    },
    {
      "cell_type": "code",
      "metadata": {
        "id": "Ngu-i27FQqtm",
        "colab": {
          "base_uri": "https://localhost:8080/"
        },
        "outputId": "cf49fef8-dc13-4901-fe01-c87dd036569d"
      },
      "source": [
        "X, y = mnist['data'], mnist['target']\n",
        "X.shape, y.shape\n",
        "# 28x28 = 784개의 feature"
      ],
      "execution_count": 3,
      "outputs": [
        {
          "output_type": "execute_result",
          "data": {
            "text/plain": [
              "((70000, 784), (70000,))"
            ]
          },
          "metadata": {},
          "execution_count": 3
        }
      ]
    },
    {
      "cell_type": "code",
      "metadata": {
        "id": "1GkImTBY9UT8",
        "colab": {
          "base_uri": "https://localhost:8080/",
          "height": 248
        },
        "outputId": "64296d93-3ce9-4af3-98cc-8b227cbf0f97"
      },
      "source": [
        "import matplotlib as mpl\n",
        "import matplotlib.pyplot as plt\n",
        "\n",
        "some_digit = X[0]\n",
        "some_digit_image = some_digit.reshape(28, 28)\n",
        "\n",
        "plt.imshow(some_digit_image, cmap='binary')\n",
        "plt.axis('off')\n",
        "plt.show()"
      ],
      "execution_count": 4,
      "outputs": [
        {
          "output_type": "display_data",
          "data": {
            "text/plain": [
              "<Figure size 432x288 with 1 Axes>"
            ],
            "image/png": "[encoded data removed]"
          },
          "metadata": {
            "needs_background": "light"
          }
        }
      ]
    },
    {
      "cell_type": "code",
      "metadata": {
        "id": "_jwxJJK09WaP",
        "colab": {
          "base_uri": "https://localhost:8080/"
        },
        "outputId": "8ea5160f-3e4c-4c94-90e3-a01e5d7afbe3"
      },
      "source": [
        "y[0]"
      ],
      "execution_count": 5,
      "outputs": [
        {
          "output_type": "execute_result",
          "data": {
            "text/plain": [
              "'5'"
            ]
          },
          "metadata": {},
          "execution_count": 5
        }
      ]
    },
    {
      "cell_type": "code",
      "metadata": {
        "id": "QPtmQKHnAtNf"
      },
      "source": [
        "# label이 문자열이다. 대부분 머신러닝 알고리즘은 숫자를 기대하므로 y를 정수로 변환.\n",
        "y = y.astype(np.uint8)"
      ],
      "execution_count": 6,
      "outputs": []
    },
    {
      "cell_type": "code",
      "metadata": {
        "id": "nEPdVsXtBIEZ"
      },
      "source": [
        "# MNIST의 훈련 세트는 이미 섞여 있어서 모든 교차 검증 폴드를 비슷하게 만듬.\n",
        "X_train, X_test, y_train, y_test = X[:60000], X[60000:], y[:60000], y[60000:]"
      ],
      "execution_count": 7,
      "outputs": []
    },
    {
      "cell_type": "code",
      "metadata": {
        "id": "xnZPVjnTBVgy"
      },
      "source": [
        "# 5만을 식별하는 이진 분류기\n",
        "y_train_5 = (y_train == 5)\n",
        "y_test_5 = (y_test == 5)"
      ],
      "execution_count": 8,
      "outputs": []
    },
    {
      "cell_type": "code",
      "metadata": {
        "id": "wWqd5DvqCQVa",
        "colab": {
          "base_uri": "https://localhost:8080/"
        },
        "outputId": "37c1f2f2-9c5f-4013-d787-9cf5179095e9"
      },
      "source": [
        "from sklearn.linear_model import SGDClassifier\n",
        "# 확률적 경사 하강법 (Stochastic GD)\n",
        "\n",
        "sgd_clf = SGDClassifier(random_state=42)\n",
        "sgd_clf.fit(X_train, y_train_5)\n",
        "sgd_clf.predict([some_digit])"
      ],
      "execution_count": 9,
      "outputs": [
        {
          "output_type": "execute_result",
          "data": {
            "text/plain": [
              "array([ True])"
            ]
          },
          "metadata": {},
          "execution_count": 9
        }
      ]
    },
    {
      "cell_type": "code",
      "metadata": {
        "id": "vzNzLJwoEK1N",
        "colab": {
          "base_uri": "https://localhost:8080/"
        },
        "outputId": "de1a5c2b-43db-4fa4-f399-194f1403878c"
      },
      "source": [
        "# cross_val_score\n",
        "from sklearn.model_selection import StratifiedKFold\n",
        "from sklearn.base import clone\n",
        "\n",
        "skfolds = StratifiedKFold(n_splits=3, random_state=42, shuffle=True)\n",
        "\n",
        "# 3 fold\n",
        "for train_index, test_index in skfolds.split(X_train, y_train_5):\n",
        "    clone_clf = clone(sgd_clf)\n",
        "    X_train_folds = X_train[train_index]\n",
        "    y_train_folds = y_train_5[train_index]\n",
        "    X_test_fold = X_train[test_index]\n",
        "    y_test_fold = y_train_5[test_index]\n",
        "\n",
        "    clone_clf.fit(X_train_folds, y_train_folds)\n",
        "    y_pred = clone_clf.predict(X_test_fold)\n",
        "    n_correct = sum(y_pred == y_test_fold)\n",
        "    print(n_correct / len(y_pred))"
      ],
      "execution_count": 10,
      "outputs": [
        {
          "output_type": "stream",
          "name": "stdout",
          "text": [
            "0.9669\n",
            "0.91625\n",
            "0.96785\n"
          ]
        }
      ]
    },
    {
      "cell_type": "code",
      "metadata": {
        "id": "p9ndmoKxHXGb",
        "colab": {
          "base_uri": "https://localhost:8080/"
        },
        "outputId": "529bf5b2-6b64-4e52-d913-695bcab631c1"
      },
      "source": [
        "from sklearn.model_selection import cross_val_score\n",
        "\n",
        "cross_val_score(sgd_clf, X_train, y_train_5, cv=3, scoring='accuracy')"
      ],
      "execution_count": 11,
      "outputs": [
        {
          "output_type": "execute_result",
          "data": {
            "text/plain": [
              "array([0.95035, 0.96035, 0.9604 ])"
            ]
          },
          "metadata": {},
          "execution_count": 11
        }
      ]
    },
    {
      "cell_type": "code",
      "metadata": {
        "id": "pSh0vRXSLCgB",
        "colab": {
          "base_uri": "https://localhost:8080/"
        },
        "outputId": "bcd5fa7f-03ec-4ac0-f7f2-6a91c834542d"
      },
      "source": [
        "from sklearn.base import BaseEstimator\n",
        "\n",
        "class Never5Classifier(BaseEstimator):\n",
        "    def fit(self, X, y=None):\n",
        "        return self\n",
        "    \n",
        "    def predict(self, X):\n",
        "        return np.zeros((len(X), 1), dtype=bool)\n",
        "\n",
        "never_5_clf = Never5Classifier()\n",
        "cross_val_score(never_5_clf, X_train, y_train_5, cv=3, scoring='accuracy')\n",
        "\n",
        "# 모든 이미지를 '5 아님'으로 분류했을때 정확도 90% 나옴\n",
        "# accuracy를 성능 측정 지표로 선호하지 않는 이유\n",
        "# 불균형한 데이터셋(어떤 클래스가 다른 것보다 월등히 많은 겅우)을 다룰때 더욱 심하다"
      ],
      "execution_count": 12,
      "outputs": [
        {
          "output_type": "execute_result",
          "data": {
            "text/plain": [
              "array([0.91125, 0.90855, 0.90915])"
            ]
          },
          "metadata": {},
          "execution_count": 12
        }
      ]
    },
    {
      "cell_type": "code",
      "metadata": {
        "id": "7m22J_9sLetW",
        "colab": {
          "base_uri": "https://localhost:8080/"
        },
        "outputId": "cae21867-f908-4b20-da60-b02d5e730780"
      },
      "source": [
        "# 오차 행렬 (confusion matrix)\n",
        "# 클래스 A를 클래스 B로 잘못 분류된 횟수를 세는 것.\n",
        "# 분류기가 숫자 5의 이미지를 3으로 잘못 분류한 횟수 -> 오차 행렬의 5행 3열\n",
        "\n",
        "# 먼저 실제 타깃과 비교를 위한 예측값 생성\n",
        "from sklearn.model_selection import cross_val_predict\n",
        "\n",
        "y_train_pred = cross_val_predict(sgd_clf, X_train, y_train_5, cv=3)\n",
        "\n",
        "# 오차 행렬 생성\n",
        "# 행=실제 클래스, 열=예측한 클래스\n",
        "from sklearn.metrics import confusion_matrix\n",
        "\n",
        "confusion_matrix(y_train_5, y_train_pred)\n",
        "# 첫번째 행 '5 아님' 이미지를 '5 아님'으로 정확히 분류: 53057개, 나머지 1522개는 '5'라고 잘못 분류\n",
        "# 두번째 행 '5' 이미지를 '5 아님'으로 잘못 분류: 1325개, 나머지 4096개는 정확히 '5'라고 분류\n",
        "#                    예측\n",
        "#               음성        양성\n",
        "#       음성   53892        687\n",
        "# 실제                             ㅅ\n",
        "#       양성   1891         3530   | 정밀도\n",
        "#                    <-재현율"
      ],
      "execution_count": 13,
      "outputs": [
        {
          "output_type": "execute_result",
          "data": {
            "text/plain": [
              "array([[53892,   687],\n",
              "       [ 1891,  3530]])"
            ]
          },
          "metadata": {},
          "execution_count": 13
        }
      ]
    },
    {
      "cell_type": "code",
      "metadata": {
        "id": "_qN92nSzOFU2",
        "colab": {
          "base_uri": "https://localhost:8080/"
        },
        "outputId": "ca2608b0-2ab5-4771-d258-4f6b3a09ea3f"
      },
      "source": [
        "# 완벽한 분류기의 경우 진짜 양성과 진짜 음성만 있을 것이므로 오차 행렬의 주대각선만 0이 아님\n",
        "y_train_perfect_predictions = y_train_5\n",
        "confusion_matrix(y_train_5, y_train_perfect_predictions)"
      ],
      "execution_count": 14,
      "outputs": [
        {
          "output_type": "execute_result",
          "data": {
            "text/plain": [
              "array([[54579,     0],\n",
              "       [    0,  5421]])"
            ]
          },
          "metadata": {},
          "execution_count": 14
        }
      ]
    },
    {
      "cell_type": "code",
      "metadata": {
        "id": "3M01DF9lT15B",
        "colab": {
          "base_uri": "https://localhost:8080/"
        },
        "outputId": "b2ae1ad9-fae7-470e-87b2-547c262e38fc"
      },
      "source": [
        "from sklearn.metrics import precision_score, recall_score\n",
        "\n",
        "# 정밀도 (precision)\n",
        "print(precision_score(y_train_5, y_train_pred))\n",
        "# 재현율 (recall)\n",
        "print(recall_score(y_train_5, y_train_pred))"
      ],
      "execution_count": 15,
      "outputs": [
        {
          "output_type": "stream",
          "name": "stdout",
          "text": [
            "0.8370879772350012\n",
            "0.6511713705958311\n"
          ]
        }
      ]
    },
    {
      "cell_type": "code",
      "metadata": {
        "id": "fcrpHXfrWLsZ",
        "colab": {
          "base_uri": "https://localhost:8080/"
        },
        "outputId": "a1e70485-43d8-43c0-c4eb-8c113d1c946c"
      },
      "source": [
        "# F1 score = 정밀도와 재현율의 조화 평균(harmonic mean)\n",
        "from sklearn.metrics import f1_score\n",
        "\n",
        "f1_score(y_train_5, y_train_pred)\n",
        "# 정밀도를 올리면 재현율이 줄고 그 반대도 마찬가지. 정밀도/재현율 트레이드오프"
      ],
      "execution_count": 16,
      "outputs": [
        {
          "output_type": "execute_result",
          "data": {
            "text/plain": [
              "0.7325171197343846"
            ]
          },
          "metadata": {},
          "execution_count": 16
        }
      ]
    },
    {
      "cell_type": "code",
      "metadata": {
        "id": "FotArymkgc4z",
        "colab": {
          "base_uri": "https://localhost:8080/"
        },
        "outputId": "6e5b3019-01d6-4156-a2e0-a08c06ad3cf0"
      },
      "source": [
        "y_score = sgd_clf.decision_function([some_digit])\n",
        "print(y_score)\n",
        "threshold = 0\n",
        "y_some_digit_pred = (y_score > threshold)\n",
        "y_some_digit_pred\n",
        "\n",
        "# SGDClassifier의 임곗값이 0이므로 predict와 같은 결과 반환"
      ],
      "execution_count": 17,
      "outputs": [
        {
          "output_type": "stream",
          "name": "stdout",
          "text": [
            "[2164.22030239]\n"
          ]
        },
        {
          "output_type": "execute_result",
          "data": {
            "text/plain": [
              "array([ True])"
            ]
          },
          "metadata": {},
          "execution_count": 17
        }
      ]
    },
    {
      "cell_type": "code",
      "metadata": {
        "id": "t5krTTRQhA7j",
        "colab": {
          "base_uri": "https://localhost:8080/"
        },
        "outputId": "b16b9204-8b4e-4e6b-b70f-75291082be8f"
      },
      "source": [
        "threshold = 8000\n",
        "y_some_digit_pred = (y_score > threshold)\n",
        "y_some_digit_pred"
      ],
      "execution_count": 18,
      "outputs": [
        {
          "output_type": "execute_result",
          "data": {
            "text/plain": [
              "array([False])"
            ]
          },
          "metadata": {},
          "execution_count": 18
        }
      ]
    },
    {
      "cell_type": "code",
      "metadata": {
        "id": "fNCaCjDphQaN"
      },
      "source": [
        "# 모든 샘플의 점수를 구함 (예측 결과가 아닌 결정 점수 반환)\n",
        "y_scores = cross_val_predict(sgd_clf, X_train, y_train_5,\n",
        "                            cv=3, method='decision_function')"
      ],
      "execution_count": 19,
      "outputs": []
    },
    {
      "cell_type": "code",
      "metadata": {
        "id": "i75B2COlhmke",
        "colab": {
          "base_uri": "https://localhost:8080/",
          "height": 265
        },
        "outputId": "137c7efc-4aa5-4453-f9af-041fa81455ed"
      },
      "source": [
        "# 모든 임계값에 대해 정밀도와 재현율을 계산\n",
        "from sklearn.metrics import precision_recall_curve\n",
        "\n",
        "precisions, recalls, thresholds = precision_recall_curve(y_train_5, y_scores)\n",
        "\n",
        "def plot_precision_recall_vs_threshold(precisions, recalls, thresholds):\n",
        "    plt.plot(thresholds, precisions[:-1], 'b--', label='정밀도')\n",
        "    plt.plot(thresholds, recalls[:-1], 'g-', label='재현율')\n",
        "\n",
        "plot_precision_recall_vs_threshold(precisions, recalls, thresholds)\n",
        "plt.show()"
      ],
      "execution_count": 20,
      "outputs": [
        {
          "output_type": "display_data",
          "data": {
            "text/plain": [
              "<Figure size 432x288 with 1 Axes>"
            ],
            "image/png": "[encoded data removed]"
          },
          "metadata": {
            "needs_background": "light"
          }
        }
      ]
    },
    {
      "cell_type": "code",
      "metadata": {
        "id": "roGF7d9YiBGf",
        "colab": {
          "base_uri": "https://localhost:8080/"
        },
        "outputId": "7efc7b68-1abb-4d95-d25c-1eaa38b3477a"
      },
      "source": [
        "# argmax는 최댓값의 첫번째 인덱스를 반환. 여기서는 첫번째 True 값을 의미.\n",
        "threshold_90_precision = thresholds[np.argmax(precisions >= 0.90)]\n",
        "print(threshold_90_precision)\n",
        "\n",
        "# 임계값 설정 (점수가 3370보다 높은것들)\n",
        "y_train_pred_90 = (y_scores >= threshold_90_precision)\n",
        "print(y_train_pred_90)\n",
        "\n",
        "print(precision_score(y_train_5, y_train_pred_90))\n",
        "print(recall_score(y_train_5, y_train_pred_90))"
      ],
      "execution_count": 21,
      "outputs": [
        {
          "output_type": "stream",
          "name": "stdout",
          "text": [
            "3370.0194991439557\n",
            "[False False False ...  True False False]\n",
            "0.9000345901072293\n",
            "0.4799852425751706\n"
          ]
        }
      ]
    },
    {
      "cell_type": "code",
      "metadata": {
        "id": "--bWMnv7Ntok",
        "colab": {
          "base_uri": "https://localhost:8080/",
          "height": 288
        },
        "outputId": "080c5a73-354d-435e-b06b-da23d418a55a"
      },
      "source": [
        "def plot_precision_vs_recall(precisions, recalls):\n",
        "    plt.plot(recalls, precisions, \"b-\", linewidth=2)\n",
        "    plt.xlabel(\"Recall\", fontsize=16)\n",
        "    plt.ylabel(\"Precision\", fontsize=16)\n",
        "    plt.axis([0, 1, 0, 1])\n",
        "    plt.grid(True)\n",
        "\n",
        "plot_precision_vs_recall(precisions, recalls)\n",
        "plt.show()\n",
        "# 곡선이 오른쪽 위에 가까워질수록 좋음"
      ],
      "execution_count": 22,
      "outputs": [
        {
          "output_type": "display_data",
          "data": {
            "text/plain": [
              "<Figure size 432x288 with 1 Axes>"
            ],
            "image/png": "[encoded data removed]"
          },
          "metadata": {
            "needs_background": "light"
          }
        }
      ]
    },
    {
      "cell_type": "code",
      "metadata": {
        "id": "AnZlswACEn2k"
      },
      "source": [
        "from sklearn.metrics import roc_curve\n",
        "\n",
        "# fpr = 1 - tnr\n",
        "# tpr = 재현율\n",
        "fpr, tpr, thresholds = roc_curve(y_train_5, y_scores)"
      ],
      "execution_count": 23,
      "outputs": []
    },
    {
      "cell_type": "code",
      "metadata": {
        "id": "Qkg47NNIG-ox",
        "colab": {
          "base_uri": "https://localhost:8080/",
          "height": 284
        },
        "outputId": "f52d0e94-1c78-481d-d4a3-d0d5055a9516"
      },
      "source": [
        "def plot_roc_curve(fpr, tpr, label=None):\n",
        "    plt.plot(fpr, tpr, linewidth=2, label=label)\n",
        "    plt.plot([0, 1], [0, 1], 'k--')\n",
        "    plt.xlabel('False Positive Rate (Fall-Out)', fontsize=16) # Not shown\n",
        "    plt.ylabel('True Positive Rate (Recall)', fontsize=16)    # Not shown\n",
        "    plt.grid(True)                                            # Not shown\n",
        "\n",
        "plot_roc_curve(fpr, tpr)\n",
        "plt.show()\n",
        "# 좋은 분류기는 점선에서 최대한 멀리 떨어져 있어야함 (왼쪽 위)\n",
        "# 점선은 완전 랜덤 분류기"
      ],
      "execution_count": 24,
      "outputs": [
        {
          "output_type": "display_data",
          "data": {
            "text/plain": [
              "<Figure size 432x288 with 1 Axes>"
            ],
            "image/png": "[encoded data removed]"
          },
          "metadata": {
            "needs_background": "light"
          }
        }
      ]
    },
    {
      "cell_type": "code",
      "metadata": {
        "id": "Qq9lnDqgKX65",
        "colab": {
          "base_uri": "https://localhost:8080/"
        },
        "outputId": "dab872db-1970-45d0-d8fb-73654efbbd38"
      },
      "source": [
        "from sklearn.metrics import roc_auc_score\n",
        "\n",
        "roc_auc_score(y_train_5, y_scores)\n",
        "# 완벽한 분류기는 auc=1 (accuracy 아님)\n",
        "# 완전 랜덤 분류기는 auc=0.5 (이진 분류기라서)"
      ],
      "execution_count": 25,
      "outputs": [
        {
          "output_type": "execute_result",
          "data": {
            "text/plain": [
              "0.9604938554008616"
            ]
          },
          "metadata": {},
          "execution_count": 25
        }
      ]
    },
    {
      "cell_type": "markdown",
      "metadata": {
        "id": "h4qaNbNoOBiE"
      },
      "source": [
        "양성 클래스가 드물거나 거짓 음성보다 거짓 양성이 더 중요할때 PR 곡선을 사용. (정밀도/재현율)\n",
        "그렇지 않으면 ROC 사용.\n",
        "\n",
        "예를 들어 방금전 ROC 곡선이 잘 나와서 좋은 분류기라고 생각할 수 있는데 이는 음성(5아님)에 비해 양성(5)이 크게 적기 때문이다.\n",
        "이와는 다르게 PR 곡선은 분류기의 성능 개선 여지가 얼마나 되는지(오른쪽 위 모서리) 잘 보여준다.\n"
      ]
    },
    {
      "cell_type": "code",
      "metadata": {
        "id": "carJHYuiNJrz",
        "colab": {
          "base_uri": "https://localhost:8080/"
        },
        "outputId": "2c42469d-c0a9-4f91-caab-037c57411ec3"
      },
      "source": [
        "# 사이킷런은 일반적으로 decision_function() 또는 predict_proba() 메서드 둘 다 또는 둘 중 하나를 가지고있다.\n",
        "from sklearn.ensemble import RandomForestClassifier\n",
        "\n",
        "forest_clf = RandomForestClassifier(random_state=42)\n",
        "\n",
        "y_probas_forest = cross_val_predict(forest_clf, X_train, y_train_5,\n",
        "                                    cv=3, method='predict_proba')\n",
        "# predict_proba() 메서느는 샘플이 행, 클래스가 열이고\n",
        "# 샘플이 주어진 클래스에 속할 확률을 담은 배열을 반환\n",
        "# (어떤 이미지가 5일 확률 70%)\n",
        "print(y_probas_forest)"
      ],
      "execution_count": 26,
      "outputs": [
        {
          "output_type": "stream",
          "name": "stdout",
          "text": [
            "[[0.11 0.89]\n",
            " [0.99 0.01]\n",
            " [0.96 0.04]\n",
            " ...\n",
            " [0.02 0.98]\n",
            " [0.92 0.08]\n",
            " [0.94 0.06]]\n"
          ]
        }
      ]
    },
    {
      "cell_type": "code",
      "metadata": {
        "id": "kHOCSYpHWERe"
      },
      "source": [
        "# roc_curve()는 레이블과 점수를 기대한다. 하지만 점수 대신 클래스 확률을 전달 할 수 있다.\n",
        "y_scores_forest = y_probas_forest[:, 1] # 양성 클래스에 대한 확률을 점수로 사용\n",
        "fpr_forest, tpr_forest, thresholds_forest = roc_curve(y_train_5, y_scores_forest)"
      ],
      "execution_count": 27,
      "outputs": []
    },
    {
      "cell_type": "code",
      "metadata": {
        "id": "DLQAiznLYnTi",
        "colab": {
          "base_uri": "https://localhost:8080/",
          "height": 284
        },
        "outputId": "dc11fc45-1d9e-41b4-d535-319fb7bf30c8"
      },
      "source": [
        "plt.plot(fpr, tpr, \"b:\", linewidth=2, label=\"SGD\") \n",
        "plot_roc_curve(fpr_forest, tpr_forest, \"Random Forest\") \n",
        "plt.grid(True)\n",
        "plt.legend(loc=\"lower right\")\n",
        "plt.show()"
      ],
      "execution_count": 28,
      "outputs": [
        {
          "output_type": "display_data",
          "data": {
            "text/plain": [
              "<Figure size 432x288 with 1 Axes>"
            ],
            "image/png": "[encoded data removed]"
          },
          "metadata": {
            "needs_background": "light"
          }
        }
      ]
    },
    {
      "cell_type": "code",
      "metadata": {
        "id": "8aJnlQRZY2as",
        "colab": {
          "base_uri": "https://localhost:8080/"
        },
        "outputId": "d8948ef3-063d-4579-fec2-4ef45ac56122"
      },
      "source": [
        "print(roc_auc_score(y_train_5, y_scores_forest))\n",
        "\n",
        "y_train_pred_forest = cross_val_predict(forest_clf, X_train, y_train_5, cv=3)\n",
        "print(precision_score(y_train_5, y_train_pred_forest))\n",
        "print(recall_score(y_train_5, y_train_pred_forest))"
      ],
      "execution_count": 29,
      "outputs": [
        {
          "output_type": "stream",
          "name": "stdout",
          "text": [
            "0.9983436731328145\n",
            "0.9905083315756169\n",
            "0.8662608374838591\n"
          ]
        }
      ]
    },
    {
      "cell_type": "markdown",
      "metadata": {
        "id": "8heYBUGhaouD"
      },
      "source": [
        "다중 분류"
      ]
    },
    {
      "cell_type": "code",
      "metadata": {
        "id": "RJInZ8lvZ9gb",
        "colab": {
          "base_uri": "https://localhost:8080/"
        },
        "outputId": "80fd40d6-c741-407b-bd3e-53ab3a0d95c8"
      },
      "source": [
        "# OvR : 특정 숫자 하나만 구분하는 숫자별 이진 분류기 10개(0~9)\n",
        "# OvO : 0과 1 구별, 1과 2 구별 등 각 숫자의 조합마다 이진 분류기를 훈련. (OvO 장점, 각 분류기의 훈련에 두 클래스에 해당하는 샘플만 필요)\n",
        "# SVM 빼고는 대부분 OvR 선호\n",
        "# 사이킷런은 알고리즘에 따라 자동으로 OvO 또는 OvR 실행\n",
        "from sklearn.svm import SVC\n",
        "\n",
        "svm_clf = SVC()\n",
        "svm_clf.fit(X_train, y_train) # y_train_5가 아니고 y_train 사용\n",
        "svm_clf.predict([some_digit])\n",
        "# 내부에서 사이킷런이 OvO 전략을 사용해 45개의 이진 분류기를 훈련시키고 각각의 결정 점수를 얻어 점수가 가장 높은 클래스 선택."
      ],
      "execution_count": 30,
      "outputs": [
        {
          "output_type": "execute_result",
          "data": {
            "text/plain": [
              "array([5], dtype=uint8)"
            ]
          },
          "metadata": {},
          "execution_count": 30
        }
      ]
    },
    {
      "cell_type": "code",
      "metadata": {
        "id": "ds200p-hdDte",
        "colab": {
          "base_uri": "https://localhost:8080/"
        },
        "outputId": "7b5e1871-a3cf-42f4-fc79-449635e7febf"
      },
      "source": [
        "some_digit_scores = svm_clf.decision_function([some_digit])\n",
        "print(some_digit_scores)\n",
        "\n",
        "print(np.argmax(some_digit_scores))\n",
        "\n",
        "print(svm_clf.classes_)\n",
        "print(svm_clf.classes_[5]) # svm_clf.classes_[np.argmax(some_digit_scores)]"
      ],
      "execution_count": 31,
      "outputs": [
        {
          "output_type": "stream",
          "name": "stdout",
          "text": [
            "[[ 1.72501977  2.72809088  7.2510018   8.3076379  -0.31087254  9.3132482\n",
            "   1.70975103  2.76765202  6.23049537  4.84771048]]\n",
            "5\n",
            "[0 1 2 3 4 5 6 7 8 9]\n",
            "5\n"
          ]
        }
      ]
    },
    {
      "cell_type": "code",
      "metadata": {
        "id": "Q07IFbWEeqVc",
        "colab": {
          "base_uri": "https://localhost:8080/"
        },
        "outputId": "c5545319-6391-4374-82c3-d0ecbee30144"
      },
      "source": [
        "# 강제로 OvO나 OvR을 사용하는 법\n",
        "from sklearn.multiclass import OneVsRestClassifier\n",
        "\n",
        "ovr_clf = OneVsRestClassifier(SVC())\n",
        "ovr_clf.fit(X_train, y_train)\n",
        "ovr_clf.predict([some_digit])"
      ],
      "execution_count": 32,
      "outputs": [
        {
          "output_type": "execute_result",
          "data": {
            "text/plain": [
              "array([5], dtype=uint8)"
            ]
          },
          "metadata": {},
          "execution_count": 32
        }
      ]
    },
    {
      "cell_type": "code",
      "metadata": {
        "colab": {
          "base_uri": "https://localhost:8080/"
        },
        "id": "YZQltd5gO0Sj",
        "outputId": "8e8f2463-303b-41d1-edac-e065f4a288d7"
      },
      "source": [
        "print(len(ovr_clf.estimators_))"
      ],
      "execution_count": 33,
      "outputs": [
        {
          "output_type": "stream",
          "name": "stdout",
          "text": [
            "10\n"
          ]
        }
      ]
    },
    {
      "cell_type": "code",
      "metadata": {
        "colab": {
          "base_uri": "https://localhost:8080/"
        },
        "id": "kKWv7evvO0y0",
        "outputId": "a8598b55-2143-470c-afbe-21381df2a955"
      },
      "source": [
        "# SGDClissifier는 직접 샘플을 다중 클래스로 분류할 수 있기 때문에 OvR이나 OvO를 따로 적용할 필요 없음.\n",
        "sgd_clf.fit(X_train, y_train)\n",
        "sgd_clf.predict([some_digit])"
      ],
      "execution_count": 34,
      "outputs": [
        {
          "output_type": "execute_result",
          "data": {
            "text/plain": [
              "array([3], dtype=uint8)"
            ]
          },
          "metadata": {},
          "execution_count": 34
        }
      ]
    },
    {
      "cell_type": "code",
      "metadata": {
        "colab": {
          "base_uri": "https://localhost:8080/"
        },
        "id": "MS5g9PFFPr9x",
        "outputId": "069a510a-2b1c-443a-8c18-014983710ce8"
      },
      "source": [
        "# decision_function()은 클래스마다 하나의 값을 반환. SGD 분류기가 클래스마다 부여한 점수.\n",
        "sgd_clf.decision_function([some_digit])"
      ],
      "execution_count": 35,
      "outputs": [
        {
          "output_type": "execute_result",
          "data": {
            "text/plain": [
              "array([[-31893.03095419, -34419.69069632,  -9530.63950739,\n",
              "          1823.73154031, -22320.14822878,  -1385.80478895,\n",
              "        -26188.91070951, -16147.51323997,  -4604.35491274,\n",
              "        -12050.767298  ]])"
            ]
          },
          "metadata": {},
          "execution_count": 35
        }
      ]
    },
    {
      "cell_type": "code",
      "metadata": {
        "colab": {
          "base_uri": "https://localhost:8080/"
        },
        "id": "WukNJN_qQGz-",
        "outputId": "60b596b0-d05f-4fcb-f187-af7dfc7886c1"
      },
      "source": [
        "cross_val_score(sgd_clf, X_train, y_train, cv=3, scoring='accuracy')"
      ],
      "execution_count": 36,
      "outputs": [
        {
          "output_type": "execute_result",
          "data": {
            "text/plain": [
              "array([0.87365, 0.85835, 0.8689 ])"
            ]
          },
          "metadata": {},
          "execution_count": 36
        }
      ]
    },
    {
      "cell_type": "code",
      "metadata": {
        "colab": {
          "base_uri": "https://localhost:8080/"
        },
        "id": "dAQJhBWWQcgK",
        "outputId": "febca529-1034-43e8-df25-c161d15cd8f8"
      },
      "source": [
        "# 입력의 스케줄을 조정 (StandardScaler: 평균을 뺀 후 표준편차로 나누어 결과 분포의 분산이 1이 되도록함. (이상치에 덜 영향 받음))\n",
        "from sklearn.preprocessing import StandardScaler\n",
        "\n",
        "scaler = StandardScaler()\n",
        "X_train_scaled = scaler.fit_transform(X_train.astype(np.float64))\n",
        "\n",
        "cross_val_score(sgd_clf, X_train_scaled, y_train, cv=3, scoring='accuracy')"
      ],
      "execution_count": 37,
      "outputs": [
        {
          "output_type": "execute_result",
          "data": {
            "text/plain": [
              "array([0.8983, 0.891 , 0.9018])"
            ]
          },
          "metadata": {},
          "execution_count": 37
        }
      ]
    },
    {
      "cell_type": "code",
      "metadata": {
        "id": "NBaPBC-uTJ49",
        "outputId": "bcd297c3-3045-4a9b-9dcd-f97d23922c19",
        "colab": {
          "base_uri": "https://localhost:8080/"
        }
      },
      "source": [
        "y_train_pred = cross_val_predict(sgd_clf, X_train_scaled, y_train, cv=3)\n",
        "conf_mx = confusion_matrix(y_train, y_train_pred)\n",
        "conf_mx"
      ],
      "execution_count": 38,
      "outputs": [
        {
          "output_type": "execute_result",
          "data": {
            "text/plain": [
              "array([[5577,    0,   22,    5,    8,   43,   36,    6,  225,    1],\n",
              "       [   0, 6400,   37,   24,    4,   44,    4,    7,  212,   10],\n",
              "       [  27,   27, 5220,   92,   73,   27,   67,   36,  378,   11],\n",
              "       [  22,   17,  117, 5227,    2,  203,   27,   40,  403,   73],\n",
              "       [  12,   14,   41,    9, 5182,   12,   34,   27,  347,  164],\n",
              "       [  27,   15,   30,  168,   53, 4444,   75,   14,  535,   60],\n",
              "       [  30,   15,   42,    3,   44,   97, 5552,    3,  131,    1],\n",
              "       [  21,   10,   51,   30,   49,   12,    3, 5684,  195,  210],\n",
              "       [  17,   63,   48,   86,    3,  126,   25,   10, 5429,   44],\n",
              "       [  25,   18,   30,   64,  118,   36,    1,  179,  371, 5107]])"
            ]
          },
          "metadata": {},
          "execution_count": 38
        }
      ]
    },
    {
      "cell_type": "code",
      "metadata": {
        "id": "bc7VT2gATflV",
        "outputId": "d9218db6-5c1d-4d8a-8650-a54e959d2aa9",
        "colab": {
          "base_uri": "https://localhost:8080/",
          "height": 275
        }
      },
      "source": [
        "plt.matshow(conf_mx, cmap=plt.cm.gray)\n",
        "plt.show()"
      ],
      "execution_count": 39,
      "outputs": [
        {
          "output_type": "display_data",
          "data": {
            "text/plain": [
              "<Figure size 288x288 with 1 Axes>"
            ],
            "image/png": "[encoded data removed]"
          },
          "metadata": {
            "needs_background": "light"
          }
        }
      ]
    },
    {
      "cell_type": "code",
      "metadata": {
        "id": "n3i8dWwWZL8I",
        "outputId": "78d6ec76-022a-401d-c912-b9b8998d9f45",
        "colab": {
          "base_uri": "https://localhost:8080/"
        }
      },
      "source": [
        "row_sums = conf_mx.sum(axis=1, keepdims=True)\n",
        "print(row_sums)\n",
        "\n",
        "norm_conf_mx = conf_mx / row_sums\n",
        "print(norm_conf_mx)"
      ],
      "execution_count": 41,
      "outputs": [
        {
          "output_type": "stream",
          "name": "stdout",
          "text": [
            "[[5923]\n",
            " [6742]\n",
            " [5958]\n",
            " [6131]\n",
            " [5842]\n",
            " [5421]\n",
            " [5918]\n",
            " [6265]\n",
            " [5851]\n",
            " [5949]]\n",
            "[[9.41583657e-01 0.00000000e+00 3.71433395e-03 8.44166807e-04\n",
            "  1.35066689e-03 7.25983454e-03 6.07800101e-03 1.01300017e-03\n",
            "  3.79875063e-02 1.68833361e-04]\n",
            " [0.00000000e+00 9.49273213e-01 5.48798576e-03 3.55977455e-03\n",
            "  5.93295758e-04 6.52625334e-03 5.93295758e-04 1.03826758e-03\n",
            "  3.14446752e-02 1.48323939e-03]\n",
            " [4.53172205e-03 4.53172205e-03 8.76132931e-01 1.54414233e-02\n",
            "  1.22524337e-02 4.53172205e-03 1.12453844e-02 6.04229607e-03\n",
            "  6.34441088e-02 1.84625713e-03]\n",
            " [3.58832164e-03 2.77279400e-03 1.90833469e-02 8.52552602e-01\n",
            "  3.26211059e-04 3.31104224e-02 4.40384929e-03 6.52422117e-03\n",
            "  6.57315283e-02 1.19067036e-02]\n",
            " [2.05409106e-03 2.39643958e-03 7.01814447e-03 1.54056830e-03\n",
            "  8.87024991e-01 2.05409106e-03 5.81992468e-03 4.62170490e-03\n",
            "  5.93974666e-02 2.80725779e-02]\n",
            " [4.98063088e-03 2.76701716e-03 5.53403431e-03 3.09905921e-02\n",
            "  9.77679395e-03 8.19774949e-01 1.38350858e-02 2.58254935e-03\n",
            "  9.86902785e-02 1.10680686e-02]\n",
            " [5.06928016e-03 2.53464008e-03 7.09699223e-03 5.06928016e-04\n",
            "  7.43494424e-03 1.63906725e-02 9.38154782e-01 5.06928016e-04\n",
            "  2.21358567e-02 1.68976005e-04]\n",
            " [3.35195531e-03 1.59616919e-03 8.14046289e-03 4.78850758e-03\n",
            "  7.82122905e-03 1.91540303e-03 4.78850758e-04 9.07262570e-01\n",
            "  3.11252993e-02 3.35195531e-02]\n",
            " [2.90548624e-03 1.07673902e-02 8.20372586e-03 1.46983422e-02\n",
            "  5.12732866e-04 2.15347804e-02 4.27277388e-03 1.70910955e-03\n",
            "  9.27875577e-01 7.52008204e-03]\n",
            " [4.20238696e-03 3.02571861e-03 5.04286435e-03 1.07581106e-02\n",
            "  1.98352664e-02 6.05143722e-03 1.68095478e-04 3.00890906e-02\n",
            "  6.23634224e-02 8.58463607e-01]]\n"
          ]
        }
      ]
    },
    {
      "cell_type": "code",
      "metadata": {
        "id": "xhQlWpzgZcbD",
        "outputId": "8ce14be9-3581-4221-c2fd-48e12f35b2fc",
        "colab": {
          "base_uri": "https://localhost:8080/",
          "height": 275
        }
      },
      "source": [
        "np.fill_diagonal(norm_conf_mx, 0)\n",
        "plt.matshow(norm_conf_mx, cmap=plt.cm.gray)\n",
        "plt.show()"
      ],
      "execution_count": 42,
      "outputs": [
        {
          "output_type": "display_data",
          "data": {
            "text/plain": [
              "<Figure size 288x288 with 1 Axes>"
            ],
            "image/png": "[encoded data removed]"
          },
          "metadata": {
            "needs_background": "light"
          }
        }
      ]
    },
    {
      "cell_type": "code",
      "metadata": {
        "id": "EgxISCE6aNLo"
      },
      "source": [
        "def plot_digits(instances, images_per_row=10, **options):\n",
        "    size = 28\n",
        "    images_per_row = min(len(instances), images_per_row)\n",
        "    images = [instance.reshape(size,size) for instance in instances]\n",
        "    n_rows = (len(instances) - 1) // images_per_row + 1\n",
        "    row_images = []\n",
        "    n_empty = n_rows * images_per_row - len(instances)\n",
        "    images.append(np.zeros((size, size * n_empty)))\n",
        "    for row in range(n_rows):\n",
        "        rimages = images[row * images_per_row : (row + 1) * images_per_row]\n",
        "        row_images.append(np.concatenate(rimages, axis=1))\n",
        "    image = np.concatenate(row_images, axis=0)\n",
        "    plt.imshow(image, cmap = mpl.cm.binary, **options)\n",
        "    plt.axis(\"off\")"
      ],
      "execution_count": 46,
      "outputs": []
    },
    {
      "cell_type": "code",
      "metadata": {
        "id": "7K7lcgZPy-bI",
        "outputId": "8dc4c231-2ea5-46c1-fdd7-903ce2d061a7",
        "colab": {
          "base_uri": "https://localhost:8080/",
          "height": 466
        }
      },
      "source": [
        "cl_a, cl_b = 3, 5\n",
        "X_aa = X_train[(y_train == cl_a) & (y_train_pred == cl_a)]\n",
        "X_ab = X_train[(y_train == cl_a) & (y_train_pred == cl_b)]\n",
        "X_ba = X_train[(y_train == cl_b) & (y_train_pred == cl_a)]\n",
        "X_bb = X_train[(y_train == cl_b) & (y_train_pred == cl_b)]\n",
        "\n",
        "plt.figure(figsize=(8, 8))\n",
        "plt.subplot(221); plot_digits(X_aa[:25], images_per_row=5)\n",
        "plt.subplot(222); plot_digits(X_ab[:25], images_per_row=5)\n",
        "plt.subplot(223); plot_digits(X_ba[:25], images_per_row=5)\n",
        "plt.subplot(224); plot_digits(X_bb[:25], images_per_row=5)\n",
        "plt.show()\n",
        "# 왼쪽은 3으로 분류된 이미지, 오른쪽은 5라고 분류된 이미지"
      ],
      "execution_count": 47,
      "outputs": [
        {
          "output_type": "display_data",
          "data": {
            "text/plain": [
              "<Figure size 576x576 with 4 Axes>"
            ],
            "image/png": "[encoded data removed]"
          },
          "metadata": {
            "needs_background": "light"
          }
        }
      ]
    },
    {
      "cell_type": "markdown",
      "metadata": {
        "id": "SpTEXQjorPJj"
      },
      "source": [
        "다중 레이블 분류 (Multilabel classification)"
      ]
    },
    {
      "cell_type": "code",
      "metadata": {
        "id": "xZnvgpX-rOhC",
        "outputId": "e171b00c-6f10-44cd-f7cd-9f68a2f83fd1",
        "colab": {
          "base_uri": "https://localhost:8080/"
        }
      },
      "source": [
        "# 예) 앨리스, 밥, 찰리 얼굴 인식\n",
        "# 엘리스와 찰리가 있는 이미지 -> [1, 0, 1]\n",
        "from sklearn.neighbors import KNeighborsClassifier\n",
        "\n",
        "y_train_large = (y_train >= 7)\n",
        "y_train_odd = (y_train % 2 == 1)\n",
        "y_multilabel = np.c_[y_train_large, y_train_odd] # np.c_ : 1차원 배열 2개를 붙여서 2차원으로 만듬 [1, 2, 3] [a, b, c] -> [[1, a]\n",
        "                                                 #                                                                [2, b]\n",
        "                                                 #                                                                [3, c]]\n",
        "knn_clf = KNeighborsClassifier()\n",
        "knn_clf.fit(X_train, y_multilabel)\n",
        "# [큰 값(7,8,9)인지, 홀수인지]"
      ],
      "execution_count": 48,
      "outputs": [
        {
          "output_type": "execute_result",
          "data": {
            "text/plain": [
              "KNeighborsClassifier()"
            ]
          },
          "metadata": {},
          "execution_count": 48
        }
      ]
    },
    {
      "cell_type": "code",
      "metadata": {
        "id": "muMK7Ts3txLc"
      },
      "source": [
        "# 모든 레이블에 대한 F1 점수의 평균 (모든 레이블의 가중치가 같다고 가정)\n",
        "# 앨리스 사진이 밥이나 찰리보다 많으면 앨리스 사진에 대한 분류기의 점수에 더 높은 가중치를 둠.\n",
        "# 간단한 방법은 레이블에 클래스의 지지도(타깃 레이블에 속한 샘플 수)를 가중치로 주는 것. -> average='weighted'\n",
        "y_train_knn_pred = cross_val_predict(knn_clf, X_train, y_multilabel, cv=3)\n",
        "f1_score(y_multilabel, y_train_knn_pred, average='marco')"
      ],
      "execution_count": null,
      "outputs": []
    },
    {
      "cell_type": "markdown",
      "metadata": {
        "id": "lmBgo_6zvUzH"
      },
      "source": [
        "다중 출력 분류 (Multioutput multiclass classification)"
      ]
    },
    {
      "cell_type": "code",
      "metadata": {
        "id": "OZC9EQ6RvWVk"
      },
      "source": [
        "# 이미지 잡음 제거 분류기\n",
        "# 분류기의 출력이 다중 레이블(픽셀당 한 레이블)이고 각 레이블은 값을 여러개 가집니다.(0~255까지 픽셀 강도)\n",
        "\n",
        "# 이미지 잡음 추가\n",
        "noise = np.random.randint(0, 100, (len(X_train), 784))\n",
        "X_train_mod = X_train + noise\n",
        "noise = np.random.randint(0, 100, (len(X_test), 784))\n",
        "X_test_mod = X_test + noise\n",
        "\n",
        "# 정답은 원본 이미지\n",
        "y_train_mod = X_train\n",
        "y_test_mod = X_test"
      ],
      "execution_count": null,
      "outputs": []
    },
    {
      "cell_type": "code",
      "metadata": {
        "id": "wmkT9F-jyvKv"
      },
      "source": [
        "some_index = 0\n",
        "plt.subplot(121); plot_digit(X_test_mod[some_index])\n",
        "plt.subplot(122); plot_digit(y_test_mod[some_index])\n",
        "#save_fig(\"noisy_digit_example_plot\")\n",
        "plt.show()"
      ],
      "execution_count": null,
      "outputs": []
    },
    {
      "cell_type": "code",
      "metadata": {
        "id": "5kfN_xf0zxr2"
      },
      "source": [
        "knn_clf.fit(X_train_mod, y_train_mod)\n",
        "clean_digit = knn_clf.predict([X_test_mod[some_index]])\n",
        "plot_digit(clean_digit)"
      ],
      "execution_count": null,
      "outputs": []
    },
    {
      "cell_type": "markdown",
      "metadata": {
        "id": "bEyg-VaTJ32R"
      },
      "source": [
        "Practice"
      ]
    },
    {
      "cell_type": "code",
      "metadata": {
        "id": "0_IQ-CcsJ2b2"
      },
      "source": [
        "# 1\n",
        "from sklearn.pipeline import Pipeline\n",
        "from sklearn.preprocessing import StandardScaler\n",
        "from sklearn.model_selection import GridSearchCV\n",
        "from sklearn import metrics\n",
        "\n",
        "# prepared data\n",
        "full_pipeline = Pipeline([\n",
        "        ('std_scaler', StandardScaler())\n",
        "])\n",
        "\n",
        "X_train_prepared = full_pipeline.fit_transform(X_train.astype(np.float64))\n",
        "X_test_prepared = full_pipeline.transform(X_test.astype(np.float64))\n",
        "#\n",
        "\n",
        "# hyper parameter tunning\n",
        "param_grid = {\n",
        "    'weights': ['uniform', 'distance'],\n",
        "    'n_neighbors': [3, 4, 5]\n",
        "}\n",
        "\n",
        "grid_search = GridSearchCV(knn_clf, param_grid, cv=5, verbose=3)\n",
        "\n",
        "grid_search.fit(X_train_prepared, y_train)\n",
        "print(grid_search.best_param_)\n",
        "print(grid_search.best_score_)\n",
        "#\n",
        "\n",
        "# model prediction\n",
        "final_model = grid_search.best_estimator_\n",
        "\n",
        "final_predictions = final_model.predict(X_test_prepared)\n",
        "#\n",
        "\n",
        "# print result\n",
        "print('Test set accuracy: ', metrics.accuracy_score(y_test, final_predictions))\n",
        "\n",
        "from sklearn.metrics import confusion_matrix\n",
        "print(confusion_matrix(y_test, final_predictions))\n",
        "\n",
        "from sklearn.metrics import classification_report\n",
        "print(classification_report(y_test, final_predictions))\n",
        "\n",
        "from sklearn.model_selection import cross_val_score\n",
        "scores = cross_val_score(knn_clf, X_test_prepared, y_test, cv =5)\n",
        "print('Model accuracy: ', np.sqrt(-scores))\n",
        "#"
      ],
      "execution_count": null,
      "outputs": []
    },
    {
      "cell_type": "code",
      "metadata": {
        "id": "V0_Gx6wUcE7z"
      },
      "source": [
        ""
      ],
      "execution_count": null,
      "outputs": []
    }
  ]
}