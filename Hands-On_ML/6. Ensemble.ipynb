{
  "nbformat": 4,
  "nbformat_minor": 0,
  "metadata": {
    "colab": {
      "name": "6. Ensemble.ipynb",
      "provenance": [],
      "collapsed_sections": [],
      "authorship_tag": "ABX9TyOynVrRtEFcdc2J4mta7FiN",
      "include_colab_link": true
    },
    "kernelspec": {
      "name": "python3",
      "display_name": "Python 3"
    },
    "language_info": {
      "name": "python"
    }
  },
  "cells": [
    {
      "cell_type": "markdown",
      "metadata": {
        "id": "view-in-github",
        "colab_type": "text"
      },
      "source": [
        "<a href=\"https://colab.research.google.com/github/essential2189/ML_study/blob/main/Hands-On_ML/6.%20Ensemble.ipynb\" target=\"_parent\"><img src=\"https://colab.research.google.com/assets/colab-badge.svg\" alt=\"Open In Colab\"/></a>"
      ]
    },
    {
      "cell_type": "code",
      "metadata": {
        "id": "WljBw6eP9LEP"
      },
      "source": [
        "from sklearn.datasets import make_moons\n",
        "from sklearn.model_selection import train_test_split\n",
        "\n",
        "X, y = make_moons(n_samples=500, noise=0.3, random_state=42)\n",
        "\n",
        "X_train, X_test, y_train, y_test = train_test_split(X, y, random_state=42)"
      ],
      "execution_count": 1,
      "outputs": []
    },
    {
      "cell_type": "code",
      "metadata": {
        "colab": {
          "base_uri": "https://localhost:8080/"
        },
        "id": "HON93_af8NQs",
        "outputId": "c4182dd2-97dd-45ea-a652-6c0003a8b367"
      },
      "source": [
        "from sklearn.ensemble import RandomForestClassifier\n",
        "from sklearn.ensemble import VotingClassifier\n",
        "from sklearn.linear_model import LogisticRegression\n",
        "from sklearn.svm import SVC\n",
        "\n",
        "log_clf = LogisticRegression(solver=\"lbfgs\", random_state=42)\n",
        "rnd_clf = RandomForestClassifier(n_estimators=100, random_state=42)\n",
        "svm_clf = SVC(gamma=\"scale\", probability=True, random_state=42)  # probability=True : 클래스 확률을 추정하기 위해 교차 검증을 사용하므로 훈련 속도는 느려지지만 SVC에서 predict_proba() 사용 가능)\n",
        "\n",
        "voting_clf = VotingClassifier(\n",
        "    estimators=[('lr', log_clf), ('rf', rnd_clf), ('svc', svm_clf)],\n",
        "    voting='soft' # 모든 분류기가 클래스의 확률을 예측할 수 있으면(predict_proba()가 되면) soft 가능\n",
        ")\n",
        "\n",
        "voting_clf.fit(X_train, y_train)"
      ],
      "execution_count": 2,
      "outputs": [
        {
          "output_type": "execute_result",
          "data": {
            "text/plain": [
              "VotingClassifier(estimators=[('lr',\n",
              "                              LogisticRegression(C=1.0, class_weight=None,\n",
              "                                                 dual=False, fit_intercept=True,\n",
              "                                                 intercept_scaling=1,\n",
              "                                                 l1_ratio=None, max_iter=100,\n",
              "                                                 multi_class='auto',\n",
              "                                                 n_jobs=None, penalty='l2',\n",
              "                                                 random_state=42,\n",
              "                                                 solver='lbfgs', tol=0.0001,\n",
              "                                                 verbose=0, warm_start=False)),\n",
              "                             ('rf',\n",
              "                              RandomForestClassifier(bootstrap=True,\n",
              "                                                     ccp_alpha=0.0,\n",
              "                                                     class_weight=None,\n",
              "                                                     crit...\n",
              "                                                     oob_score=False,\n",
              "                                                     random_state=42, verbose=0,\n",
              "                                                     warm_start=False)),\n",
              "                             ('svc',\n",
              "                              SVC(C=1.0, break_ties=False, cache_size=200,\n",
              "                                  class_weight=None, coef0=0.0,\n",
              "                                  decision_function_shape='ovr', degree=3,\n",
              "                                  gamma='scale', kernel='rbf', max_iter=-1,\n",
              "                                  probability=True, random_state=42,\n",
              "                                  shrinking=True, tol=0.001, verbose=False))],\n",
              "                 flatten_transform=True, n_jobs=None, voting='soft',\n",
              "                 weights=None)"
            ]
          },
          "metadata": {},
          "execution_count": 2
        }
      ]
    },
    {
      "cell_type": "code",
      "metadata": {
        "colab": {
          "base_uri": "https://localhost:8080/"
        },
        "id": "2gK-YBUn9r7v",
        "outputId": "8b1b25ea-f2a6-45b2-8be3-eda2fcea68b7"
      },
      "source": [
        "from sklearn.metrics import accuracy_score\n",
        "\n",
        "for clf in (log_clf, rnd_clf, svm_clf, voting_clf):\n",
        "    clf.fit(X_train, y_train)\n",
        "    y_pred = clf.predict(X_test)\n",
        "    \n",
        "    print(clf.__class__.__name__, accuracy_score(y_test, y_pred))"
      ],
      "execution_count": 3,
      "outputs": [
        {
          "output_type": "stream",
          "name": "stdout",
          "text": [
            "LogisticRegression 0.864\n",
            "RandomForestClassifier 0.896\n",
            "SVC 0.896\n",
            "VotingClassifier 0.92\n"
          ]
        }
      ]
    },
    {
      "cell_type": "code",
      "metadata": {
        "colab": {
          "base_uri": "https://localhost:8080/"
        },
        "id": "5s4ucOYv-CPM",
        "outputId": "ce03d140-9c25-4fca-9c89-b52f69bb3c35"
      },
      "source": [
        "from sklearn.ensemble import BaggingClassifier\n",
        "from sklearn.tree import DecisionTreeClassifier\n",
        "\n",
        "bag_clf = BaggingClassifier(\n",
        "    DecisionTreeClassifier(), n_estimators=500,\n",
        "    max_samples=100, bootstrap=True, n_jobs=-1,\n",
        "    random_state=42\n",
        ")\n",
        "\n",
        "bag_clf.fit(X_train, y_train)\n",
        "y_pred = bag_clf.predict(X_test)\n",
        "accuracy_score(y_test, y_pred)"
      ],
      "execution_count": 4,
      "outputs": [
        {
          "output_type": "execute_result",
          "data": {
            "text/plain": [
              "0.904"
            ]
          },
          "metadata": {},
          "execution_count": 4
        }
      ]
    },
    {
      "cell_type": "code",
      "metadata": {
        "colab": {
          "base_uri": "https://localhost:8080/"
        },
        "id": "Sk-o8JytL2lz",
        "outputId": "7036d4f8-3721-4281-ebc1-d97c3edf9d53"
      },
      "source": [
        "from sklearn.ensemble import BaggingClassifier\n",
        "from sklearn.tree import DecisionTreeClassifier\n",
        "\n",
        "bag_clf2 = BaggingClassifier(\n",
        "    DecisionTreeClassifier(), n_estimators=500,\n",
        "    bootstrap=True, n_jobs=-1, oob_score=True,\n",
        "    random_state=42\n",
        ")\n",
        "\n",
        "bag_clf2.fit(X_train, y_train)\n",
        "print(bag_clf2.oob_score_)\n",
        "y_pred2 = bag_clf2.predict(X_test)\n",
        "accuracy_score(y_test, y_pred2)"
      ],
      "execution_count": 5,
      "outputs": [
        {
          "output_type": "stream",
          "name": "stdout",
          "text": [
            "0.8986666666666666\n"
          ]
        },
        {
          "output_type": "execute_result",
          "data": {
            "text/plain": [
              "0.912"
            ]
          },
          "metadata": {},
          "execution_count": 5
        }
      ]
    },
    {
      "cell_type": "code",
      "metadata": {
        "colab": {
          "base_uri": "https://localhost:8080/"
        },
        "id": "J9a3Msf6VfYV",
        "outputId": "665bf979-a29f-47b9-d9bb-0c8e066ed99e"
      },
      "source": [
        "bag_clf2.oob_decision_function_"
      ],
      "execution_count": 6,
      "outputs": [
        {
          "output_type": "execute_result",
          "data": {
            "text/plain": [
              "array([[0.32352941, 0.67647059],\n",
              "       [0.35625   , 0.64375   ],\n",
              "       [1.        , 0.        ],\n",
              "       [0.        , 1.        ],\n",
              "       [0.        , 1.        ],\n",
              "       [0.06145251, 0.93854749],\n",
              "       [0.35465116, 0.64534884],\n",
              "       [0.01142857, 0.98857143],\n",
              "       [0.98930481, 0.01069519],\n",
              "       [0.97409326, 0.02590674],\n",
              "       [0.7370892 , 0.2629108 ],\n",
              "       [0.0049505 , 0.9950495 ],\n",
              "       [0.75      , 0.25      ],\n",
              "       [0.82681564, 0.17318436],\n",
              "       [0.98461538, 0.01538462],\n",
              "       [0.06315789, 0.93684211],\n",
              "       [0.00490196, 0.99509804],\n",
              "       [0.99004975, 0.00995025],\n",
              "       [0.92513369, 0.07486631],\n",
              "       [1.        , 0.        ],\n",
              "       [0.03409091, 0.96590909],\n",
              "       [0.34502924, 0.65497076],\n",
              "       [0.91666667, 0.08333333],\n",
              "       [1.        , 0.        ],\n",
              "       [0.96319018, 0.03680982],\n",
              "       [0.        , 1.        ],\n",
              "       [1.        , 0.        ],\n",
              "       [1.        , 0.        ],\n",
              "       [0.        , 1.        ],\n",
              "       [0.65420561, 0.34579439],\n",
              "       [0.        , 1.        ],\n",
              "       [1.        , 0.        ],\n",
              "       [0.0049505 , 0.9950495 ],\n",
              "       [0.        , 1.        ],\n",
              "       [0.19148936, 0.80851064],\n",
              "       [1.        , 0.        ],\n",
              "       [0.00591716, 0.99408284],\n",
              "       [0.39751553, 0.60248447],\n",
              "       [0.        , 1.        ],\n",
              "       [1.        , 0.        ],\n",
              "       [0.23463687, 0.76536313],\n",
              "       [0.32777778, 0.67222222],\n",
              "       [1.        , 0.        ],\n",
              "       [1.        , 0.        ],\n",
              "       [0.        , 1.        ],\n",
              "       [1.        , 0.        ],\n",
              "       [1.        , 0.        ],\n",
              "       [0.02906977, 0.97093023],\n",
              "       [1.        , 0.        ],\n",
              "       [0.01183432, 0.98816568],\n",
              "       [0.97916667, 0.02083333],\n",
              "       [0.88297872, 0.11702128],\n",
              "       [0.94054054, 0.05945946],\n",
              "       [0.9558011 , 0.0441989 ],\n",
              "       [0.        , 1.        ],\n",
              "       [0.06122449, 0.93877551],\n",
              "       [0.98026316, 0.01973684],\n",
              "       [0.        , 1.        ],\n",
              "       [0.        , 1.        ],\n",
              "       [0.01005025, 0.98994975],\n",
              "       [0.98857143, 0.01142857],\n",
              "       [0.81868132, 0.18131868],\n",
              "       [0.45303867, 0.54696133],\n",
              "       [1.        , 0.        ],\n",
              "       [0.        , 1.        ],\n",
              "       [0.70860927, 0.29139073],\n",
              "       [1.        , 0.        ],\n",
              "       [1.        , 0.        ],\n",
              "       [0.84745763, 0.15254237],\n",
              "       [1.        , 0.        ],\n",
              "       [0.60526316, 0.39473684],\n",
              "       [0.12222222, 0.87777778],\n",
              "       [0.6284153 , 0.3715847 ],\n",
              "       [0.9017341 , 0.0982659 ],\n",
              "       [0.        , 1.        ],\n",
              "       [0.17204301, 0.82795699],\n",
              "       [0.90055249, 0.09944751],\n",
              "       [1.        , 0.        ],\n",
              "       [0.        , 1.        ],\n",
              "       [1.        , 0.        ],\n",
              "       [0.00540541, 0.99459459],\n",
              "       [0.05780347, 0.94219653],\n",
              "       [0.02312139, 0.97687861],\n",
              "       [0.34337349, 0.65662651],\n",
              "       [1.        , 0.        ],\n",
              "       [0.        , 1.        ],\n",
              "       [0.82954545, 0.17045455],\n",
              "       [0.        , 1.        ],\n",
              "       [0.        , 1.        ],\n",
              "       [0.        , 1.        ],\n",
              "       [0.21276596, 0.78723404],\n",
              "       [1.        , 0.        ],\n",
              "       [0.        , 1.        ],\n",
              "       [0.        , 1.        ],\n",
              "       [0.        , 1.        ],\n",
              "       [0.95811518, 0.04188482],\n",
              "       [0.81675393, 0.18324607],\n",
              "       [0.        , 1.        ],\n",
              "       [1.        , 0.        ],\n",
              "       [0.25274725, 0.74725275],\n",
              "       [0.56470588, 0.43529412],\n",
              "       [0.        , 1.        ],\n",
              "       [0.04255319, 0.95744681],\n",
              "       [0.50543478, 0.49456522],\n",
              "       [1.        , 0.        ],\n",
              "       [0.01704545, 0.98295455],\n",
              "       [0.98913043, 0.01086957],\n",
              "       [0.20903955, 0.79096045],\n",
              "       [0.44692737, 0.55307263],\n",
              "       [1.        , 0.        ],\n",
              "       [0.01570681, 0.98429319],\n",
              "       [0.98901099, 0.01098901],\n",
              "       [0.25698324, 0.74301676],\n",
              "       [0.87719298, 0.12280702],\n",
              "       [1.        , 0.        ],\n",
              "       [1.        , 0.        ],\n",
              "       [0.        , 1.        ],\n",
              "       [0.        , 1.        ],\n",
              "       [0.78285714, 0.21714286],\n",
              "       [1.        , 0.        ],\n",
              "       [0.00578035, 0.99421965],\n",
              "       [1.        , 0.        ],\n",
              "       [1.        , 0.        ],\n",
              "       [1.        , 0.        ],\n",
              "       [0.98895028, 0.01104972],\n",
              "       [0.99447514, 0.00552486],\n",
              "       [0.        , 1.        ],\n",
              "       [0.96039604, 0.03960396],\n",
              "       [0.99497487, 0.00502513],\n",
              "       [0.01092896, 0.98907104],\n",
              "       [0.15662651, 0.84337349],\n",
              "       [0.95918367, 0.04081633],\n",
              "       [0.32727273, 0.67272727],\n",
              "       [0.98924731, 0.01075269],\n",
              "       [0.        , 1.        ],\n",
              "       [0.        , 1.        ],\n",
              "       [0.7251462 , 0.2748538 ],\n",
              "       [0.35632184, 0.64367816],\n",
              "       [0.4       , 0.6       ],\n",
              "       [0.85326087, 0.14673913],\n",
              "       [0.95918367, 0.04081633],\n",
              "       [0.06878307, 0.93121693],\n",
              "       [0.8030303 , 0.1969697 ],\n",
              "       [0.        , 1.        ],\n",
              "       [0.        , 1.        ],\n",
              "       [0.03508772, 0.96491228],\n",
              "       [0.98342541, 0.01657459],\n",
              "       [1.        , 0.        ],\n",
              "       [1.        , 0.        ],\n",
              "       [0.0052356 , 0.9947644 ],\n",
              "       [0.        , 1.        ],\n",
              "       [0.01932367, 0.98067633],\n",
              "       [0.        , 1.        ],\n",
              "       [1.        , 0.        ],\n",
              "       [1.        , 0.        ],\n",
              "       [0.95402299, 0.04597701],\n",
              "       [1.        , 0.        ],\n",
              "       [1.        , 0.        ],\n",
              "       [1.        , 0.        ],\n",
              "       [0.        , 1.        ],\n",
              "       [0.38674033, 0.61325967],\n",
              "       [0.27717391, 0.72282609],\n",
              "       [0.01117318, 0.98882682],\n",
              "       [0.        , 1.        ],\n",
              "       [0.30729167, 0.69270833],\n",
              "       [1.        , 0.        ],\n",
              "       [0.99378882, 0.00621118],\n",
              "       [0.        , 1.        ],\n",
              "       [1.        , 0.        ],\n",
              "       [0.        , 1.        ],\n",
              "       [0.        , 1.        ],\n",
              "       [0.98295455, 0.01704545],\n",
              "       [0.        , 1.        ],\n",
              "       [0.        , 1.        ],\n",
              "       [1.        , 0.        ],\n",
              "       [0.00502513, 0.99497487],\n",
              "       [0.61271676, 0.38728324],\n",
              "       [0.91747573, 0.08252427],\n",
              "       [0.        , 1.        ],\n",
              "       [1.        , 0.        ],\n",
              "       [0.99516908, 0.00483092],\n",
              "       [1.        , 0.        ],\n",
              "       [0.        , 1.        ],\n",
              "       [0.        , 1.        ],\n",
              "       [1.        , 0.        ],\n",
              "       [0.06930693, 0.93069307],\n",
              "       [1.        , 0.        ],\n",
              "       [0.05405405, 0.94594595],\n",
              "       [0.        , 1.        ],\n",
              "       [1.        , 0.        ],\n",
              "       [0.        , 1.        ],\n",
              "       [0.04294479, 0.95705521],\n",
              "       [1.        , 0.        ],\n",
              "       [0.93229167, 0.06770833],\n",
              "       [0.73295455, 0.26704545],\n",
              "       [0.61212121, 0.38787879],\n",
              "       [0.        , 1.        ],\n",
              "       [0.12244898, 0.87755102],\n",
              "       [1.        , 0.        ],\n",
              "       [0.95731707, 0.04268293],\n",
              "       [0.96855346, 0.03144654],\n",
              "       [1.        , 0.        ],\n",
              "       [0.02272727, 0.97727273],\n",
              "       [0.        , 1.        ],\n",
              "       [0.39664804, 0.60335196],\n",
              "       [0.85082873, 0.14917127],\n",
              "       [0.        , 1.        ],\n",
              "       [0.        , 1.        ],\n",
              "       [0.99408284, 0.00591716],\n",
              "       [0.00520833, 0.99479167],\n",
              "       [0.00540541, 0.99459459],\n",
              "       [0.96111111, 0.03888889],\n",
              "       [0.        , 1.        ],\n",
              "       [0.30808081, 0.69191919],\n",
              "       [0.        , 1.        ],\n",
              "       [1.        , 0.        ],\n",
              "       [0.00595238, 0.99404762],\n",
              "       [0.        , 1.        ],\n",
              "       [0.96236559, 0.03763441],\n",
              "       [0.80246914, 0.19753086],\n",
              "       [0.995     , 0.005     ],\n",
              "       [0.00543478, 0.99456522],\n",
              "       [0.04411765, 0.95588235],\n",
              "       [1.        , 0.        ],\n",
              "       [0.02808989, 0.97191011],\n",
              "       [0.        , 1.        ],\n",
              "       [0.05405405, 0.94594595],\n",
              "       [1.        , 0.        ],\n",
              "       [0.83888889, 0.16111111],\n",
              "       [0.        , 1.        ],\n",
              "       [0.8988764 , 0.1011236 ],\n",
              "       [0.99450549, 0.00549451],\n",
              "       [0.18857143, 0.81142857],\n",
              "       [0.22651934, 0.77348066],\n",
              "       [1.        , 0.        ],\n",
              "       [0.        , 1.        ],\n",
              "       [0.00549451, 0.99450549],\n",
              "       [0.        , 1.        ],\n",
              "       [0.23684211, 0.76315789],\n",
              "       [0.95744681, 0.04255319],\n",
              "       [0.00507614, 0.99492386],\n",
              "       [1.        , 0.        ],\n",
              "       [1.        , 0.        ],\n",
              "       [0.        , 1.        ],\n",
              "       [0.43956044, 0.56043956],\n",
              "       [1.        , 0.        ],\n",
              "       [0.        , 1.        ],\n",
              "       [1.        , 0.        ],\n",
              "       [0.        , 1.        ],\n",
              "       [0.        , 1.        ],\n",
              "       [0.04712042, 0.95287958],\n",
              "       [0.0982659 , 0.9017341 ],\n",
              "       [0.97959184, 0.02040816],\n",
              "       [0.02185792, 0.97814208],\n",
              "       [1.        , 0.        ],\n",
              "       [0.35106383, 0.64893617],\n",
              "       [0.13793103, 0.86206897],\n",
              "       [0.54891304, 0.45108696],\n",
              "       [0.65656566, 0.34343434],\n",
              "       [0.00558659, 0.99441341],\n",
              "       [1.        , 0.        ],\n",
              "       [0.        , 1.        ],\n",
              "       [0.        , 1.        ],\n",
              "       [0.64622642, 0.35377358],\n",
              "       [0.        , 1.        ],\n",
              "       [1.        , 0.        ],\n",
              "       [0.22164948, 0.77835052],\n",
              "       [0.81094527, 0.18905473],\n",
              "       [0.03012048, 0.96987952],\n",
              "       [1.        , 0.        ],\n",
              "       [0.86387435, 0.13612565],\n",
              "       [0.        , 1.        ],\n",
              "       [0.00518135, 0.99481865],\n",
              "       [0.09137056, 0.90862944],\n",
              "       [0.00598802, 0.99401198],\n",
              "       [0.        , 1.        ],\n",
              "       [1.        , 0.        ],\n",
              "       [0.94318182, 0.05681818],\n",
              "       [0.15697674, 0.84302326],\n",
              "       [0.95897436, 0.04102564],\n",
              "       [0.01630435, 0.98369565],\n",
              "       [0.57923497, 0.42076503],\n",
              "       [0.07526882, 0.92473118],\n",
              "       [1.        , 0.        ],\n",
              "       [0.78723404, 0.21276596],\n",
              "       [0.        , 1.        ],\n",
              "       [1.        , 0.        ],\n",
              "       [0.93684211, 0.06315789],\n",
              "       [0.        , 1.        ],\n",
              "       [0.        , 1.        ],\n",
              "       [1.        , 0.        ],\n",
              "       [0.        , 1.        ],\n",
              "       [1.        , 0.        ],\n",
              "       [0.23560209, 0.76439791],\n",
              "       [0.99418605, 0.00581395],\n",
              "       [1.        , 0.        ],\n",
              "       [0.        , 1.        ],\n",
              "       [0.        , 1.        ],\n",
              "       [0.84831461, 0.15168539],\n",
              "       [0.        , 1.        ],\n",
              "       [1.        , 0.        ],\n",
              "       [0.78723404, 0.21276596],\n",
              "       [0.92391304, 0.07608696],\n",
              "       [1.        , 0.        ],\n",
              "       [0.68852459, 0.31147541],\n",
              "       [0.4973262 , 0.5026738 ],\n",
              "       [0.        , 1.        ],\n",
              "       [0.88953488, 0.11046512],\n",
              "       [0.        , 1.        ],\n",
              "       [1.        , 0.        ],\n",
              "       [0.9010989 , 0.0989011 ],\n",
              "       [1.        , 0.        ],\n",
              "       [1.        , 0.        ],\n",
              "       [0.72636816, 0.27363184],\n",
              "       [0.10227273, 0.89772727],\n",
              "       [0.47560976, 0.52439024],\n",
              "       [0.24210526, 0.75789474],\n",
              "       [0.        , 1.        ],\n",
              "       [0.84782609, 0.15217391],\n",
              "       [0.80927835, 0.19072165],\n",
              "       [0.        , 1.        ],\n",
              "       [1.        , 0.        ],\n",
              "       [0.99465241, 0.00534759],\n",
              "       [1.        , 0.        ],\n",
              "       [0.        , 1.        ],\n",
              "       [0.03431373, 0.96568627],\n",
              "       [0.95959596, 0.04040404],\n",
              "       [0.94797688, 0.05202312],\n",
              "       [1.        , 0.        ],\n",
              "       [0.52542373, 0.47457627],\n",
              "       [1.        , 0.        ],\n",
              "       [0.0106383 , 0.9893617 ],\n",
              "       [0.99453552, 0.00546448],\n",
              "       [0.02659574, 0.97340426],\n",
              "       [1.        , 0.        ],\n",
              "       [1.        , 0.        ],\n",
              "       [1.        , 0.        ],\n",
              "       [0.        , 1.        ],\n",
              "       [0.98275862, 0.01724138],\n",
              "       [0.        , 1.        ],\n",
              "       [0.07894737, 0.92105263],\n",
              "       [0.        , 1.        ],\n",
              "       [0.        , 1.        ],\n",
              "       [1.        , 0.        ],\n",
              "       [1.        , 0.        ],\n",
              "       [0.        , 1.        ],\n",
              "       [1.        , 0.        ],\n",
              "       [0.00564972, 0.99435028],\n",
              "       [1.        , 0.        ],\n",
              "       [0.13559322, 0.86440678],\n",
              "       [0.        , 1.        ],\n",
              "       [0.        , 1.        ],\n",
              "       [0.        , 1.        ],\n",
              "       [0.37125749, 0.62874251],\n",
              "       [0.0923913 , 0.9076087 ],\n",
              "       [0.23255814, 0.76744186],\n",
              "       [1.        , 0.        ],\n",
              "       [0.98181818, 0.01818182],\n",
              "       [0.17777778, 0.82222222],\n",
              "       [0.9902439 , 0.0097561 ],\n",
              "       [0.        , 1.        ],\n",
              "       [0.        , 1.        ],\n",
              "       [1.        , 0.        ],\n",
              "       [0.96511628, 0.03488372],\n",
              "       [0.33714286, 0.66285714],\n",
              "       [0.98843931, 0.01156069],\n",
              "       [1.        , 0.        ],\n",
              "       [0.        , 1.        ],\n",
              "       [1.        , 0.        ],\n",
              "       [0.        , 1.        ],\n",
              "       [0.02139037, 0.97860963],\n",
              "       [1.        , 0.        ],\n",
              "       [1.        , 0.        ],\n",
              "       [0.03076923, 0.96923077],\n",
              "       [0.64516129, 0.35483871]])"
            ]
          },
          "metadata": {},
          "execution_count": 6
        }
      ]
    },
    {
      "cell_type": "code",
      "metadata": {
        "colab": {
          "base_uri": "https://localhost:8080/"
        },
        "id": "IFAVKaPaW2Vv",
        "outputId": "7378a2b9-2936-4969-ee01-11a0104ee58f"
      },
      "source": [
        "from sklearn.ensemble import RandomForestClassifier\n",
        "\n",
        "rnd_clf = RandomForestClassifier(n_estimators=500, max_leaf_nodes=16, n_jobs=-1, random_state=42)\n",
        "rnd_clf.fit(X_train, y_train)\n",
        "\n",
        "y_pred_rf = rnd_clf.predict(X_test)\n",
        "accuracy_score(y_test, y_pred_rf)"
      ],
      "execution_count": 7,
      "outputs": [
        {
          "output_type": "execute_result",
          "data": {
            "text/plain": [
              "0.912"
            ]
          },
          "metadata": {},
          "execution_count": 7
        }
      ]
    },
    {
      "cell_type": "code",
      "metadata": {
        "id": "QcnWFYdbbG3N"
      },
      "source": [
        "bag_clf = BaggingClassifier(\n",
        "    DecisionTreeClassifier(max_features='sqrt', max_leaf_nodes=16),\n",
        "    n_estimators=500, random_state=42\n",
        ")"
      ],
      "execution_count": 8,
      "outputs": []
    },
    {
      "cell_type": "code",
      "metadata": {
        "id": "mogjod2dgGQm"
      },
      "source": [
        "bag_clf.fit(X_train, y_train)\n",
        "y_pred = bag_clf.predict(X_test)"
      ],
      "execution_count": 9,
      "outputs": []
    },
    {
      "cell_type": "code",
      "metadata": {
        "colab": {
          "base_uri": "https://localhost:8080/"
        },
        "id": "u6zEfBGjh6zY",
        "outputId": "dc0efcee-3ba0-42e8-d47c-98623e5db43c"
      },
      "source": [
        "import numpy as np\n",
        "\n",
        "np.sum(y_pred2 == y_pred_rf) / len(y_pred2)"
      ],
      "execution_count": 10,
      "outputs": [
        {
          "output_type": "execute_result",
          "data": {
            "text/plain": [
              "0.936"
            ]
          },
          "metadata": {},
          "execution_count": 10
        }
      ]
    },
    {
      "cell_type": "code",
      "metadata": {
        "colab": {
          "base_uri": "https://localhost:8080/"
        },
        "id": "LtHR3lsHqV56",
        "outputId": "80001878-b026-4995-ae54-85fd58777ac0"
      },
      "source": [
        "from sklearn.datasets import load_iris\n",
        "\n",
        "iris = load_iris()\n",
        "\n",
        "rnd_clf = RandomForestClassifier(n_estimators=500, n_jobs=-1, random_state=42)\n",
        "rnd_clf.fit(iris['data'], iris['target'])\n",
        "\n",
        "for name, score in zip(iris['feature_names'], rnd_clf.feature_importances_):\n",
        "    print(name, score)"
      ],
      "execution_count": 11,
      "outputs": [
        {
          "output_type": "stream",
          "name": "stdout",
          "text": [
            "sepal length (cm) 0.11249225099876375\n",
            "sepal width (cm) 0.02311928828251033\n",
            "petal length (cm) 0.4410304643639577\n",
            "petal width (cm) 0.4233579963547682\n"
          ]
        }
      ]
    },
    {
      "cell_type": "code",
      "metadata": {
        "id": "iqKB-Wqo4YKV",
        "colab": {
          "base_uri": "https://localhost:8080/"
        },
        "outputId": "0823dd34-9262-426d-e906-81816947f43b"
      },
      "source": [
        "from sklearn.ensemble import AdaBoostClassifier\n",
        "\n",
        "ada_clf = AdaBoostClassifier(\n",
        "    DecisionTreeClassifier(max_depth=1), n_estimators=200,\n",
        "    algorithm='SAMME.R', learning_rate=0.5, random_state=42\n",
        ")\n",
        "\n",
        "ada_clf.fit(X_train, y_train)\n",
        "\n",
        "y_pred_ada = ada_clf.predict(X_test)\n",
        "accuracy_score(y_test, y_pred_ada)"
      ],
      "execution_count": 16,
      "outputs": [
        {
          "output_type": "execute_result",
          "data": {
            "text/plain": [
              "0.896"
            ]
          },
          "metadata": {},
          "execution_count": 16
        }
      ]
    },
    {
      "cell_type": "code",
      "metadata": {
        "colab": {
          "base_uri": "https://localhost:8080/"
        },
        "id": "7vIel5pHVoHe",
        "outputId": "5eff0df4-839f-416f-fd94-671ab5a7c2d6"
      },
      "source": [
        "np.random.seed(42)\n",
        "X = np.random.rand(100, 1) - 0.5\n",
        "y = 3*X[:, 0]**2 + 0.05 * np.random.randn(100)\n",
        "\n",
        "from sklearn.tree import DecisionTreeRegressor\n",
        "\n",
        "tree_reg1 = DecisionTreeRegressor(max_depth=2)\n",
        "tree_reg1.fit(X, y)\n",
        "\n",
        "y2 = y - tree_reg1.predict(X)\n",
        "tree_reg2 = DecisionTreeRegressor(max_depth=2)\n",
        "tree_reg2.fit(X, y2)\n",
        "\n",
        "y3 = y2 - tree_reg2.predict(X)\n",
        "tree_reg3 = DecisionTreeRegressor(max_depth=2)\n",
        "tree_reg3.fit(X, y3)"
      ],
      "execution_count": 28,
      "outputs": [
        {
          "output_type": "execute_result",
          "data": {
            "text/plain": [
              "DecisionTreeRegressor(ccp_alpha=0.0, criterion='mse', max_depth=2,\n",
              "                      max_features=None, max_leaf_nodes=None,\n",
              "                      min_impurity_decrease=0.0, min_impurity_split=None,\n",
              "                      min_samples_leaf=1, min_samples_split=2,\n",
              "                      min_weight_fraction_leaf=0.0, presort='deprecated',\n",
              "                      random_state=None, splitter='best')"
            ]
          },
          "metadata": {},
          "execution_count": 28
        }
      ]
    },
    {
      "cell_type": "code",
      "metadata": {
        "colab": {
          "base_uri": "https://localhost:8080/"
        },
        "id": "6di2IoSlXEwf",
        "outputId": "7c295c96-e8a3-495a-a22d-6899bda9921f"
      },
      "source": [
        "X_new = np.array([[0.8]])\n",
        "\n",
        "y_pred = sum(tree.predict(X_new) for tree in (tree_reg1, tree_reg2, tree_reg3))\n",
        "\n",
        "y_pred"
      ],
      "execution_count": 26,
      "outputs": [
        {
          "output_type": "execute_result",
          "data": {
            "text/plain": [
              "array([0.75026781])"
            ]
          },
          "metadata": {},
          "execution_count": 26
        }
      ]
    },
    {
      "cell_type": "code",
      "metadata": {
        "colab": {
          "base_uri": "https://localhost:8080/"
        },
        "id": "vne5x1GrXR9b",
        "outputId": "0e927eda-c319-4f69-dedc-7bf096a66603"
      },
      "source": [
        "print(tree_reg1.predict(X_new), tree_reg2.predict(X_new), tree_reg3.predict(X_new))"
      ],
      "execution_count": 25,
      "outputs": [
        {
          "output_type": "stream",
          "name": "stdout",
          "text": [
            "[0.52856846] [0.03991297] [0.18178637]\n"
          ]
        }
      ]
    },
    {
      "cell_type": "code",
      "metadata": {
        "colab": {
          "base_uri": "https://localhost:8080/"
        },
        "id": "ESg8HyY6ZAWW",
        "outputId": "5f2a6b39-08bc-4c28-d8cb-e3012ce3100f"
      },
      "source": [
        "# 위에 만든 것과 같은 앙상블 모델\n",
        "from sklearn.ensemble import GradientBoostingRegressor\n",
        "\n",
        "gbrt = GradientBoostingRegressor(max_depth=2, n_estimators=3, learning_rate=1.0, random_state=42)\n",
        "gbrt.fit(X, y)"
      ],
      "execution_count": 29,
      "outputs": [
        {
          "output_type": "execute_result",
          "data": {
            "text/plain": [
              "GradientBoostingRegressor(alpha=0.9, ccp_alpha=0.0, criterion='friedman_mse',\n",
              "                          init=None, learning_rate=1.0, loss='ls', max_depth=2,\n",
              "                          max_features=None, max_leaf_nodes=None,\n",
              "                          min_impurity_decrease=0.0, min_impurity_split=None,\n",
              "                          min_samples_leaf=1, min_samples_split=2,\n",
              "                          min_weight_fraction_leaf=0.0, n_estimators=3,\n",
              "                          n_iter_no_change=None, presort='deprecated',\n",
              "                          random_state=42, subsample=1.0, tol=0.0001,\n",
              "                          validation_fraction=0.1, verbose=0, warm_start=False)"
            ]
          },
          "metadata": {},
          "execution_count": 29
        }
      ]
    },
    {
      "cell_type": "code",
      "metadata": {
        "colab": {
          "base_uri": "https://localhost:8080/"
        },
        "id": "ers5mSq6bo8a",
        "outputId": "69200e34-4e84-47ef-a77c-a1963f613dd7"
      },
      "source": [
        "gbrt.predict(X_new)"
      ],
      "execution_count": 30,
      "outputs": [
        {
          "output_type": "execute_result",
          "data": {
            "text/plain": [
              "array([0.75026781])"
            ]
          },
          "metadata": {},
          "execution_count": 30
        }
      ]
    },
    {
      "cell_type": "code",
      "metadata": {
        "id": "NrnA3o5fbtsg"
      },
      "source": [
        "import numpy as np\n",
        "from sklearn.model_selection import train_test_split\n",
        "from sklearn.metrics import mean_squared_error\n",
        "\n",
        "X_train, X_val, y_train, y_val = train_test_split(X, y)\n",
        "\n",
        "gbrt = GradientBoostingRegressor(max_depth=2, n_estimators=120)\n"
      ],
      "execution_count": null,
      "outputs": []
    }
  ]
}