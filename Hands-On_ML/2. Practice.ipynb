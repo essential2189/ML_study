{
  "nbformat": 4,
  "nbformat_minor": 0,
  "metadata": {
    "colab": {
      "name": "2. Practice.ipynb",
      "provenance": [],
      "authorship_tag": "ABX9TyNeINz9JWohaZ18fVUDw+zF"
    },
    "kernelspec": {
      "name": "python3",
      "display_name": "Python 3"
    },
    "language_info": {
      "name": "python"
    }
  },
  "cells": [
    {
      "cell_type": "code",
      "metadata": {
        "id": "6aZIITIIhMJA"
      },
      "source": [
        "# 1\n",
        "from sklearn.pipeline import Pipeline\n",
        "from sklearn.preprocessing import StandardScaler\n",
        "from sklearn.model_selection import GridSearchCV\n",
        "from sklearn import metrics\n",
        "\n",
        "# prepared data\n",
        "full_pipeline = Pipeline([\n",
        "        ('std_scaler', StandardScaler())\n",
        "])\n",
        "\n",
        "X_train_prepared = full_pipeline.fit_transform(X_train.astype(np.float64))\n",
        "X_test_prepared = full_pipeline.transform(X_test.astype(np.float64))\n",
        "#\n",
        "\n",
        "# hyper parameter tunning\n",
        "param_grid = {\n",
        "    'weights': ['uniform', 'distance'],\n",
        "    'n_neighbors': [3, 4, 5]\n",
        "}\n",
        "\n",
        "grid_search = GridSearchCV(knn_clf, param_grid, cv=5, verbose=3)\n",
        "\n",
        "grid_search.fit(X_train_prepared, y_train)\n",
        "print(grid_search.best_param_)\n",
        "print(grid_search.best_score_)\n",
        "#\n",
        "\n",
        "# model prediction\n",
        "final_model = grid_search.best_estimator_\n",
        "\n",
        "final_predictions = final_model.predict(X_test_prepared)\n",
        "#\n",
        "\n",
        "# print result\n",
        "print('Test set accuracy: ', metrics.accuracy_score(y_test, final_predictions))\n",
        "\n",
        "from sklearn.metrics import confusion_matrix\n",
        "print(confusion_matrix(y_test, final_predictions))\n",
        "\n",
        "from sklearn.metrics import classification_report\n",
        "print(classification_report(y_test, final_predictions))\n",
        "\n",
        "from sklearn.model_selection import cross_val_score\n",
        "scores = cross_val_score(knn_clf, X_test_prepared, y_test, cv =5)\n",
        "print('Model accuracy: ', np.sqrt(-scores))\n",
        "#"
      ],
      "execution_count": null,
      "outputs": []
    }
  ]
}