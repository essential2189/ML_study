{
  "nbformat": 4,
  "nbformat_minor": 0,
  "metadata": {
    "colab": {
      "name": "2. Practice.ipynb",
      "provenance": [],
      "authorship_tag": "ABX9TyPYjfWjPTGB4gv6/TIRWecM"
    },
    "kernelspec": {
      "name": "python3",
      "display_name": "Python 3"
    },
    "language_info": {
      "name": "python"
    }
  },
  "cells": [
    {
      "cell_type": "code",
      "metadata": {
        "id": "ltC3_OOThtO0"
      },
      "source": [
        "import os\n",
        "import numpy as np\n",
        "import pandas as pd\n",
        "\n",
        "from sklearn.datasets import fetch_openml"
      ],
      "execution_count": 1,
      "outputs": []
    },
    {
      "cell_type": "code",
      "metadata": {
        "id": "8yUyCtC_hsgp"
      },
      "source": [
        "mnist = fetch_openml('mnist_784', version=1)\n",
        "X, y = mnist['data'], mnist['target']\n",
        "y = y.astype(np.uint8)\n",
        "X_train, X_test, y_train, y_test = X[:60000], X[60000:], y[:60000], y[60000:]"
      ],
      "execution_count": 2,
      "outputs": []
    },
    {
      "cell_type": "code",
      "metadata": {
        "colab": {
          "base_uri": "https://localhost:8080/"
        },
        "id": "6aZIITIIhMJA",
        "outputId": "bfb04cc7-b7ca-4cf6-a06f-483050a51563"
      },
      "source": [
        "# 1\n",
        "from sklearn.pipeline import Pipeline\n",
        "from sklearn.preprocessing import StandardScaler\n",
        "from sklearn.model_selection import GridSearchCV\n",
        "from sklearn import metrics\n",
        "from sklearn.neighbors import KNeighborsClassifier\n",
        "\n",
        "knn_clf = KNeighborsClassifier()\n",
        "# prepared data\n",
        "# full_pipeline = Pipeline([\n",
        "#         ('std_scaler', StandardScaler())\n",
        "# ])\n",
        "\n",
        "# X_train_prepared = full_pipeline.fit_transform(X_train.astype(np.float64))\n",
        "# X_test_prepared = full_pipeline.transform(X_test.astype(np.float64))\n",
        "# print('End Prepared')\n",
        "#\n",
        "# StandardScale을 하면 정확도가 더 낮아짐\n",
        "\n",
        "# hyper parameter tunning\n",
        "param_grid = {\n",
        "    'weights': ['distance'], # ['uniform', 'distance'],\n",
        "    'n_neighbors': [4]       # [3, 4, 5] 시간 절약\n",
        "}\n",
        "\n",
        "print('Start Search')\n",
        "grid_search = GridSearchCV(knn_clf, param_grid, cv=5, verbose=1, n_jobs=-1)\n",
        "print('End Search, Start Fit')\n",
        "grid_search.fit(X_train, y_train)\n",
        "print(grid_search.best_params_)\n",
        "print(grid_search.best_score_)\n",
        "#\n",
        "\n",
        "# model prediction\n",
        "final_model = grid_search.best_estimator_\n",
        "\n",
        "final_predictions = final_model.predict(X_test)\n",
        "#\n",
        "\n",
        "# print result\n",
        "print('Test set accuracy: ', metrics.accuracy_score(y_test, final_predictions))\n",
        "\n",
        "# from sklearn.metrics import confusion_matrix\n",
        "# print(confusion_matrix(y_test, final_predictions))\n",
        "\n",
        "from sklearn.metrics import classification_report\n",
        "print(classification_report(y_test, final_predictions))\n",
        "\n",
        "# from sklearn.model_selection import cross_val_score\n",
        "# scores = cross_val_score(knn_clf, X_test_prepared, y_test, cv =5, n_jobs=-1)\n",
        "# print('Model accuracy: ', np.sqrt(-scores))\n",
        "#"
      ],
      "execution_count": 3,
      "outputs": [
        {
          "output_type": "stream",
          "name": "stdout",
          "text": [
            "Start Search\n",
            "End Search, Start Fit\n",
            "Fitting 5 folds for each of 1 candidates, totalling 5 fits\n"
          ]
        },
        {
          "output_type": "stream",
          "name": "stderr",
          "text": [
            "[Parallel(n_jobs=-1)]: Using backend LokyBackend with 16 concurrent workers.\n",
            "[Parallel(n_jobs=-1)]: Done   5 out of   5 | elapsed: 13.0min finished\n"
          ]
        },
        {
          "output_type": "stream",
          "name": "stdout",
          "text": [
            "{'n_neighbors': 4, 'weights': 'distance'}\n",
            "0.9716166666666666\n",
            "Test set accuracy:  0.9714\n",
            "              precision    recall  f1-score   support\n",
            "\n",
            "           0       0.97      0.99      0.98       980\n",
            "           1       0.97      1.00      0.98      1135\n",
            "           2       0.98      0.96      0.97      1032\n",
            "           3       0.97      0.96      0.97      1010\n",
            "           4       0.98      0.97      0.97       982\n",
            "           5       0.96      0.97      0.96       892\n",
            "           6       0.98      0.99      0.98       958\n",
            "           7       0.96      0.97      0.96      1028\n",
            "           8       0.99      0.94      0.97       974\n",
            "           9       0.96      0.96      0.96      1009\n",
            "\n",
            "    accuracy                           0.97     10000\n",
            "   macro avg       0.97      0.97      0.97     10000\n",
            "weighted avg       0.97      0.97      0.97     10000\n",
            "\n"
          ]
        }
      ]
    },
    {
      "cell_type": "code",
      "metadata": {
        "colab": {
          "base_uri": "https://localhost:8080/"
        },
        "id": "5sANi3I_J7gn",
        "outputId": "bb0b34e9-a66b-4f54-a802-68187902c044"
      },
      "source": [
        "import joblib\n",
        "\n",
        "joblib.dump(final_model, 'mnist_model.pkl')"
      ],
      "execution_count": 4,
      "outputs": [
        {
          "output_type": "execute_result",
          "data": {
            "text/plain": [
              "['mnist_model.pkl']"
            ]
          },
          "metadata": {},
          "execution_count": 4
        }
      ]
    },
    {
      "cell_type": "code",
      "metadata": {
        "id": "7Y-oZy82i-le"
      },
      "source": [
        "# 2\n",
        "from scipy.ndimage.interpolation import shift\n",
        "\n",
        "def shift_image(image, dx, dy):\n",
        "    image = image.reshape((28, 28))\n",
        "    shifted_image = shift(image, [dy, dx], cval=0, mode='constant')\n",
        "    return shifted_image.reshape([-1])"
      ],
      "execution_count": 5,
      "outputs": []
    },
    {
      "cell_type": "code",
      "metadata": {
        "id": "yslAQsD0E71Y"
      },
      "source": [
        "X_train_augmented = [image for image in X_train]\n",
        "y_train_augmented = [label for label in y_train]\n",
        "\n",
        "for dx, dy in ((1, 0), (-1, 0), (0, 1), (0, -1)):\n",
        "    for image, label in zip(X_train, y_train):\n",
        "        X_train_augmented.append(shift_image(image, dx, dy))\n",
        "        y_train_augmented.append(label)\n",
        "\n",
        "X_train_augmented = np.array(X_train_augmented)\n",
        "y_train_augmented = np.array(y_train_augmented)"
      ],
      "execution_count": 7,
      "outputs": []
    },
    {
      "cell_type": "code",
      "metadata": {
        "colab": {
          "base_uri": "https://localhost:8080/"
        },
        "id": "yJ76zVpYIpRl",
        "outputId": "39c770e3-d24c-4094-8100-6539581ed678"
      },
      "source": [
        "shuffle_idx = np.random.permutation(len(X_train_augmented))\n",
        "print(shuffle_idx)\n",
        "X_train_augmented = X_train_augmented[shuffle_idx]\n",
        "y_train_augmented = y_train_augmented[shuffle_idx]"
      ],
      "execution_count": 8,
      "outputs": [
        {
          "output_type": "stream",
          "name": "stdout",
          "text": [
            "[125412  74095 107370 ...  57100   3377 146030]\n"
          ]
        }
      ]
    },
    {
      "cell_type": "code",
      "metadata": {
        "colab": {
          "base_uri": "https://localhost:8080/"
        },
        "id": "HqvAVOT3y3Bi",
        "outputId": "99236df0-2710-435a-cd63-c8713d70f157"
      },
      "source": [
        "# a = np.array([1, 2, 3, 4, 5])\n",
        "# s = np.random.permutation(len(a))\n",
        "# print(a)\n",
        "# print(s)\n",
        "# a_s = a[s]\n",
        "# print(a_s)"
      ],
      "execution_count": 15,
      "outputs": [
        {
          "output_type": "stream",
          "name": "stdout",
          "text": [
            "[1 2 3 4 5]\n",
            "[0 2 4 3 1]\n",
            "[1 3 5 4 2]\n"
          ]
        }
      ]
    },
    {
      "cell_type": "code",
      "metadata": {
        "colab": {
          "base_uri": "https://localhost:8080/"
        },
        "id": "pG8Y8mObQjqP",
        "outputId": "7a33a3bd-0292-4eb8-9f27-4d43e20ef7c2"
      },
      "source": [
        "final_model.fit(X_train_augmented, y_train_augmented)\n",
        "\n",
        "y_pred = final_model.predict(X_test)\n",
        "print('Test set accuracy: ', metrics.accuracy_score(y_test, final_predictions))"
      ],
      "execution_count": 16,
      "outputs": [
        {
          "output_type": "stream",
          "name": "stdout",
          "text": [
            "Test set accuracy:  0.9714\n"
          ]
        }
      ]
    },
    {
      "cell_type": "code",
      "metadata": {
        "id": "xNQP4FmrzRzi"
      },
      "source": [
        ""
      ],
      "execution_count": null,
      "outputs": []
    }
  ]
}