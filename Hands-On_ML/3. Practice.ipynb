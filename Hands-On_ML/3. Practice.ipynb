{
  "nbformat": 4,
  "nbformat_minor": 0,
  "metadata": {
    "colab": {
      "name": "3. Practice.ipynb",
      "provenance": [],
      "collapsed_sections": [],
      "authorship_tag": "ABX9TyO+CJQDBylFVZlhSGSW0gno",
      "include_colab_link": true
    },
    "kernelspec": {
      "name": "python3",
      "display_name": "Python 3"
    },
    "language_info": {
      "name": "python"
    }
  },
  "cells": [
    {
      "cell_type": "markdown",
      "metadata": {
        "id": "view-in-github",
        "colab_type": "text"
      },
      "source": [
        "<a href=\"https://colab.research.google.com/github/essential2189/ML_study/blob/main/Hands-On_ML/3.%20Practice.ipynb\" target=\"_parent\"><img src=\"https://colab.research.google.com/assets/colab-badge.svg\" alt=\"Open In Colab\"/></a>"
      ]
    },
    {
      "cell_type": "code",
      "metadata": {
        "id": "dOaBJ2rvCBp6"
      },
      "source": [
        "from sklearn import datasets\n",
        "\n",
        "iris = datasets.load_iris()\n",
        "\n",
        "X = iris['data'][:, (2, 3)]  # 꽃잎 길이, 꽃잎 너비\n",
        "y = iris['target']"
      ],
      "execution_count": 15,
      "outputs": []
    },
    {
      "cell_type": "code",
      "metadata": {
        "id": "4CQ-5UZFDlZG"
      },
      "source": [
        "import numpy as np\n",
        "\n",
        "X_b = np.c_[np.ones([len(X), 1]), X]"
      ],
      "execution_count": 16,
      "outputs": []
    },
    {
      "cell_type": "code",
      "metadata": {
        "id": "Q1GMuXbyEbmp"
      },
      "source": [
        "np.random.seed(2042)"
      ],
      "execution_count": 17,
      "outputs": []
    },
    {
      "cell_type": "code",
      "metadata": {
        "id": "Q5wgb1xyF1Ff"
      },
      "source": [
        "# train_test_split()\n",
        "\n",
        "test_ratio = 0.2\n",
        "val_ratio = 0.2\n",
        "total_size = len(X_b)\n",
        "\n",
        "test_size = int(total_size * test_ratio)\n",
        "val_size = int(total_size * val_ratio)\n",
        "train_size = total_size - test_size - val_size\n",
        "\n",
        "rand_indices = np.random.permutation(total_size)\n",
        "\n",
        "X_train = X_b[rand_indices[:train_size]]\n",
        "y_train = y[rand_indices[:train_size]]\n",
        "\n",
        "X_val = X_b[rand_indices[train_size:-test_size]]\n",
        "y_val = y[rand_indices[train_size:-test_size]]\n",
        "\n",
        "X_test = X_b[rand_indices[-test_size:]]\n",
        "y_test = y[rand_indices[-test_size:]]"
      ],
      "execution_count": 18,
      "outputs": []
    },
    {
      "cell_type": "markdown",
      "metadata": {
        "id": "p0nuM_rJ-gqV"
      },
      "source": [
        "타깃은 클래스 인덱스(0, 1 그리고 2)이지만 소프트맥스 회귀 모델을 훈련시키기 위해 필요한 것은 타깃 클래스의 확률입니다. 각 샘플에서 확률이 1인 타깃 클래스를 제외한 다른 클래스의 확률은 0입니다(다른 말로하면 주어진 샘플에 대한 클래스 확률이 원-핫 벡터입니다). 클래스 인덱스를 원-핫 벡터로 바꾸는 간단한 함수를 작성하겠습니다:"
      ]
    },
    {
      "cell_type": "code",
      "metadata": {
        "id": "XszSEuUsGAk7",
        "colab": {
          "base_uri": "https://localhost:8080/"
        },
        "outputId": "d70c8837-a76f-42f4-e630-5e84421544bc"
      },
      "source": [
        "# def to_one_hot(y):\n",
        "#     y_one_hot = []\n",
        "#     for i in y:\n",
        "#         if i == 0:\n",
        "#             y_one_hot.append([1., 0., 0.])\n",
        "#         elif i == 1:\n",
        "#             y_one_hot.append([0., 1., 0.])\n",
        "#         else :\n",
        "#             y_one_hot.append([0., 0., 1.])\n",
        "    \n",
        "#     return np.array(y_one_hot)\n",
        "\n",
        "def to_one_hot(y):\n",
        "    n_classes = y.max() + 1\n",
        "    m = len(y)\n",
        "    Y_one_hot = np.zeros((m, n_classes))\n",
        "    Y_one_hot[np.arange(m), y] = 1\n",
        "    return Y_one_hot\n",
        "\n",
        "y_one_hot = to_one_hot(y_train)\n",
        "\n",
        "print(y_train[:10])\n",
        "print(y_one_hot[:10])"
      ],
      "execution_count": 19,
      "outputs": [
        {
          "output_type": "stream",
          "name": "stdout",
          "text": [
            "[0 1 2 1 1 0 1 1 1 0]\n",
            "[[1. 0. 0.]\n",
            " [0. 1. 0.]\n",
            " [0. 0. 1.]\n",
            " [0. 1. 0.]\n",
            " [0. 1. 0.]\n",
            " [1. 0. 0.]\n",
            " [0. 1. 0.]\n",
            " [0. 1. 0.]\n",
            " [0. 1. 0.]\n",
            " [1. 0. 0.]]\n"
          ]
        }
      ]
    },
    {
      "cell_type": "code",
      "metadata": {
        "id": "OUAK5RRK8_Ku"
      },
      "source": [
        "y_train_one_hot = to_one_hot(y_train)\n",
        "y_val_one_hot = to_one_hot(y_val)\n",
        "y_test_one_hot = to_one_hot(y_test)"
      ],
      "execution_count": 20,
      "outputs": []
    },
    {
      "cell_type": "code",
      "metadata": {
        "id": "vpXpacFU-YCV"
      },
      "source": [
        "def softmax(logits):\n",
        "    exps = np.exp(logits)\n",
        "    exp_sum = np.sum(exps, axis=1, keepdims=True)\n",
        "    return exps / exp_sum"
      ],
      "execution_count": 21,
      "outputs": []
    },
    {
      "cell_type": "markdown",
      "metadata": {
        "id": "rHz571f7COzJ"
      },
      "source": [
        ""
      ]
    },
    {
      "cell_type": "code",
      "metadata": {
        "id": "tSqkuyQh_gO-"
      },
      "source": [
        "n_inputs = X_train.shape[1]  # == 3 (특성 2개와 편향)\n",
        "n_outputs = len(np.unique(y_train)) # == 3 (3개의 클래스)"
      ],
      "execution_count": 22,
      "outputs": []
    },
    {
      "cell_type": "markdown",
      "metadata": {
        "id": "DTl1HY0pCK3X"
      },
      "source": [
        "구현할 공식은 비용함수입니다:\n",
        "\n",
        "$J(\\mathbf{\\Theta}) = \\dfrac{1}{m}\\sum\\limits{i=1}^{m}\\sum\\limits{k=1}^{K}{y_k^{(i)}\\log\\left(\\hat{p}_k^{(i)}\\right)}$\n",
        "\n",
        "그리고 그레이디언트 공식입니다:\n",
        "\n",
        "$\\nabla_{\\mathbf{\\theta}^{(k)}} \\, J(\\mathbf{\\Theta}) = \\dfrac{1}{m} \\sum\\limits_{i=1}^{m}{ \\left ( \\hat{p}^{(i)}_k - y_k^{(i)} \\right ) \\mathbf{x}^{(i)}}$\n",
        "\n",
        "$\\hat{p}_k^{(i)} = 0$이면 $\\log\\left(\\hat{p}_k^{(i)}\\right)$를 계산할 수 없습니다. nan 값을 피하기 위해 $\\log\\left(\\hat{p}_k^{(i)}\\right)$에 아주 작은 값 $\\epsilon$을 추가하겠습니다."
      ]
    },
    {
      "cell_type": "code",
      "metadata": {
        "colab": {
          "base_uri": "https://localhost:8080/"
        },
        "id": "BmbCjRnSA3TR",
        "outputId": "705be283-fda1-44ed-fc03-89b7601d82ea"
      },
      "source": [
        "eta = 0.01\n",
        "n_iterations = 5001\n",
        "m = len(X_train)\n",
        "epsilon = 1e-7\n",
        "\n",
        "theta = np.random.randn(n_inputs, n_outputs) # 각 클래스의 자신만의 파라미터 벡터\n",
        "\n",
        "for iteration in range(n_iterations):\n",
        "    logits = X_train.dot(theta)\n",
        "    y_proba = softmax(logits)\n",
        "    if iteration % 500 == 0:\n",
        "        loss = -np.mean(np.sum(y_train_one_hot * np.log(y_proba + epsilon), axis=1))\n",
        "        print(iteration, loss)\n",
        "    error = y_proba - y_train_one_hot\n",
        "    gradient = 1/m * X_train.T.dot(error)\n",
        "    theta = theta - eta * gradient"
      ],
      "execution_count": 71,
      "outputs": [
        {
          "output_type": "stream",
          "name": "stdout",
          "text": [
            "0 4.118468786961103\n",
            "500 0.9183158910249943\n",
            "1000 0.7294970535998123\n",
            "1500 0.6224781453137698\n",
            "2000 0.5562808240506528\n",
            "2500 0.5112888167984184\n",
            "3000 0.4782932023959629\n",
            "3500 0.4526699203400584\n",
            "4000 0.43190441561514575\n",
            "4500 0.4145265461932198\n",
            "5000 0.3996220659502455\n"
          ]
        }
      ]
    },
    {
      "cell_type": "code",
      "metadata": {
        "colab": {
          "base_uri": "https://localhost:8080/"
        },
        "id": "DcKt9cYPS3Hs",
        "outputId": "ce2f412f-2232-4c83-e920-1f4264de3934"
      },
      "source": [
        "a = [[1, 2, 3],\n",
        "     [4, 5, 6],\n",
        "     [7, 8, 9]]\n",
        "\n",
        "np.sum(a, axis=1)"
      ],
      "execution_count": 64,
      "outputs": [
        {
          "output_type": "execute_result",
          "data": {
            "text/plain": [
              "array([ 6, 15, 24])"
            ]
          },
          "metadata": {},
          "execution_count": 64
        }
      ]
    },
    {
      "cell_type": "code",
      "metadata": {
        "colab": {
          "base_uri": "https://localhost:8080/"
        },
        "id": "vhaHBnndCfHd",
        "outputId": "a09d89e5-f2ce-43cb-8b45-eddc942031b5"
      },
      "source": [
        "theta # 모델 파라미터"
      ],
      "execution_count": 24,
      "outputs": [
        {
          "output_type": "execute_result",
          "data": {
            "text/plain": [
              "array([[ 3.32094157, -0.6501102 , -2.99979416],\n",
              "       [-1.1718465 ,  0.11706172,  0.10507543],\n",
              "       [-0.70224261, -0.09527802,  1.4786383 ]])"
            ]
          },
          "metadata": {},
          "execution_count": 24
        }
      ]
    },
    {
      "cell_type": "code",
      "metadata": {
        "colab": {
          "base_uri": "https://localhost:8080/"
        },
        "id": "Yj_DBBjUJ1-A",
        "outputId": "c6271f50-bd8c-43c3-8162-b0a89b733979"
      },
      "source": [
        "logits = X_val.dot(theta)\n",
        "y_proba = softmax(logits)\n",
        "y_predict = np.argmax(y_proba, axis=1)\n",
        "\n",
        "accuracy = np.mean(y_predict == y_val)\n",
        "accuracy"
      ],
      "execution_count": 82,
      "outputs": [
        {
          "output_type": "execute_result",
          "data": {
            "text/plain": [
              "0.9666666666666667"
            ]
          },
          "metadata": {},
          "execution_count": 82
        }
      ]
    },
    {
      "cell_type": "code",
      "metadata": {
        "colab": {
          "base_uri": "https://localhost:8080/"
        },
        "id": "D4wOFRsbK39Y",
        "outputId": "353e95b0-64b8-492c-ae83-e1e6f6807a34"
      },
      "source": [
        "# 모델 규제 L2 추가\n",
        "\n",
        "eta = 0.1\n",
        "n_iteration = 5001\n",
        "m - len(X_train)\n",
        "epsilon = 1e-7\n",
        "alpha = 0.1 # 규제 파라미터\n",
        "\n",
        "theta = np.random.randn(n_inputs, n_outputs)\n",
        "\n",
        "for iteration in range(n_iterations):\n",
        "    logits = X_train.dot(theta)\n",
        "    y_proba = softmax(logits)\n",
        "    if iteration % 500 == 0:\n",
        "        l2_loss = 1/2 * np.sum(np.square(theta[1:])) # theta의 첫번째 원소는 편향, 편향은 규제 안함\n",
        "        xentropy_loss = -np.mean(np.sum(y_train_one_hot * np.log(y_proba + epsilon), axis=1))\n",
        "        loss = xentropy_loss + alpha * l2_loss\n",
        "        print(iteration, loss)\n",
        "    error = y_proba - y_train_one_hot\n",
        "    gradient = 1/m * X_train.T.dot(error) + np.r_[np.zeros([1, n_outputs]), alpha * theta[1:]]\n",
        "    theta = theta - eta * gradient"
      ],
      "execution_count": 99,
      "outputs": [
        {
          "output_type": "stream",
          "name": "stdout",
          "text": [
            "0 4.934361509040076\n",
            "500 0.5127507160185013\n",
            "1000 0.49776928721591013\n",
            "1500 0.49250853401337347\n",
            "2000 0.4904070302180274\n",
            "2500 0.4895191770517823\n",
            "3000 0.48913246621138595\n",
            "3500 0.48896094662973855\n",
            "4000 0.4888840042166466\n",
            "4500 0.4888492359003981\n",
            "5000 0.4888334498655774\n"
          ]
        }
      ]
    },
    {
      "cell_type": "code",
      "metadata": {
        "colab": {
          "base_uri": "https://localhost:8080/"
        },
        "id": "xljHt25bOL6r",
        "outputId": "32642396-8406-47a0-bd58-7546a141def1"
      },
      "source": [
        "theta"
      ],
      "execution_count": 27,
      "outputs": [
        {
          "output_type": "execute_result",
          "data": {
            "text/plain": [
              "array([[ 4.97985231,  1.04812068, -4.23604635],\n",
              "       [-1.09769275,  0.12541575,  0.972277  ],\n",
              "       [-0.43733964, -0.13642992,  0.57376956]])"
            ]
          },
          "metadata": {},
          "execution_count": 27
        }
      ]
    },
    {
      "cell_type": "code",
      "metadata": {
        "colab": {
          "base_uri": "https://localhost:8080/"
        },
        "id": "YQPGOOHkNrqT",
        "outputId": "08231068-848e-427a-a080-520013646208"
      },
      "source": [
        "logits = X_val.dot(theta)\n",
        "y_proba = softmax(logits)\n",
        "y_predict = np.argmax(y_proba, axis=1)\n",
        "\n",
        "accuracy = np.mean(y_predict == y_val)\n",
        "accuracy"
      ],
      "execution_count": 28,
      "outputs": [
        {
          "output_type": "execute_result",
          "data": {
            "text/plain": [
              "1.0"
            ]
          },
          "metadata": {},
          "execution_count": 28
        }
      ]
    },
    {
      "cell_type": "code",
      "metadata": {
        "colab": {
          "base_uri": "https://localhost:8080/"
        },
        "id": "VwY6Xd7BN3qW",
        "outputId": "f08f6f88-4613-4a25-c219-01f182d8ecb0"
      },
      "source": [
        "# Early Stopping\n",
        "\n",
        "eta = 0.1\n",
        "n_iterations = 5001\n",
        "m = len(X_train)\n",
        "epsilon = 1e-7\n",
        "alpha = 0.1 # 규제 파라미터\n",
        "best_loss = np.inf\n",
        "\n",
        "theta = np.random.randn(n_inputs, n_outputs)\n",
        "\n",
        "for iteration in range(n_iterations):\n",
        "    logits = X_train.dot(theta)\n",
        "    y_proba = softmax(logits)\n",
        "    error = y_proba - y_train_one_hot\n",
        "    gradient = 1/m * X_train.T.dot(error) + np.r_[np.zeros([1, n_outputs]), alpha * theta[1:]]\n",
        "    theta = theta - eta * gradient\n",
        "\n",
        "    logits = X_val.dot(theta)\n",
        "    y_proba = softmax(logits)\n",
        "    xentropy_loss = -np.mean(np.sum(y_val_one_hot * np.log(y_proba + epsilon), axis=1))\n",
        "    l2_loss = 1/2 * np.sum(np.square(theta[1:]))\n",
        "    loss = xentropy_loss + alpha * l2_loss\n",
        "\n",
        "    if iteration % 500 == 0:\n",
        "        print(iteration, loss)\n",
        "    if loss < best_loss:\n",
        "        best_loss = loss\n",
        "    else:\n",
        "        print(iteration - 1, best_loss)\n",
        "        print(iteration, loss, 'early stop')\n",
        "        break\n",
        "\n",
        "    \n"
      ],
      "execution_count": 101,
      "outputs": [
        {
          "output_type": "stream",
          "name": "stdout",
          "text": [
            "0 3.6423303260344753\n",
            "500 0.5656755324219853\n",
            "1000 0.5414029033812122\n",
            "1500 0.5349709696974339\n",
            "2000 0.5330328032626565\n",
            "2500 0.5325684639738317\n",
            "2691 0.532545048319842\n",
            "2692 0.5325450492740429 early stop\n"
          ]
        }
      ]
    },
    {
      "cell_type": "code",
      "metadata": {
        "colab": {
          "base_uri": "https://localhost:8080/"
        },
        "id": "skh4cViAPtrp",
        "outputId": "427e0618-cc27-47d3-84e1-6cb45ac4679f"
      },
      "source": [
        "logits = X_val.dot(theta)\n",
        "y_proba = softmax(logits)\n",
        "y_predict = np.argmax(y_proba, axis=1)\n",
        "\n",
        "accuracy = np.mean(y_val == y_predict)\n",
        "accuracy"
      ],
      "execution_count": 108,
      "outputs": [
        {
          "output_type": "execute_result",
          "data": {
            "text/plain": [
              "1.0"
            ]
          },
          "metadata": {},
          "execution_count": 108
        }
      ]
    },
    {
      "cell_type": "code",
      "metadata": {
        "colab": {
          "base_uri": "https://localhost:8080/",
          "height": 287
        },
        "id": "ul7qfVo0Q3ye",
        "outputId": "63349678-0e99-4f47-db96-238a93960805"
      },
      "source": [
        "import matplotlib.pyplot as plt\n",
        "\n",
        "x0, x1 = np.meshgrid(\n",
        "        np.linspace(0, 8, 500).reshape(-1, 1),\n",
        "        np.linspace(0, 3.5, 200).reshape(-1, 1),\n",
        "    )\n",
        "X_new = np.c_[x0.ravel(), x1.ravel()]\n",
        "X_new_with_bias = np.c_[np.ones([len(X_new), 1]), X_new]\n",
        "\n",
        "logits = X_new_with_bias.dot(theta)\n",
        "Y_proba = softmax(logits)\n",
        "y_predict = np.argmax(Y_proba, axis=1)\n",
        "\n",
        "zz1 = Y_proba[:, 1].reshape(x0.shape)\n",
        "zz = y_predict.reshape(x0.shape)\n",
        "\n",
        "plt.figure(figsize=(10, 4))\n",
        "plt.plot(X[y==2, 0], X[y==2, 1], \"g^\", label=\"Iris virginica\")\n",
        "plt.plot(X[y==1, 0], X[y==1, 1], \"bs\", label=\"Iris versicolor\")\n",
        "plt.plot(X[y==0, 0], X[y==0, 1], \"yo\", label=\"Iris setosa\")\n",
        "\n",
        "from matplotlib.colors import ListedColormap\n",
        "custom_cmap = ListedColormap(['#fafab0','#9898ff','#a0faa0'])\n",
        "\n",
        "plt.contourf(x0, x1, zz, cmap=custom_cmap)\n",
        "contour = plt.contour(x0, x1, zz1, cmap=plt.cm.brg)\n",
        "plt.clabel(contour, inline=1, fontsize=12)\n",
        "plt.xlabel(\"Petal length\", fontsize=14)\n",
        "plt.ylabel(\"Petal width\", fontsize=14)\n",
        "plt.legend(loc=\"upper left\", fontsize=14)\n",
        "plt.axis([0, 7, 0, 3.5])\n",
        "plt.show()"
      ],
      "execution_count": 111,
      "outputs": [
        {
          "output_type": "display_data",
          "data": {
            "text/plain": [
              "<Figure size 720x288 with 1 Axes>"
            ],
            "image/png": "[encoded data removed]"
          },
          "metadata": {
            "needs_background": "light"
          }
        }
      ]
    },
    {
      "cell_type": "code",
      "metadata": {
        "colab": {
          "base_uri": "https://localhost:8080/"
        },
        "id": "Q8NobXwsRrk0",
        "outputId": "216a6b37-0236-4dd0-d029-008399180336"
      },
      "source": [
        "logits = X_test.dot(theta)\n",
        "y_proba = softmax(logits)\n",
        "y_predict = np.argmax(y_proba, axis=1)\n",
        "\n",
        "accuracy = np.mean(y_predict == y_test)\n",
        "accuracy"
      ],
      "execution_count": 114,
      "outputs": [
        {
          "output_type": "execute_result",
          "data": {
            "text/plain": [
              "0.9333333333333333"
            ]
          },
          "metadata": {},
          "execution_count": 114
        }
      ]
    },
    {
      "cell_type": "code",
      "metadata": {
        "id": "L4I7zSlFSHh0"
      },
      "source": [
        ""
      ],
      "execution_count": null,
      "outputs": []
    }
  ]
}