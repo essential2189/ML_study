{
  "nbformat": 4,
  "nbformat_minor": 0,
  "metadata": {
    "colab": {
      "name": "3. Practice.ipynb",
      "provenance": [],
      "authorship_tag": "ABX9TyM1KH7VQlONIoCalDrXtwYI",
      "include_colab_link": true
    },
    "kernelspec": {
      "name": "python3",
      "display_name": "Python 3"
    },
    "language_info": {
      "name": "python"
    }
  },
  "cells": [
    {
      "cell_type": "markdown",
      "metadata": {
        "id": "view-in-github",
        "colab_type": "text"
      },
      "source": [
        "<a href=\"https://colab.research.google.com/github/essential2189/ML_study/blob/main/Hands-On_ML/3.%20Practice.ipynb\" target=\"_parent\"><img src=\"https://colab.research.google.com/assets/colab-badge.svg\" alt=\"Open In Colab\"/></a>"
      ]
    },
    {
      "cell_type": "code",
      "metadata": {
        "id": "dOaBJ2rvCBp6"
      },
      "source": [
        "from sklearn import datasets\n",
        "\n",
        "iris = datasets.load_iris()\n",
        "\n",
        "X = iris['data'][:, (2, 3)]  # 꽃잎 길이, 꽃잎 너비\n",
        "y = iris['target']"
      ],
      "execution_count": 34,
      "outputs": []
    },
    {
      "cell_type": "code",
      "metadata": {
        "id": "4CQ-5UZFDlZG"
      },
      "source": [
        "import numpy as np\n",
        "\n",
        "X_b = np.c_[np.ones([len(X), 1]), X]"
      ],
      "execution_count": 35,
      "outputs": []
    },
    {
      "cell_type": "code",
      "metadata": {
        "id": "Q1GMuXbyEbmp"
      },
      "source": [
        "np.random.seed(42)"
      ],
      "execution_count": 36,
      "outputs": []
    },
    {
      "cell_type": "code",
      "metadata": {
        "id": "Q5wgb1xyF1Ff"
      },
      "source": [
        "# train_test_split()\n",
        "\n",
        "test_ratio = 0.2\n",
        "val_ratio = 0.2\n",
        "total_size = len(X_b)\n",
        "\n",
        "test_size = int(total_size * test_ratio)\n",
        "val_size = int(total_size * val_ratio)\n",
        "train_size = total_size - test_size - val_size\n",
        "\n",
        "rand_indices = np.random.permutation(total_size)\n",
        "\n",
        "X_train = X_b[rand_indices[:train_size]]\n",
        "y_train = y[rand_indices[:train_size]]\n",
        "\n",
        "X_val = X_b[rand_indices[train_size:-test_size]]\n",
        "y_val = y[rand_indices[train_size:-test_size]]\n",
        "\n",
        "X_test = X_b[rand_indices[-test_size:]]\n",
        "y_test = y[rand_indices[-test_size:]]"
      ],
      "execution_count": 66,
      "outputs": []
    },
    {
      "cell_type": "code",
      "metadata": {
        "id": "XszSEuUsGAk7"
      },
      "source": [
        ""
      ],
      "execution_count": null,
      "outputs": []
    }
  ]
}